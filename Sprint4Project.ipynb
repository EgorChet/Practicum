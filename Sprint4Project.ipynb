{
 "cells": [
  {
   "cell_type": "markdown",
   "id": "c8584d94",
   "metadata": {},
   "source": [
    "<div style=\"border:solid green 2px; padding: 20px\">\n",
    "<b>Егор, привет!</b>\n",
    "\n",
    "    \n",
    "Меня зовут Лина, я буду проверять твой проект. Предлагаю общаться на «ты», но если это не удобно, дай мне знать и мы передем на \"вы\". \n",
    "\n",
    "Моя цель — сделать твой проект еще лучше!\n",
    "\n",
    "Ниже ты найдешь мои комментарии - пожалуйста, не удаляй их, они будут особенно полезны для нашей работы в случае повторной проверки проекта. \n",
    "    \n",
    "Я буду использовать следующую цветовую разметку:\n",
    "<div class=\"alert alert-success\">\n",
    "<b>✅ Комментарий ревьюера: </b> Так выделены комментарии, если решение на отдельном шаге является полностью правильным.</div>\n",
    "    \n",
    "<div class=\"alert alert-warning\">\n",
    "<b>⚠️ Комментарий ревьюера:  </b> Так выделены небольшие замечания, либо рекоммендации к улучшению. Исправлять их не обязательно. Буду писать их, когда решение на отдельном шаге станет еще лучше, если внести небольшие коррективы.\n",
    "\n",
    "</div>\n",
    "\n",
    "<div class=\"alert alert-danger\">\n",
    "<b>❌ Комментарий ревьюера: </b> Так выделены самые важные замечания. Без их отработки проект не будет принят. </div>\n",
    "\n",
    "Если ты что-то меняешь в проекте или отвечаешь на мои комменатри — пиши об этом. Мне будет легче отследить изменения, если ты выделишь свои комментарии:\n",
    "<div class=\"alert alert-info\"> <b>Комментарий студента:</b> Например, вот так.</div>\n",
    "\n",
    "Всё это поможет выполнить повторную проверку твоего проекта оперативнее."
   ]
  },
  {
   "cell_type": "markdown",
   "id": "386f2ae7",
   "metadata": {
    "deletable": false,
    "editable": false,
    "id": "386f2ae7"
   },
   "source": [
    "# Исследование надежности заемщиков\n"
   ]
  },
  {
   "cell_type": "markdown",
   "id": "ffe86f65",
   "metadata": {
    "deletable": false,
    "editable": false,
    "id": "ffe86f65"
   },
   "source": [
    "Во второй части проекта вы выполните шаги 3 и 4. Их вручную проверит ревьюер.\n",
    "Чтобы вам не пришлось писать код заново для шагов 1 и 2, мы добавили авторские решения в ячейки с кодом. \n",
    "\n"
   ]
  },
  {
   "cell_type": "markdown",
   "id": "efff6135",
   "metadata": {},
   "source": [
    "<div class=\"alert alert-warning\">\n",
    "<b>⚠️ Комментарий ревьюера v1: </b> \n",
    "    \n",
    "Несмотря на то, что первая часть проекта проверяется автоматизрованно, дам по ней пару советов, они пригодятся тебе в следующих проектах. \n",
    "\n",
    "**Их отработка сейчас необязательна**.\n",
    "\n",
    "- После названия обязательно нужно добавить цели исследования, описание данных и план работы.   \n",
    "- Каждый шаг работы стоит завершать кратким выводом: что было сделано, какие результаты получены.\n",
    "\n",
    "Ты можешь воспользоваться методичкой по оформлению проектов. Ее можно найти в блоке курса: `Полезные инструкции для учёбы - Оформление проекта - Рекомендации по выполнению проектов`\n",
    "\n",
    " </div>"
   ]
  },
  {
   "cell_type": "markdown",
   "id": "26613308",
   "metadata": {
    "deletable": false,
    "editable": false,
    "id": "26613308"
   },
   "source": [
    "## Откройте таблицу и изучите общую информацию о данных"
   ]
  },
  {
   "cell_type": "markdown",
   "id": "3c9f838e",
   "metadata": {
    "deletable": false,
    "editable": false,
    "id": "3c9f838e"
   },
   "source": [
    "**Задание 1. Импортируйте библиотеку pandas. Считайте данные из csv-файла в датафрейм и сохраните в переменную `data`. Путь к файлу:**\n",
    "\n",
    "`/datasets/data.csv`"
   ]
  },
  {
   "cell_type": "code",
   "execution_count": 1,
   "id": "77a68a90",
   "metadata": {
    "deletable": false,
    "id": "77a68a90",
    "scrolled": true
   },
   "outputs": [],
   "source": [
    "import pandas as pd\n",
    "\n",
    "try:\n",
    "    data = pd.read_csv('/datasets/data.csv')\n",
    "except:\n",
    "    data = pd.read_csv('https://code.s3.yandex.net/datasets/data.csv')"
   ]
  },
  {
   "cell_type": "markdown",
   "id": "45365635",
   "metadata": {
    "deletable": false,
    "editable": false,
    "id": "45365635"
   },
   "source": [
    "**Задание 2. Выведите первые 20 строчек датафрейма `data` на экран.**"
   ]
  },
  {
   "cell_type": "code",
   "execution_count": 2,
   "id": "b0451a9a",
   "metadata": {
    "deletable": false,
    "id": "b0451a9a",
    "outputId": "1a8f3ef2-d323-4ec2-ddf7-89670b5944c4",
    "scrolled": true
   },
   "outputs": [
    {
     "data": {
      "text/html": [
       "<div>\n",
       "<style scoped>\n",
       "    .dataframe tbody tr th:only-of-type {\n",
       "        vertical-align: middle;\n",
       "    }\n",
       "\n",
       "    .dataframe tbody tr th {\n",
       "        vertical-align: top;\n",
       "    }\n",
       "\n",
       "    .dataframe thead th {\n",
       "        text-align: right;\n",
       "    }\n",
       "</style>\n",
       "<table border=\"1\" class=\"dataframe\">\n",
       "  <thead>\n",
       "    <tr style=\"text-align: right;\">\n",
       "      <th></th>\n",
       "      <th>children</th>\n",
       "      <th>days_employed</th>\n",
       "      <th>dob_years</th>\n",
       "      <th>education</th>\n",
       "      <th>education_id</th>\n",
       "      <th>family_status</th>\n",
       "      <th>family_status_id</th>\n",
       "      <th>gender</th>\n",
       "      <th>income_type</th>\n",
       "      <th>debt</th>\n",
       "      <th>total_income</th>\n",
       "      <th>purpose</th>\n",
       "    </tr>\n",
       "  </thead>\n",
       "  <tbody>\n",
       "    <tr>\n",
       "      <th>0</th>\n",
       "      <td>1</td>\n",
       "      <td>-8437.673028</td>\n",
       "      <td>42</td>\n",
       "      <td>высшее</td>\n",
       "      <td>0</td>\n",
       "      <td>женат / замужем</td>\n",
       "      <td>0</td>\n",
       "      <td>F</td>\n",
       "      <td>сотрудник</td>\n",
       "      <td>0</td>\n",
       "      <td>253875.639453</td>\n",
       "      <td>покупка жилья</td>\n",
       "    </tr>\n",
       "    <tr>\n",
       "      <th>1</th>\n",
       "      <td>1</td>\n",
       "      <td>-4024.803754</td>\n",
       "      <td>36</td>\n",
       "      <td>среднее</td>\n",
       "      <td>1</td>\n",
       "      <td>женат / замужем</td>\n",
       "      <td>0</td>\n",
       "      <td>F</td>\n",
       "      <td>сотрудник</td>\n",
       "      <td>0</td>\n",
       "      <td>112080.014102</td>\n",
       "      <td>приобретение автомобиля</td>\n",
       "    </tr>\n",
       "    <tr>\n",
       "      <th>2</th>\n",
       "      <td>0</td>\n",
       "      <td>-5623.422610</td>\n",
       "      <td>33</td>\n",
       "      <td>Среднее</td>\n",
       "      <td>1</td>\n",
       "      <td>женат / замужем</td>\n",
       "      <td>0</td>\n",
       "      <td>M</td>\n",
       "      <td>сотрудник</td>\n",
       "      <td>0</td>\n",
       "      <td>145885.952297</td>\n",
       "      <td>покупка жилья</td>\n",
       "    </tr>\n",
       "    <tr>\n",
       "      <th>3</th>\n",
       "      <td>3</td>\n",
       "      <td>-4124.747207</td>\n",
       "      <td>32</td>\n",
       "      <td>среднее</td>\n",
       "      <td>1</td>\n",
       "      <td>женат / замужем</td>\n",
       "      <td>0</td>\n",
       "      <td>M</td>\n",
       "      <td>сотрудник</td>\n",
       "      <td>0</td>\n",
       "      <td>267628.550329</td>\n",
       "      <td>дополнительное образование</td>\n",
       "    </tr>\n",
       "    <tr>\n",
       "      <th>4</th>\n",
       "      <td>0</td>\n",
       "      <td>340266.072047</td>\n",
       "      <td>53</td>\n",
       "      <td>среднее</td>\n",
       "      <td>1</td>\n",
       "      <td>гражданский брак</td>\n",
       "      <td>1</td>\n",
       "      <td>F</td>\n",
       "      <td>пенсионер</td>\n",
       "      <td>0</td>\n",
       "      <td>158616.077870</td>\n",
       "      <td>сыграть свадьбу</td>\n",
       "    </tr>\n",
       "    <tr>\n",
       "      <th>5</th>\n",
       "      <td>0</td>\n",
       "      <td>-926.185831</td>\n",
       "      <td>27</td>\n",
       "      <td>высшее</td>\n",
       "      <td>0</td>\n",
       "      <td>гражданский брак</td>\n",
       "      <td>1</td>\n",
       "      <td>M</td>\n",
       "      <td>компаньон</td>\n",
       "      <td>0</td>\n",
       "      <td>255763.565419</td>\n",
       "      <td>покупка жилья</td>\n",
       "    </tr>\n",
       "    <tr>\n",
       "      <th>6</th>\n",
       "      <td>0</td>\n",
       "      <td>-2879.202052</td>\n",
       "      <td>43</td>\n",
       "      <td>высшее</td>\n",
       "      <td>0</td>\n",
       "      <td>женат / замужем</td>\n",
       "      <td>0</td>\n",
       "      <td>F</td>\n",
       "      <td>компаньон</td>\n",
       "      <td>0</td>\n",
       "      <td>240525.971920</td>\n",
       "      <td>операции с жильем</td>\n",
       "    </tr>\n",
       "    <tr>\n",
       "      <th>7</th>\n",
       "      <td>0</td>\n",
       "      <td>-152.779569</td>\n",
       "      <td>50</td>\n",
       "      <td>СРЕДНЕЕ</td>\n",
       "      <td>1</td>\n",
       "      <td>женат / замужем</td>\n",
       "      <td>0</td>\n",
       "      <td>M</td>\n",
       "      <td>сотрудник</td>\n",
       "      <td>0</td>\n",
       "      <td>135823.934197</td>\n",
       "      <td>образование</td>\n",
       "    </tr>\n",
       "    <tr>\n",
       "      <th>8</th>\n",
       "      <td>2</td>\n",
       "      <td>-6929.865299</td>\n",
       "      <td>35</td>\n",
       "      <td>ВЫСШЕЕ</td>\n",
       "      <td>0</td>\n",
       "      <td>гражданский брак</td>\n",
       "      <td>1</td>\n",
       "      <td>F</td>\n",
       "      <td>сотрудник</td>\n",
       "      <td>0</td>\n",
       "      <td>95856.832424</td>\n",
       "      <td>на проведение свадьбы</td>\n",
       "    </tr>\n",
       "    <tr>\n",
       "      <th>9</th>\n",
       "      <td>0</td>\n",
       "      <td>-2188.756445</td>\n",
       "      <td>41</td>\n",
       "      <td>среднее</td>\n",
       "      <td>1</td>\n",
       "      <td>женат / замужем</td>\n",
       "      <td>0</td>\n",
       "      <td>M</td>\n",
       "      <td>сотрудник</td>\n",
       "      <td>0</td>\n",
       "      <td>144425.938277</td>\n",
       "      <td>покупка жилья для семьи</td>\n",
       "    </tr>\n",
       "    <tr>\n",
       "      <th>10</th>\n",
       "      <td>2</td>\n",
       "      <td>-4171.483647</td>\n",
       "      <td>36</td>\n",
       "      <td>высшее</td>\n",
       "      <td>0</td>\n",
       "      <td>женат / замужем</td>\n",
       "      <td>0</td>\n",
       "      <td>M</td>\n",
       "      <td>компаньон</td>\n",
       "      <td>0</td>\n",
       "      <td>113943.491460</td>\n",
       "      <td>покупка недвижимости</td>\n",
       "    </tr>\n",
       "    <tr>\n",
       "      <th>11</th>\n",
       "      <td>0</td>\n",
       "      <td>-792.701887</td>\n",
       "      <td>40</td>\n",
       "      <td>среднее</td>\n",
       "      <td>1</td>\n",
       "      <td>женат / замужем</td>\n",
       "      <td>0</td>\n",
       "      <td>F</td>\n",
       "      <td>сотрудник</td>\n",
       "      <td>0</td>\n",
       "      <td>77069.234271</td>\n",
       "      <td>покупка коммерческой недвижимости</td>\n",
       "    </tr>\n",
       "    <tr>\n",
       "      <th>12</th>\n",
       "      <td>0</td>\n",
       "      <td>NaN</td>\n",
       "      <td>65</td>\n",
       "      <td>среднее</td>\n",
       "      <td>1</td>\n",
       "      <td>гражданский брак</td>\n",
       "      <td>1</td>\n",
       "      <td>M</td>\n",
       "      <td>пенсионер</td>\n",
       "      <td>0</td>\n",
       "      <td>NaN</td>\n",
       "      <td>сыграть свадьбу</td>\n",
       "    </tr>\n",
       "    <tr>\n",
       "      <th>13</th>\n",
       "      <td>0</td>\n",
       "      <td>-1846.641941</td>\n",
       "      <td>54</td>\n",
       "      <td>неоконченное высшее</td>\n",
       "      <td>2</td>\n",
       "      <td>женат / замужем</td>\n",
       "      <td>0</td>\n",
       "      <td>F</td>\n",
       "      <td>сотрудник</td>\n",
       "      <td>0</td>\n",
       "      <td>130458.228857</td>\n",
       "      <td>приобретение автомобиля</td>\n",
       "    </tr>\n",
       "    <tr>\n",
       "      <th>14</th>\n",
       "      <td>0</td>\n",
       "      <td>-1844.956182</td>\n",
       "      <td>56</td>\n",
       "      <td>высшее</td>\n",
       "      <td>0</td>\n",
       "      <td>гражданский брак</td>\n",
       "      <td>1</td>\n",
       "      <td>F</td>\n",
       "      <td>компаньон</td>\n",
       "      <td>1</td>\n",
       "      <td>165127.911772</td>\n",
       "      <td>покупка жилой недвижимости</td>\n",
       "    </tr>\n",
       "    <tr>\n",
       "      <th>15</th>\n",
       "      <td>1</td>\n",
       "      <td>-972.364419</td>\n",
       "      <td>26</td>\n",
       "      <td>среднее</td>\n",
       "      <td>1</td>\n",
       "      <td>женат / замужем</td>\n",
       "      <td>0</td>\n",
       "      <td>F</td>\n",
       "      <td>сотрудник</td>\n",
       "      <td>0</td>\n",
       "      <td>116820.904450</td>\n",
       "      <td>строительство собственной недвижимости</td>\n",
       "    </tr>\n",
       "    <tr>\n",
       "      <th>16</th>\n",
       "      <td>0</td>\n",
       "      <td>-1719.934226</td>\n",
       "      <td>35</td>\n",
       "      <td>среднее</td>\n",
       "      <td>1</td>\n",
       "      <td>женат / замужем</td>\n",
       "      <td>0</td>\n",
       "      <td>F</td>\n",
       "      <td>сотрудник</td>\n",
       "      <td>0</td>\n",
       "      <td>289202.704229</td>\n",
       "      <td>недвижимость</td>\n",
       "    </tr>\n",
       "    <tr>\n",
       "      <th>17</th>\n",
       "      <td>0</td>\n",
       "      <td>-2369.999720</td>\n",
       "      <td>33</td>\n",
       "      <td>высшее</td>\n",
       "      <td>0</td>\n",
       "      <td>гражданский брак</td>\n",
       "      <td>1</td>\n",
       "      <td>M</td>\n",
       "      <td>сотрудник</td>\n",
       "      <td>0</td>\n",
       "      <td>90410.586745</td>\n",
       "      <td>строительство недвижимости</td>\n",
       "    </tr>\n",
       "    <tr>\n",
       "      <th>18</th>\n",
       "      <td>0</td>\n",
       "      <td>400281.136913</td>\n",
       "      <td>53</td>\n",
       "      <td>среднее</td>\n",
       "      <td>1</td>\n",
       "      <td>вдовец / вдова</td>\n",
       "      <td>2</td>\n",
       "      <td>F</td>\n",
       "      <td>пенсионер</td>\n",
       "      <td>0</td>\n",
       "      <td>56823.777243</td>\n",
       "      <td>на покупку подержанного автомобиля</td>\n",
       "    </tr>\n",
       "    <tr>\n",
       "      <th>19</th>\n",
       "      <td>0</td>\n",
       "      <td>-10038.818549</td>\n",
       "      <td>48</td>\n",
       "      <td>СРЕДНЕЕ</td>\n",
       "      <td>1</td>\n",
       "      <td>в разводе</td>\n",
       "      <td>3</td>\n",
       "      <td>F</td>\n",
       "      <td>сотрудник</td>\n",
       "      <td>0</td>\n",
       "      <td>242831.107982</td>\n",
       "      <td>на покупку своего автомобиля</td>\n",
       "    </tr>\n",
       "  </tbody>\n",
       "</table>\n",
       "</div>"
      ],
      "text/plain": [
       "    children  days_employed  dob_years            education  education_id  \\\n",
       "0          1   -8437.673028         42               высшее             0   \n",
       "1          1   -4024.803754         36              среднее             1   \n",
       "2          0   -5623.422610         33              Среднее             1   \n",
       "3          3   -4124.747207         32              среднее             1   \n",
       "4          0  340266.072047         53              среднее             1   \n",
       "5          0    -926.185831         27               высшее             0   \n",
       "6          0   -2879.202052         43               высшее             0   \n",
       "7          0    -152.779569         50              СРЕДНЕЕ             1   \n",
       "8          2   -6929.865299         35               ВЫСШЕЕ             0   \n",
       "9          0   -2188.756445         41              среднее             1   \n",
       "10         2   -4171.483647         36               высшее             0   \n",
       "11         0    -792.701887         40              среднее             1   \n",
       "12         0            NaN         65              среднее             1   \n",
       "13         0   -1846.641941         54  неоконченное высшее             2   \n",
       "14         0   -1844.956182         56               высшее             0   \n",
       "15         1    -972.364419         26              среднее             1   \n",
       "16         0   -1719.934226         35              среднее             1   \n",
       "17         0   -2369.999720         33               высшее             0   \n",
       "18         0  400281.136913         53              среднее             1   \n",
       "19         0  -10038.818549         48              СРЕДНЕЕ             1   \n",
       "\n",
       "       family_status  family_status_id gender income_type  debt  \\\n",
       "0    женат / замужем                 0      F   сотрудник     0   \n",
       "1    женат / замужем                 0      F   сотрудник     0   \n",
       "2    женат / замужем                 0      M   сотрудник     0   \n",
       "3    женат / замужем                 0      M   сотрудник     0   \n",
       "4   гражданский брак                 1      F   пенсионер     0   \n",
       "5   гражданский брак                 1      M   компаньон     0   \n",
       "6    женат / замужем                 0      F   компаньон     0   \n",
       "7    женат / замужем                 0      M   сотрудник     0   \n",
       "8   гражданский брак                 1      F   сотрудник     0   \n",
       "9    женат / замужем                 0      M   сотрудник     0   \n",
       "10   женат / замужем                 0      M   компаньон     0   \n",
       "11   женат / замужем                 0      F   сотрудник     0   \n",
       "12  гражданский брак                 1      M   пенсионер     0   \n",
       "13   женат / замужем                 0      F   сотрудник     0   \n",
       "14  гражданский брак                 1      F   компаньон     1   \n",
       "15   женат / замужем                 0      F   сотрудник     0   \n",
       "16   женат / замужем                 0      F   сотрудник     0   \n",
       "17  гражданский брак                 1      M   сотрудник     0   \n",
       "18    вдовец / вдова                 2      F   пенсионер     0   \n",
       "19         в разводе                 3      F   сотрудник     0   \n",
       "\n",
       "     total_income                                 purpose  \n",
       "0   253875.639453                           покупка жилья  \n",
       "1   112080.014102                 приобретение автомобиля  \n",
       "2   145885.952297                           покупка жилья  \n",
       "3   267628.550329              дополнительное образование  \n",
       "4   158616.077870                         сыграть свадьбу  \n",
       "5   255763.565419                           покупка жилья  \n",
       "6   240525.971920                       операции с жильем  \n",
       "7   135823.934197                             образование  \n",
       "8    95856.832424                   на проведение свадьбы  \n",
       "9   144425.938277                 покупка жилья для семьи  \n",
       "10  113943.491460                    покупка недвижимости  \n",
       "11   77069.234271       покупка коммерческой недвижимости  \n",
       "12            NaN                         сыграть свадьбу  \n",
       "13  130458.228857                 приобретение автомобиля  \n",
       "14  165127.911772              покупка жилой недвижимости  \n",
       "15  116820.904450  строительство собственной недвижимости  \n",
       "16  289202.704229                            недвижимость  \n",
       "17   90410.586745              строительство недвижимости  \n",
       "18   56823.777243      на покупку подержанного автомобиля  \n",
       "19  242831.107982            на покупку своего автомобиля  "
      ]
     },
     "execution_count": 2,
     "metadata": {},
     "output_type": "execute_result"
    }
   ],
   "source": [
    "data.head(20)"
   ]
  },
  {
   "cell_type": "markdown",
   "id": "0ed8f27f",
   "metadata": {
    "deletable": false,
    "editable": false,
    "id": "0ed8f27f"
   },
   "source": [
    "**Задание 3. Выведите основную информацию о датафрейме с помощью метода `info()`.**"
   ]
  },
  {
   "cell_type": "code",
   "execution_count": 3,
   "id": "ab3f863b",
   "metadata": {
    "deletable": false,
    "id": "ab3f863b",
    "outputId": "15376089-8dad-46c9-b520-c05248d43158",
    "scrolled": true
   },
   "outputs": [
    {
     "name": "stdout",
     "output_type": "stream",
     "text": [
      "<class 'pandas.core.frame.DataFrame'>\n",
      "RangeIndex: 21525 entries, 0 to 21524\n",
      "Data columns (total 12 columns):\n",
      " #   Column            Non-Null Count  Dtype  \n",
      "---  ------            --------------  -----  \n",
      " 0   children          21525 non-null  int64  \n",
      " 1   days_employed     19351 non-null  float64\n",
      " 2   dob_years         21525 non-null  int64  \n",
      " 3   education         21525 non-null  object \n",
      " 4   education_id      21525 non-null  int64  \n",
      " 5   family_status     21525 non-null  object \n",
      " 6   family_status_id  21525 non-null  int64  \n",
      " 7   gender            21525 non-null  object \n",
      " 8   income_type       21525 non-null  object \n",
      " 9   debt              21525 non-null  int64  \n",
      " 10  total_income      19351 non-null  float64\n",
      " 11  purpose           21525 non-null  object \n",
      "dtypes: float64(2), int64(5), object(5)\n",
      "memory usage: 2.0+ MB\n"
     ]
    }
   ],
   "source": [
    "data.info()"
   ]
  },
  {
   "cell_type": "markdown",
   "id": "60e3e22d",
   "metadata": {
    "deletable": false,
    "editable": false,
    "id": "60e3e22d"
   },
   "source": [
    "## Предобработка данных"
   ]
  },
  {
   "cell_type": "markdown",
   "id": "03dc170c",
   "metadata": {
    "deletable": false,
    "editable": false,
    "id": "03dc170c"
   },
   "source": [
    "### Удаление пропусков"
   ]
  },
  {
   "cell_type": "markdown",
   "id": "a4f54eef",
   "metadata": {
    "deletable": false,
    "editable": false,
    "id": "a4f54eef"
   },
   "source": [
    "**Задание 4. Выведите количество пропущенных значений для каждого столбца. Используйте комбинацию двух методов.**"
   ]
  },
  {
   "cell_type": "code",
   "execution_count": 4,
   "id": "2dc372b2",
   "metadata": {
    "deletable": false,
    "id": "2dc372b2",
    "outputId": "81f4d817-781c-465c-ed15-91ce4446810d",
    "scrolled": true
   },
   "outputs": [
    {
     "data": {
      "text/plain": [
       "children               0\n",
       "days_employed       2174\n",
       "dob_years              0\n",
       "education              0\n",
       "education_id           0\n",
       "family_status          0\n",
       "family_status_id       0\n",
       "gender                 0\n",
       "income_type            0\n",
       "debt                   0\n",
       "total_income        2174\n",
       "purpose                0\n",
       "dtype: int64"
      ]
     },
     "execution_count": 4,
     "metadata": {},
     "output_type": "execute_result"
    }
   ],
   "source": [
    "data.isna().sum()"
   ]
  },
  {
   "cell_type": "markdown",
   "id": "14f011b1",
   "metadata": {
    "deletable": false,
    "editable": false,
    "id": "14f011b1"
   },
   "source": [
    "**Задание 5. В двух столбцах есть пропущенные значения. Один из них — `days_employed`. Пропуски в этом столбце вы обработаете на следующем этапе. Другой столбец с пропущенными значениями — `total_income` — хранит данные о доходах. На сумму дохода сильнее всего влияет тип занятости, поэтому заполнить пропуски в этом столбце нужно медианным значением по каждому типу из столбца `income_type`. Например, у человека с типом занятости `сотрудник` пропуск в столбце `total_income` должен быть заполнен медианным доходом среди всех записей с тем же типом.**"
   ]
  },
  {
   "cell_type": "code",
   "execution_count": 5,
   "id": "bdabfb6e",
   "metadata": {
    "deletable": false,
    "id": "bdabfb6e",
    "scrolled": true
   },
   "outputs": [],
   "source": [
    "for t in data['income_type'].unique():\n",
    "    data.loc[(data['income_type'] == t) & (data['total_income'].isna()), 'total_income'] = \\\n",
    "    data.loc[(data['income_type'] == t), 'total_income'].median()"
   ]
  },
  {
   "cell_type": "markdown",
   "id": "5be34059",
   "metadata": {
    "deletable": false,
    "editable": false,
    "id": "5be34059"
   },
   "source": [
    "### Обработка аномальных значений"
   ]
  },
  {
   "cell_type": "markdown",
   "id": "a87606cb",
   "metadata": {
    "deletable": false,
    "editable": false,
    "id": "a87606cb"
   },
   "source": [
    "**Задание 6. В данных могут встречаться артефакты (аномалии) — значения, которые не отражают действительность и появились по какой-то ошибке. таким артефактом будет отрицательное количество дней трудового стажа в столбце `days_employed`. Для реальных данных это нормально. Обработайте значения в этом столбце: замените все отрицательные значения положительными с помощью метода `abs()`.**"
   ]
  },
  {
   "cell_type": "code",
   "execution_count": 6,
   "id": "020c46cc",
   "metadata": {
    "deletable": false,
    "id": "020c46cc",
    "scrolled": true
   },
   "outputs": [],
   "source": [
    "data['days_employed'] = data['days_employed'].abs()"
   ]
  },
  {
   "cell_type": "markdown",
   "id": "45538a3a",
   "metadata": {
    "deletable": false,
    "editable": false,
    "id": "45538a3a"
   },
   "source": [
    "**Задание 7. Для каждого типа занятости выведите медианное значение трудового стажа `days_employed` в днях.**"
   ]
  },
  {
   "cell_type": "code",
   "execution_count": 7,
   "id": "cd3e6328",
   "metadata": {
    "deletable": false,
    "id": "cd3e6328",
    "outputId": "801ef80e-522b-4668-f34e-565af7432bcf",
    "scrolled": true
   },
   "outputs": [
    {
     "data": {
      "text/plain": [
       "income_type\n",
       "безработный        366413.652744\n",
       "в декрете            3296.759962\n",
       "госслужащий          2689.368353\n",
       "компаньон            1547.382223\n",
       "пенсионер          365213.306266\n",
       "предприниматель       520.848083\n",
       "сотрудник            1574.202821\n",
       "студент               578.751554\n",
       "Name: days_employed, dtype: float64"
      ]
     },
     "execution_count": 7,
     "metadata": {},
     "output_type": "execute_result"
    }
   ],
   "source": [
    "data.groupby('income_type')['days_employed'].agg('median')"
   ]
  },
  {
   "cell_type": "markdown",
   "id": "90c5f058",
   "metadata": {
    "deletable": false,
    "editable": false,
    "id": "90c5f058"
   },
   "source": [
    "У двух типов (безработные и пенсионеры) получатся аномально большие значения. Исправить такие значения сложно, поэтому оставьте их как есть."
   ]
  },
  {
   "cell_type": "markdown",
   "id": "9652e50d",
   "metadata": {
    "deletable": false,
    "editable": false,
    "id": "9652e50d"
   },
   "source": [
    "**Задание 8. Выведите перечень уникальных значений столбца `children`.**"
   ]
  },
  {
   "cell_type": "code",
   "execution_count": 8,
   "id": "dbb37b8e",
   "metadata": {
    "deletable": false,
    "id": "dbb37b8e",
    "outputId": "6975b15c-7f95-4697-d16d-a0c79b657b03",
    "scrolled": true
   },
   "outputs": [
    {
     "data": {
      "text/plain": [
       "array([ 1,  0,  3,  2, -1,  4, 20,  5])"
      ]
     },
     "execution_count": 8,
     "metadata": {},
     "output_type": "execute_result"
    }
   ],
   "source": [
    "data['children'].unique()"
   ]
  },
  {
   "cell_type": "markdown",
   "id": "2b8b0715",
   "metadata": {
    "deletable": false,
    "editable": false,
    "id": "2b8b0715"
   },
   "source": [
    "**Задание 9. В столбце `children` есть два аномальных значения. Удалите строки, в которых встречаются такие аномальные значения из датафрейма `data`.**"
   ]
  },
  {
   "cell_type": "code",
   "execution_count": 9,
   "id": "20009df8",
   "metadata": {
    "deletable": false,
    "id": "20009df8",
    "scrolled": true
   },
   "outputs": [],
   "source": [
    "data = data[(data['children'] != -1) & (data['children'] != 20)]"
   ]
  },
  {
   "cell_type": "markdown",
   "id": "8c6ac9f1",
   "metadata": {
    "deletable": false,
    "editable": false,
    "id": "8c6ac9f1"
   },
   "source": [
    "**Задание 10. Ещё раз выведите перечень уникальных значений столбца `children`, чтобы убедиться, что артефакты удалены.**"
   ]
  },
  {
   "cell_type": "code",
   "execution_count": 10,
   "id": "07337b81",
   "metadata": {
    "deletable": false,
    "id": "07337b81",
    "outputId": "b2097101-d49d-44d9-901b-32a65c9463d1",
    "scrolled": true
   },
   "outputs": [
    {
     "data": {
      "text/plain": [
       "array([1, 0, 3, 2, 4, 5])"
      ]
     },
     "execution_count": 10,
     "metadata": {},
     "output_type": "execute_result"
    }
   ],
   "source": [
    "data['children'].unique()"
   ]
  },
  {
   "cell_type": "markdown",
   "id": "ee3f52d4",
   "metadata": {
    "deletable": false,
    "editable": false,
    "id": "ee3f52d4"
   },
   "source": [
    "### Удаление пропусков (продолжение)"
   ]
  },
  {
   "cell_type": "markdown",
   "id": "a700b0e4",
   "metadata": {
    "deletable": false,
    "editable": false,
    "id": "a700b0e4"
   },
   "source": [
    "**Задание 11. Заполните пропуски в столбце `days_employed` медианными значениями по каждого типа занятости `income_type`.**"
   ]
  },
  {
   "cell_type": "code",
   "execution_count": 11,
   "id": "61946b83",
   "metadata": {
    "deletable": false,
    "id": "61946b83",
    "scrolled": true
   },
   "outputs": [],
   "source": [
    "for t in data['income_type'].unique():\n",
    "    data.loc[(data['income_type'] == t) & (data['days_employed'].isna()), 'days_employed'] = \\\n",
    "    data.loc[(data['income_type'] == t), 'days_employed'].median()"
   ]
  },
  {
   "cell_type": "markdown",
   "id": "550dcd9b",
   "metadata": {
    "deletable": false,
    "editable": false,
    "id": "550dcd9b"
   },
   "source": [
    "**Задание 12. Убедитесь, что все пропуски заполнены. Проверьте себя и ещё раз выведите количество пропущенных значений для каждого столбца с помощью двух методов.**"
   ]
  },
  {
   "cell_type": "code",
   "execution_count": 12,
   "id": "937c7014",
   "metadata": {
    "deletable": false,
    "id": "937c7014",
    "outputId": "8da1e4e1-358e-4e87-98c9-f261bce0a7b2",
    "scrolled": true
   },
   "outputs": [
    {
     "data": {
      "text/plain": [
       "children            0\n",
       "days_employed       0\n",
       "dob_years           0\n",
       "education           0\n",
       "education_id        0\n",
       "family_status       0\n",
       "family_status_id    0\n",
       "gender              0\n",
       "income_type         0\n",
       "debt                0\n",
       "total_income        0\n",
       "purpose             0\n",
       "dtype: int64"
      ]
     },
     "execution_count": 12,
     "metadata": {},
     "output_type": "execute_result"
    }
   ],
   "source": [
    "data.isna().sum()"
   ]
  },
  {
   "cell_type": "markdown",
   "id": "d522e295",
   "metadata": {
    "deletable": false,
    "editable": false,
    "id": "d522e295"
   },
   "source": [
    "### Изменение типов данных"
   ]
  },
  {
   "cell_type": "markdown",
   "id": "c229c581",
   "metadata": {
    "deletable": false,
    "editable": false,
    "id": "c229c581"
   },
   "source": [
    "**Задание 13. Замените вещественный тип данных в столбце `total_income` на целочисленный с помощью метода `astype()`.**"
   ]
  },
  {
   "cell_type": "code",
   "execution_count": 13,
   "id": "31036462",
   "metadata": {
    "deletable": false,
    "id": "31036462",
    "scrolled": true
   },
   "outputs": [],
   "source": [
    "data['total_income'] = data['total_income'].astype(int)"
   ]
  },
  {
   "cell_type": "markdown",
   "id": "b8e3d1d9",
   "metadata": {
    "deletable": false,
    "editable": false,
    "id": "b8e3d1d9"
   },
   "source": [
    "### Обработка дубликатов"
   ]
  },
  {
   "cell_type": "markdown",
   "id": "9be53c49",
   "metadata": {
    "deletable": false,
    "editable": false,
    "id": "9be53c49"
   },
   "source": [
    "**Задание 14. Обработайте неявные дубликаты в столбце `education`. В этом столбце есть одни и те же значения, но записанные по-разному: с использованием заглавных и строчных букв. Приведите их к нижнему регистру.**"
   ]
  },
  {
   "cell_type": "code",
   "execution_count": 14,
   "id": "d89e73e1",
   "metadata": {
    "deletable": false,
    "id": "d89e73e1",
    "scrolled": true
   },
   "outputs": [],
   "source": [
    "data['education'] = data['education'].str.lower()"
   ]
  },
  {
   "cell_type": "markdown",
   "id": "01d4500e",
   "metadata": {
    "deletable": false,
    "editable": false,
    "id": "01d4500e"
   },
   "source": [
    "**Задание 15. Выведите на экран количество строк-дубликатов в данных. Если такие строки присутствуют, удалите их.**"
   ]
  },
  {
   "cell_type": "code",
   "execution_count": 15,
   "id": "e10efb23",
   "metadata": {
    "deletable": false,
    "id": "e10efb23",
    "outputId": "9684deba-1934-42d1-99e1-cda61740f822",
    "scrolled": true
   },
   "outputs": [
    {
     "data": {
      "text/plain": [
       "71"
      ]
     },
     "execution_count": 15,
     "metadata": {},
     "output_type": "execute_result"
    }
   ],
   "source": [
    "data.duplicated().sum()"
   ]
  },
  {
   "cell_type": "code",
   "execution_count": 16,
   "id": "df853f20",
   "metadata": {
    "deletable": false,
    "id": "df853f20",
    "scrolled": true
   },
   "outputs": [],
   "source": [
    "data = data.drop_duplicates()"
   ]
  },
  {
   "cell_type": "markdown",
   "id": "627be38f",
   "metadata": {
    "deletable": false,
    "editable": false,
    "id": "627be38f"
   },
   "source": [
    "### Категоризация данных"
   ]
  },
  {
   "cell_type": "markdown",
   "id": "4684c3e0",
   "metadata": {
    "deletable": false,
    "editable": false,
    "id": "4684c3e0"
   },
   "source": [
    "**Задание 16. На основании диапазонов, указанных ниже, создайте в датафрейме `data` столбец `total_income_category` с категориями:**\n",
    "\n",
    "- 0–30000 — `'E'`;\n",
    "- 30001–50000 — `'D'`;\n",
    "- 50001–200000 — `'C'`;\n",
    "- 200001–1000000 — `'B'`;\n",
    "- 1000001 и выше — `'A'`.\n",
    "\n",
    "\n",
    "**Например, кредитополучателю с доходом 25000 нужно назначить категорию `'E'`, а клиенту, получающему 235000, — `'B'`. Используйте собственную функцию с именем `categorize_income()` и метод `apply()`.**"
   ]
  },
  {
   "cell_type": "code",
   "execution_count": 17,
   "id": "78965238",
   "metadata": {
    "deletable": false,
    "id": "78965238",
    "scrolled": true
   },
   "outputs": [],
   "source": [
    "def categorize_income(income):\n",
    "    try:\n",
    "        if 0 <= income <= 30000:\n",
    "            return 'E'\n",
    "        elif 30001 <= income <= 50000:\n",
    "            return 'D'\n",
    "        elif 50001 <= income <= 200000:\n",
    "            return 'C'\n",
    "        elif 200001 <= income <= 1000000:\n",
    "            return 'B'\n",
    "        elif income >= 1000001:\n",
    "            return 'A'\n",
    "    except:\n",
    "        pass"
   ]
  },
  {
   "cell_type": "code",
   "execution_count": 18,
   "id": "0980ada1",
   "metadata": {
    "deletable": false,
    "id": "0980ada1",
    "scrolled": true
   },
   "outputs": [],
   "source": [
    "data['total_income_category'] = data['total_income'].apply(categorize_income)"
   ]
  },
  {
   "cell_type": "markdown",
   "id": "9917bba0",
   "metadata": {
    "deletable": false,
    "editable": false,
    "id": "9917bba0"
   },
   "source": [
    "**Задание 17. Выведите на экран перечень уникальных целей взятия кредита из столбца `purpose`.**"
   ]
  },
  {
   "cell_type": "code",
   "execution_count": 19,
   "id": "ee07b65e",
   "metadata": {
    "deletable": false,
    "id": "ee07b65e",
    "outputId": "673c12d9-7d7e-4ae0-9812-c622c89dd244",
    "scrolled": true
   },
   "outputs": [
    {
     "data": {
      "text/plain": [
       "array(['покупка жилья', 'приобретение автомобиля',\n",
       "       'дополнительное образование', 'сыграть свадьбу',\n",
       "       'операции с жильем', 'образование', 'на проведение свадьбы',\n",
       "       'покупка жилья для семьи', 'покупка недвижимости',\n",
       "       'покупка коммерческой недвижимости', 'покупка жилой недвижимости',\n",
       "       'строительство собственной недвижимости', 'недвижимость',\n",
       "       'строительство недвижимости', 'на покупку подержанного автомобиля',\n",
       "       'на покупку своего автомобиля',\n",
       "       'операции с коммерческой недвижимостью',\n",
       "       'строительство жилой недвижимости', 'жилье',\n",
       "       'операции со своей недвижимостью', 'автомобили',\n",
       "       'заняться образованием', 'сделка с подержанным автомобилем',\n",
       "       'получение образования', 'автомобиль', 'свадьба',\n",
       "       'получение дополнительного образования', 'покупка своего жилья',\n",
       "       'операции с недвижимостью', 'получение высшего образования',\n",
       "       'свой автомобиль', 'сделка с автомобилем',\n",
       "       'профильное образование', 'высшее образование',\n",
       "       'покупка жилья для сдачи', 'на покупку автомобиля', 'ремонт жилью',\n",
       "       'заняться высшим образованием'], dtype=object)"
      ]
     },
     "execution_count": 19,
     "metadata": {},
     "output_type": "execute_result"
    }
   ],
   "source": [
    "data['purpose'].unique()"
   ]
  },
  {
   "cell_type": "markdown",
   "id": "52b79d56",
   "metadata": {
    "deletable": false,
    "editable": false,
    "id": "52b79d56"
   },
   "source": [
    "**Задание 18. Создайте функцию, которая на основании данных из столбца `purpose` сформирует новый столбец `purpose_category`, в который войдут следующие категории:**\n",
    "\n",
    "- `'операции с автомобилем'`,\n",
    "- `'операции с недвижимостью'`,\n",
    "- `'проведение свадьбы'`,\n",
    "- `'получение образования'`.\n",
    "\n",
    "**Например, если в столбце `purpose` находится подстрока `'на покупку автомобиля'`, то в столбце `purpose_category` должна появиться строка `'операции с автомобилем'`.**\n",
    "\n",
    "**Используйте собственную функцию с именем `categorize_purpose()` и метод `apply()`. Изучите данные в столбце `purpose` и определите, какие подстроки помогут вам правильно определить категорию.**"
   ]
  },
  {
   "cell_type": "code",
   "execution_count": 20,
   "id": "be41da5d",
   "metadata": {
    "deletable": false,
    "id": "be41da5d",
    "scrolled": true
   },
   "outputs": [],
   "source": [
    "def categorize_purpose(row):\n",
    "    try:\n",
    "        if 'автом' in row:\n",
    "            return 'операции с автомобилем'\n",
    "        elif 'жил' in row or 'недвиж' in row:\n",
    "            return 'операции с недвижимостью'\n",
    "        elif 'свад' in row:\n",
    "            return 'проведение свадьбы'\n",
    "        elif 'образов' in row:\n",
    "            return 'получение образования'\n",
    "    except:\n",
    "        return 'нет категории'"
   ]
  },
  {
   "cell_type": "code",
   "execution_count": 21,
   "id": "94c4a19a",
   "metadata": {
    "deletable": false,
    "id": "94c4a19a",
    "scrolled": true
   },
   "outputs": [],
   "source": [
    "data['purpose_category'] = data['purpose'].apply(categorize_purpose)"
   ]
  },
  {
   "cell_type": "markdown",
   "id": "3d596c34",
   "metadata": {
    "deletable": false,
    "editable": false,
    "id": "3d596c34"
   },
   "source": [
    "### Шаг 3. Исследуйте данные и ответьте на вопросы"
   ]
  },
  {
   "cell_type": "markdown",
   "id": "648db036",
   "metadata": {
    "deletable": false,
    "editable": false,
    "id": "648db036"
   },
   "source": [
    "#### 3.1 Есть ли зависимость между количеством детей и возвратом кредита в срок?"
   ]
  },
  {
   "cell_type": "code",
   "execution_count": 22,
   "id": "73988958",
   "metadata": {
    "scrolled": true
   },
   "outputs": [
    {
     "name": "stdout",
     "output_type": "stream",
     "text": [
      "children  debt\n",
      "0         0       13028\n",
      "          1        1063\n",
      "1         0        4364\n",
      "          1         444\n",
      "2         0        1858\n",
      "          1         194\n",
      "3         0         303\n",
      "          1          27\n",
      "4         0          37\n",
      "          1           4\n",
      "5         0           9\n",
      "Name: debt, dtype: int64\n",
      "children\n",
      "0    1063\n",
      "1     444\n",
      "2     194\n",
      "3      27\n",
      "4       4\n",
      "Name: debt, dtype: int64\n"
     ]
    }
   ],
   "source": [
    "total_debtors = data.groupby('children')['debt'].value_counts()\n",
    "print(total_debtors)\n",
    "total_debtors = data[data['debt'] == 1].groupby('children')['debt'].count()\n",
    "print(total_debtors)"
   ]
  },
  {
   "cell_type": "code",
   "execution_count": 23,
   "id": "7fcff25e",
   "metadata": {
    "deletable": false,
    "id": "7fcff25e",
    "scrolled": false
   },
   "outputs": [
    {
     "name": "stdout",
     "output_type": "stream",
     "text": [
      "children\n",
      "0    14091\n",
      "1     4808\n",
      "2     2052\n",
      "3      330\n",
      "4       41\n",
      "5        9\n",
      "Name: debt, dtype: int64\n"
     ]
    }
   ],
   "source": [
    "total_people = data.groupby('children')['debt'].count()\n",
    "print(total_people)"
   ]
  },
  {
   "cell_type": "code",
   "execution_count": 24,
   "id": "ea02fafb",
   "metadata": {
    "scrolled": true
   },
   "outputs": [
    {
     "data": {
      "text/html": [
       "<div>\n",
       "<style scoped>\n",
       "    .dataframe tbody tr th:only-of-type {\n",
       "        vertical-align: middle;\n",
       "    }\n",
       "\n",
       "    .dataframe tbody tr th {\n",
       "        vertical-align: top;\n",
       "    }\n",
       "\n",
       "    .dataframe thead th {\n",
       "        text-align: right;\n",
       "    }\n",
       "</style>\n",
       "<table border=\"1\" class=\"dataframe\">\n",
       "  <thead>\n",
       "    <tr style=\"text-align: right;\">\n",
       "      <th></th>\n",
       "      <th>total_debtors</th>\n",
       "      <th>total_people</th>\n",
       "    </tr>\n",
       "    <tr>\n",
       "      <th>children</th>\n",
       "      <th></th>\n",
       "      <th></th>\n",
       "    </tr>\n",
       "  </thead>\n",
       "  <tbody>\n",
       "    <tr>\n",
       "      <th>0</th>\n",
       "      <td>1063.0</td>\n",
       "      <td>14091</td>\n",
       "    </tr>\n",
       "    <tr>\n",
       "      <th>1</th>\n",
       "      <td>444.0</td>\n",
       "      <td>4808</td>\n",
       "    </tr>\n",
       "    <tr>\n",
       "      <th>2</th>\n",
       "      <td>194.0</td>\n",
       "      <td>2052</td>\n",
       "    </tr>\n",
       "    <tr>\n",
       "      <th>3</th>\n",
       "      <td>27.0</td>\n",
       "      <td>330</td>\n",
       "    </tr>\n",
       "    <tr>\n",
       "      <th>4</th>\n",
       "      <td>4.0</td>\n",
       "      <td>41</td>\n",
       "    </tr>\n",
       "    <tr>\n",
       "      <th>5</th>\n",
       "      <td>NaN</td>\n",
       "      <td>9</td>\n",
       "    </tr>\n",
       "  </tbody>\n",
       "</table>\n",
       "</div>"
      ],
      "text/plain": [
       "          total_debtors  total_people\n",
       "children                             \n",
       "0                1063.0         14091\n",
       "1                 444.0          4808\n",
       "2                 194.0          2052\n",
       "3                  27.0           330\n",
       "4                   4.0            41\n",
       "5                   NaN             9"
      ]
     },
     "execution_count": 24,
     "metadata": {},
     "output_type": "execute_result"
    }
   ],
   "source": [
    "new_table = pd.concat([total_debtors, total_people], axis=1)\n",
    "new_table.columns = ['total_debtors', 'total_people']\n",
    "new_table"
   ]
  },
  {
   "cell_type": "code",
   "execution_count": 25,
   "id": "1e035300",
   "metadata": {
    "scrolled": true
   },
   "outputs": [
    {
     "data": {
      "text/html": [
       "<div>\n",
       "<style scoped>\n",
       "    .dataframe tbody tr th:only-of-type {\n",
       "        vertical-align: middle;\n",
       "    }\n",
       "\n",
       "    .dataframe tbody tr th {\n",
       "        vertical-align: top;\n",
       "    }\n",
       "\n",
       "    .dataframe thead th {\n",
       "        text-align: right;\n",
       "    }\n",
       "</style>\n",
       "<table border=\"1\" class=\"dataframe\">\n",
       "  <thead>\n",
       "    <tr style=\"text-align: right;\">\n",
       "      <th></th>\n",
       "      <th>total_debtors</th>\n",
       "      <th>total_people</th>\n",
       "      <th>debt_percentage</th>\n",
       "    </tr>\n",
       "    <tr>\n",
       "      <th>children</th>\n",
       "      <th></th>\n",
       "      <th></th>\n",
       "      <th></th>\n",
       "    </tr>\n",
       "  </thead>\n",
       "  <tbody>\n",
       "    <tr>\n",
       "      <th>0</th>\n",
       "      <td>1063.0</td>\n",
       "      <td>14091</td>\n",
       "      <td>7.5</td>\n",
       "    </tr>\n",
       "    <tr>\n",
       "      <th>1</th>\n",
       "      <td>444.0</td>\n",
       "      <td>4808</td>\n",
       "      <td>9.2</td>\n",
       "    </tr>\n",
       "    <tr>\n",
       "      <th>2</th>\n",
       "      <td>194.0</td>\n",
       "      <td>2052</td>\n",
       "      <td>9.5</td>\n",
       "    </tr>\n",
       "    <tr>\n",
       "      <th>3</th>\n",
       "      <td>27.0</td>\n",
       "      <td>330</td>\n",
       "      <td>8.2</td>\n",
       "    </tr>\n",
       "    <tr>\n",
       "      <th>4</th>\n",
       "      <td>4.0</td>\n",
       "      <td>41</td>\n",
       "      <td>9.8</td>\n",
       "    </tr>\n",
       "    <tr>\n",
       "      <th>5</th>\n",
       "      <td>NaN</td>\n",
       "      <td>9</td>\n",
       "      <td>NaN</td>\n",
       "    </tr>\n",
       "  </tbody>\n",
       "</table>\n",
       "</div>"
      ],
      "text/plain": [
       "          total_debtors  total_people  debt_percentage\n",
       "children                                              \n",
       "0                1063.0         14091              7.5\n",
       "1                 444.0          4808              9.2\n",
       "2                 194.0          2052              9.5\n",
       "3                  27.0           330              8.2\n",
       "4                   4.0            41              9.8\n",
       "5                   NaN             9              NaN"
      ]
     },
     "execution_count": 25,
     "metadata": {},
     "output_type": "execute_result"
    }
   ],
   "source": [
    "new_table['debt_percentage'] = (new_table['total_debtors'] / new_table['total_people'] * 100).round(1)\n",
    "new_table"
   ]
  },
  {
   "cell_type": "code",
   "execution_count": 26,
   "id": "da2266a0",
   "metadata": {
    "scrolled": true
   },
   "outputs": [
    {
     "data": {
      "text/html": [
       "<div>\n",
       "<style scoped>\n",
       "    .dataframe tbody tr th:only-of-type {\n",
       "        vertical-align: middle;\n",
       "    }\n",
       "\n",
       "    .dataframe tbody tr th {\n",
       "        vertical-align: top;\n",
       "    }\n",
       "\n",
       "    .dataframe thead tr th {\n",
       "        text-align: left;\n",
       "    }\n",
       "\n",
       "    .dataframe thead tr:last-of-type th {\n",
       "        text-align: right;\n",
       "    }\n",
       "</style>\n",
       "<table border=\"1\" class=\"dataframe\">\n",
       "  <thead>\n",
       "    <tr>\n",
       "      <th></th>\n",
       "      <th>count</th>\n",
       "      <th>sum</th>\n",
       "      <th>mean</th>\n",
       "    </tr>\n",
       "    <tr>\n",
       "      <th></th>\n",
       "      <th>debt</th>\n",
       "      <th>debt</th>\n",
       "      <th>debt</th>\n",
       "    </tr>\n",
       "    <tr>\n",
       "      <th>children</th>\n",
       "      <th></th>\n",
       "      <th></th>\n",
       "      <th></th>\n",
       "    </tr>\n",
       "  </thead>\n",
       "  <tbody>\n",
       "    <tr>\n",
       "      <th>0</th>\n",
       "      <td>14091</td>\n",
       "      <td>1063</td>\n",
       "      <td>0.075438</td>\n",
       "    </tr>\n",
       "    <tr>\n",
       "      <th>1</th>\n",
       "      <td>4808</td>\n",
       "      <td>444</td>\n",
       "      <td>0.092346</td>\n",
       "    </tr>\n",
       "    <tr>\n",
       "      <th>2</th>\n",
       "      <td>2052</td>\n",
       "      <td>194</td>\n",
       "      <td>0.094542</td>\n",
       "    </tr>\n",
       "    <tr>\n",
       "      <th>3</th>\n",
       "      <td>330</td>\n",
       "      <td>27</td>\n",
       "      <td>0.081818</td>\n",
       "    </tr>\n",
       "    <tr>\n",
       "      <th>4</th>\n",
       "      <td>41</td>\n",
       "      <td>4</td>\n",
       "      <td>0.097561</td>\n",
       "    </tr>\n",
       "    <tr>\n",
       "      <th>5</th>\n",
       "      <td>9</td>\n",
       "      <td>0</td>\n",
       "      <td>0.000000</td>\n",
       "    </tr>\n",
       "  </tbody>\n",
       "</table>\n",
       "</div>"
      ],
      "text/plain": [
       "          count   sum      mean\n",
       "           debt  debt      debt\n",
       "children                       \n",
       "0         14091  1063  0.075438\n",
       "1          4808   444  0.092346\n",
       "2          2052   194  0.094542\n",
       "3           330    27  0.081818\n",
       "4            41     4  0.097561\n",
       "5             9     0  0.000000"
      ]
     },
     "execution_count": 26,
     "metadata": {},
     "output_type": "execute_result"
    }
   ],
   "source": [
    "data.pivot_table(index = 'children', values = 'debt', aggfunc = ['count', 'sum', 'mean'])"
   ]
  },
  {
   "cell_type": "markdown",
   "id": "c9c74a5c",
   "metadata": {},
   "source": [
    "<div class=\"alert alert-success\">\n",
    "<b>✅ Комментарий ревьюера v1: </b> \n",
    "\n",
    "Таблица верная!\n",
    "    \n",
    "</div>"
   ]
  },
  {
   "cell_type": "markdown",
   "id": "901c72dd",
   "metadata": {},
   "source": [
    "<div class=\"alert alert-warning\">\n",
    "<b>⚠️ Комментарий ревьюера v1: </b> \n",
    "    \n",
    "Предлагаю оптимизировать код вот так: \n",
    "data.pivot_table(index = 'children', values = 'debt', aggfunc = ['count', 'sum', 'mean'])\n",
    "    \n",
    "Обрати внимание, как можно использовать mean на двоичных данных, если нам необходимо найти долю или процент.\n",
    "\n",
    "</div>"
   ]
  },
  {
   "cell_type": "markdown",
   "id": "5bfb5ea6",
   "metadata": {},
   "source": [
    "<div class=\"alert alert-info\"> <b>Комментарий студента v1:</b> Сделал!.</div>"
   ]
  },
  {
   "cell_type": "markdown",
   "id": "34ac19c1",
   "metadata": {},
   "source": [
    "<div class=\"alert alert-success\">\n",
    "<b>✅ Комментарий ревьюера v2: </b> \n",
    "\n",
    "👍\n",
    "</div>"
   ]
  },
  {
   "cell_type": "code",
   "execution_count": 27,
   "id": "345fb9d4",
   "metadata": {
    "scrolled": true
   },
   "outputs": [
    {
     "data": {
      "text/plain": [
       "<AxesSubplot:xlabel='children'>"
      ]
     },
     "execution_count": 27,
     "metadata": {},
     "output_type": "execute_result"
    },
    {
     "data": {
      "image/png": "[encoded data removed]",
      "text/plain": [
       "<Figure size 432x288 with 1 Axes>"
      ]
     },
     "metadata": {
      "needs_background": "light"
     },
     "output_type": "display_data"
    }
   ],
   "source": [
    "new_table.plot(kind='bar', y=['debt_percentage'])"
   ]
  },
  {
   "cell_type": "markdown",
   "id": "563ebccc",
   "metadata": {},
   "source": [
    "<div class=\"alert alert-success\">\n",
    "<b>✅ Комментарий ревьюера v1: </b> \n",
    "   \n",
    "Сводная таблица в данном случае больше подходит для визуализации, чем график, т.к. по ней мы можем оценить число заемщиков в каждой категории.\n",
    "</div>"
   ]
  },
  {
   "cell_type": "markdown",
   "id": "2eb9088e",
   "metadata": {
    "deletable": false,
    "id": "2eb9088e"
   },
   "source": [
    "**Вывод:** Я провел анализ зависимости между количеством детей и возвратом кредита в срок. Вначале, я сгруппировал данные по количеству детей и наличию задолженности, и подсчитал количество записей в каждой группе с помощью метода value_counts(). Результат анализа показывает, что в большинстве случаев, независимо от количества детей, процент должников невелик и составляет менее 10%. Однако, процент должников немного выше у заемщиков с детьми, чем у тех, у кого нет детей. Общий вывод: На основе этих данных можно сказать, что есть слабая зависимость между количеством детей и возвратом кредита в срок, и процент должников немного выше у семей с детьми."
   ]
  },
  {
   "cell_type": "markdown",
   "id": "3385cf09",
   "metadata": {},
   "source": [
    "<div class=\"alert alert-success\">\n",
    "<b>✅ Комментарий ревьюера v1: </b> \n",
    "\n",
    "С выводом согласна.\n",
    "    \n",
    "В выводе также стоит обратить внимание на малочисленность некоторых категорий. Малочисленные категории можно отбросить или объединить с другими.\n",
    "\n",
    "</div>"
   ]
  },
  {
   "cell_type": "markdown",
   "id": "74c9b3a7",
   "metadata": {
    "deletable": false,
    "editable": false,
    "id": "74c9b3a7"
   },
   "source": [
    "#### 3.2 Есть ли зависимость между семейным положением и возвратом кредита в срок?"
   ]
  },
  {
   "cell_type": "code",
   "execution_count": 28,
   "id": "8098ab3b",
   "metadata": {
    "deletable": false,
    "id": "8098ab3b",
    "scrolled": true
   },
   "outputs": [
    {
     "data": {
      "text/plain": [
       "женат / замужем          12261\n",
       "гражданский брак          4134\n",
       "Не женат / не замужем     2796\n",
       "в разводе                 1189\n",
       "вдовец / вдова             951\n",
       "Name: family_status, dtype: int64"
      ]
     },
     "execution_count": 28,
     "metadata": {},
     "output_type": "execute_result"
    }
   ],
   "source": [
    "family_status_counts = data['family_status'].value_counts()\n",
    "family_status_counts"
   ]
  },
  {
   "cell_type": "markdown",
   "id": "c389ca63",
   "metadata": {
    "deletable": false,
    "id": "c389ca63"
   },
   "source": [
    "**Вывод:** "
   ]
  },
  {
   "cell_type": "code",
   "execution_count": 29,
   "id": "4d2c8de4",
   "metadata": {
    "scrolled": true
   },
   "outputs": [
    {
     "data": {
      "text/plain": [
       "family_status\n",
       "Не женат / не замужем    273\n",
       "в разводе                 84\n",
       "вдовец / вдова            63\n",
       "гражданский брак         385\n",
       "женат / замужем          927\n",
       "Name: debt, dtype: int64"
      ]
     },
     "execution_count": 29,
     "metadata": {},
     "output_type": "execute_result"
    }
   ],
   "source": [
    "total_debtors = data.groupby('family_status')['debt'].value_counts()\n",
    "total_debtors = data[data['debt'] == 1].groupby('family_status')['debt'].count()\n",
    "total_debtors"
   ]
  },
  {
   "cell_type": "code",
   "execution_count": 30,
   "id": "39989402",
   "metadata": {
    "scrolled": true
   },
   "outputs": [
    {
     "data": {
      "text/html": [
       "<div>\n",
       "<style scoped>\n",
       "    .dataframe tbody tr th:only-of-type {\n",
       "        vertical-align: middle;\n",
       "    }\n",
       "\n",
       "    .dataframe tbody tr th {\n",
       "        vertical-align: top;\n",
       "    }\n",
       "\n",
       "    .dataframe thead th {\n",
       "        text-align: right;\n",
       "    }\n",
       "</style>\n",
       "<table border=\"1\" class=\"dataframe\">\n",
       "  <thead>\n",
       "    <tr style=\"text-align: right;\">\n",
       "      <th></th>\n",
       "      <th>total_debtors</th>\n",
       "      <th>total_people</th>\n",
       "    </tr>\n",
       "  </thead>\n",
       "  <tbody>\n",
       "    <tr>\n",
       "      <th>Не женат / не замужем</th>\n",
       "      <td>273</td>\n",
       "      <td>2796</td>\n",
       "    </tr>\n",
       "    <tr>\n",
       "      <th>в разводе</th>\n",
       "      <td>84</td>\n",
       "      <td>1189</td>\n",
       "    </tr>\n",
       "    <tr>\n",
       "      <th>вдовец / вдова</th>\n",
       "      <td>63</td>\n",
       "      <td>951</td>\n",
       "    </tr>\n",
       "    <tr>\n",
       "      <th>гражданский брак</th>\n",
       "      <td>385</td>\n",
       "      <td>4134</td>\n",
       "    </tr>\n",
       "    <tr>\n",
       "      <th>женат / замужем</th>\n",
       "      <td>927</td>\n",
       "      <td>12261</td>\n",
       "    </tr>\n",
       "  </tbody>\n",
       "</table>\n",
       "</div>"
      ],
      "text/plain": [
       "                       total_debtors  total_people\n",
       "Не женат / не замужем            273          2796\n",
       "в разводе                         84          1189\n",
       "вдовец / вдова                    63           951\n",
       "гражданский брак                 385          4134\n",
       "женат / замужем                  927         12261"
      ]
     },
     "execution_count": 30,
     "metadata": {},
     "output_type": "execute_result"
    }
   ],
   "source": [
    "family_status_data = pd.concat([total_debtors, family_status_counts], axis=1)\n",
    "family_status_data.columns = ['total_debtors', 'total_people']\n",
    "family_status_data"
   ]
  },
  {
   "cell_type": "code",
   "execution_count": 31,
   "id": "d36b31da",
   "metadata": {
    "scrolled": true
   },
   "outputs": [
    {
     "data": {
      "text/html": [
       "<div>\n",
       "<style scoped>\n",
       "    .dataframe tbody tr th:only-of-type {\n",
       "        vertical-align: middle;\n",
       "    }\n",
       "\n",
       "    .dataframe tbody tr th {\n",
       "        vertical-align: top;\n",
       "    }\n",
       "\n",
       "    .dataframe thead th {\n",
       "        text-align: right;\n",
       "    }\n",
       "</style>\n",
       "<table border=\"1\" class=\"dataframe\">\n",
       "  <thead>\n",
       "    <tr style=\"text-align: right;\">\n",
       "      <th></th>\n",
       "      <th>total_debtors</th>\n",
       "      <th>total_people</th>\n",
       "      <th>debt_percentage</th>\n",
       "    </tr>\n",
       "  </thead>\n",
       "  <tbody>\n",
       "    <tr>\n",
       "      <th>Не женат / не замужем</th>\n",
       "      <td>273</td>\n",
       "      <td>2796</td>\n",
       "      <td>9.8</td>\n",
       "    </tr>\n",
       "    <tr>\n",
       "      <th>в разводе</th>\n",
       "      <td>84</td>\n",
       "      <td>1189</td>\n",
       "      <td>7.1</td>\n",
       "    </tr>\n",
       "    <tr>\n",
       "      <th>вдовец / вдова</th>\n",
       "      <td>63</td>\n",
       "      <td>951</td>\n",
       "      <td>6.6</td>\n",
       "    </tr>\n",
       "    <tr>\n",
       "      <th>гражданский брак</th>\n",
       "      <td>385</td>\n",
       "      <td>4134</td>\n",
       "      <td>9.3</td>\n",
       "    </tr>\n",
       "    <tr>\n",
       "      <th>женат / замужем</th>\n",
       "      <td>927</td>\n",
       "      <td>12261</td>\n",
       "      <td>7.6</td>\n",
       "    </tr>\n",
       "  </tbody>\n",
       "</table>\n",
       "</div>"
      ],
      "text/plain": [
       "                       total_debtors  total_people  debt_percentage\n",
       "Не женат / не замужем            273          2796              9.8\n",
       "в разводе                         84          1189              7.1\n",
       "вдовец / вдова                    63           951              6.6\n",
       "гражданский брак                 385          4134              9.3\n",
       "женат / замужем                  927         12261              7.6"
      ]
     },
     "execution_count": 31,
     "metadata": {},
     "output_type": "execute_result"
    }
   ],
   "source": [
    "family_status_data['debt_percentage'] = (family_status_data['total_debtors'] / family_status_data['total_people'] * 100).round(1)\n",
    "family_status_data"
   ]
  },
  {
   "cell_type": "markdown",
   "id": "eace91c8",
   "metadata": {},
   "source": [
    "<div class=\"alert alert-success\">\n",
    "<b>✅ Комментарий ревьюера v1: </b> \n",
    "\n",
    "Таблица верная!\n",
    "    \n",
    "</div>"
   ]
  },
  {
   "cell_type": "code",
   "execution_count": 32,
   "id": "62574113",
   "metadata": {
    "scrolled": false
   },
   "outputs": [
    {
     "data": {
      "text/plain": [
       "<AxesSubplot:>"
      ]
     },
     "execution_count": 32,
     "metadata": {},
     "output_type": "execute_result"
    },
    {
     "data": {
      "image/png": "[encoded data removed]",
      "text/plain": [
       "<Figure size 432x288 with 1 Axes>"
      ]
     },
     "metadata": {
      "needs_background": "light"
     },
     "output_type": "display_data"
    }
   ],
   "source": [
    "family_status_data.plot(kind='bar', y=['debt_percentage'], rot=90)"
   ]
  },
  {
   "cell_type": "markdown",
   "id": "cf05ed63",
   "metadata": {
    "deletable": false,
    "id": "cf05ed63"
   },
   "source": [
    "**Вывод:** Семейное положение влияет на возврат кредита. Клиенты, не состоящие в браке или гражданском браке, имеют более высокий процент должников по сравнению с теми, кто состоит в браке или гражданском браке."
   ]
  },
  {
   "cell_type": "markdown",
   "id": "2de788f9",
   "metadata": {},
   "source": [
    "<div class=\"alert alert-danger\">\n",
    "<b>❌ Комментарий ревьюера: v1 </b> \n",
    "\n",
    "Добавь, пожалуйста, вывод по пункту.\n",
    "   \n",
    "</div>\n"
   ]
  },
  {
   "cell_type": "markdown",
   "id": "1713667c",
   "metadata": {},
   "source": [
    "<div class=\"alert alert-info\"> <b>Комментарий студента v1:</b> Не совсем понял что ты имеешь ввиду что значит добавь \"Вывод по пункту\".</div>"
   ]
  },
  {
   "cell_type": "markdown",
   "id": "39abd4ef",
   "metadata": {},
   "source": [
    "<div class=\"alert alert-danger\">\n",
    "<b>❌ Комментарий ревьюера v2: </b> \n",
    "\n",
    "Я имела ввиду, что в пункте должен быть вывод, т.е. ответ на вопрос: \"Есть ли зависимость между семейным положением и возвратом кредита в срок?\"\n",
    "    \n",
    "Т.е. тебе необходимо проанализировать полученную таблицу и сформулировать выявленную закономерность.\n",
    "    \n",
    "Нобходимо добавить вывод также как в предыдущем пункте. Я про это:\n",
    "    \n",
    "*Вывод: Я провел анализ зависимости между количеством детей и возвратом кредита в срок. Вначале, я сгруппировал данные по количеству детей и наличию задолженности, и подсчитал количество записей в каждой группе с помощью метода value_counts(). Результат анализа показывает, что в большинстве случаев, независимо от количества детей, процент должников невелик и составляет менее 10%. Однако, процент должников немного выше у заемщиков с детьми, чем у тех, у кого нет детей. Общий вывод: На основе этих данных можно сказать, что есть слабая зависимость между количеством детей и возвратом кредита в срок, и процент должников немного выше у семей с детьми. *\n",
    "\n",
    "</div>"
   ]
  },
  {
   "cell_type": "markdown",
   "id": "3783d036",
   "metadata": {},
   "source": [
    "<div class=\"alert alert-info\"> <b>Комментарий студента v2:</b> The save operation succeeded, but the notebook does not appear to be valid. The validation error was:\n",
    "\n",
    "Notebook validation failed: Non-unique cell id 'cf05ed63' detected. Corrected to '7fad57f6'. Подскажи пожалуйста что это такое и как с этим бороться?<UNKNOWN></div>"
   ]
  },
  {
   "cell_type": "markdown",
   "id": "940b9fb9",
   "metadata": {},
   "source": [
    "<div class=\"alert alert-success\">\n",
    "<b>✅ Комментарий ревьюера v3: </b> \n",
    "\n",
    "Это проблема со стороны формата ячеек юпитера. Обычно решается тем, что вырезаются и заново вставляются все ячейки. Но в данном проекте это не работает, т.к. стоит защита на удаление первой части проекта.\n",
    "</div>"
   ]
  },
  {
   "cell_type": "markdown",
   "id": "62985c30",
   "metadata": {},
   "source": [
    "<div class=\"alert alert-success\">\n",
    "<b>✅ Комментарий ревьюера v3: </b> \n",
    "\n",
    "С выводом согласна.\n",
    "</div>"
   ]
  },
  {
   "cell_type": "markdown",
   "id": "9529de68",
   "metadata": {
    "deletable": false,
    "editable": false,
    "id": "9529de68"
   },
   "source": [
    "#### 3.3 Есть ли зависимость между уровнем дохода и возвратом кредита в срок?"
   ]
  },
  {
   "cell_type": "code",
   "execution_count": 33,
   "id": "8787f44a",
   "metadata": {
    "deletable": false,
    "id": "8787f44a",
    "scrolled": true
   },
   "outputs": [
    {
     "data": {
      "text/html": [
       "<div>\n",
       "<style scoped>\n",
       "    .dataframe tbody tr th:only-of-type {\n",
       "        vertical-align: middle;\n",
       "    }\n",
       "\n",
       "    .dataframe tbody tr th {\n",
       "        vertical-align: top;\n",
       "    }\n",
       "\n",
       "    .dataframe thead th {\n",
       "        text-align: right;\n",
       "    }\n",
       "</style>\n",
       "<table border=\"1\" class=\"dataframe\">\n",
       "  <thead>\n",
       "    <tr style=\"text-align: right;\">\n",
       "      <th></th>\n",
       "      <th>count</th>\n",
       "      <th>mean</th>\n",
       "    </tr>\n",
       "    <tr>\n",
       "      <th>income_bins</th>\n",
       "      <th></th>\n",
       "      <th></th>\n",
       "    </tr>\n",
       "  </thead>\n",
       "  <tbody>\n",
       "    <tr>\n",
       "      <th>(0, 100000]</th>\n",
       "      <td>4444</td>\n",
       "      <td>7.97</td>\n",
       "    </tr>\n",
       "    <tr>\n",
       "      <th>(100000, 135000]</th>\n",
       "      <td>4432</td>\n",
       "      <td>8.42</td>\n",
       "    </tr>\n",
       "    <tr>\n",
       "      <th>(135000, 165000]</th>\n",
       "      <td>4289</td>\n",
       "      <td>8.84</td>\n",
       "    </tr>\n",
       "    <tr>\n",
       "      <th>(165000, 220000]</th>\n",
       "      <td>4181</td>\n",
       "      <td>8.20</td>\n",
       "    </tr>\n",
       "    <tr>\n",
       "      <th>(220000, 2300000]</th>\n",
       "      <td>3985</td>\n",
       "      <td>7.10</td>\n",
       "    </tr>\n",
       "  </tbody>\n",
       "</table>\n",
       "</div>"
      ],
      "text/plain": [
       "                   count  mean\n",
       "income_bins                   \n",
       "(0, 100000]         4444  7.97\n",
       "(100000, 135000]    4432  8.42\n",
       "(135000, 165000]    4289  8.84\n",
       "(165000, 220000]    4181  8.20\n",
       "(220000, 2300000]   3985  7.10"
      ]
     },
     "execution_count": 33,
     "metadata": {},
     "output_type": "execute_result"
    }
   ],
   "source": [
    "data['income_bins'] = pd.cut(data['total_income'],[0,100000,135000,165000,220000,2300000])\n",
    "result = data.groupby('income_bins')['debt'].agg(['count','mean'])\n",
    "result['mean'] = (result['mean'] * 100).round(2)\n",
    "result"
   ]
  },
  {
   "cell_type": "markdown",
   "id": "f8fbb2d5",
   "metadata": {},
   "source": [
    "<div class=\"alert alert-success\">\n",
    "<b>✅ Комментарий ревьюера v1: </b> \n",
    "\n",
    "Молодец, что используешь метод qcut()!\n",
    "    \n",
    "</div>"
   ]
  },
  {
   "cell_type": "code",
   "execution_count": 34,
   "id": "9ae3b4bd",
   "metadata": {
    "scrolled": false
   },
   "outputs": [
    {
     "data": {
      "text/plain": [
       "<AxesSubplot:xlabel='income_bins'>"
      ]
     },
     "execution_count": 34,
     "metadata": {},
     "output_type": "execute_result"
    },
    {
     "data": {
      "image/png": "[encoded data removed]",
      "text/plain": [
       "<Figure size 432x288 with 1 Axes>"
      ]
     },
     "metadata": {
      "needs_background": "light"
     },
     "output_type": "display_data"
    }
   ],
   "source": [
    "result.plot(kind='bar', y=['mean'], rot=90)"
   ]
  },
  {
   "cell_type": "markdown",
   "id": "6dd14b57",
   "metadata": {
    "deletable": false,
    "id": "6dd14b57"
   },
   "source": [
    "**Вывод:** Видимой зависимости между уровнем дохода и возвратом кредита нет, что совершенно контринтуитивно. Либо действительно размер дохода не влияет на выполнение заемщиком обязательств, либо в исходных данных о доходе есть ошибки, например, перемешаны сведения о доходах за месяц и год, или отличаются валюты. Только клиенты с очень высоким уровнем дохода имеют немного меньший процент должников, но разница не существенна."
   ]
  },
  {
   "cell_type": "markdown",
   "id": "692be103",
   "metadata": {},
   "source": [
    "<div class=\"alert alert-danger\">\n",
    "<b>❌ Комментарий ревьюера: v1 </b> \n",
    "\n",
    "Добавь, пожалуйста, вывод по пункту.\n",
    "   \n",
    "</div>\n"
   ]
  },
  {
   "cell_type": "markdown",
   "id": "9f3dacb1",
   "metadata": {},
   "source": [
    "<div class=\"alert alert-info\"> <b>Комментарий студента v1:</b> Не совсем понял что ты имеешь ввиду что значит добавь \"Вывод по пункту\".</div>"
   ]
  },
  {
   "cell_type": "markdown",
   "id": "ba497a4c",
   "metadata": {},
   "source": [
    "<div class=\"alert alert-danger\">\n",
    "<b>❌ Комментарий ревьюера v2: </b> \n",
    "\n",
    "См.предыдущий пункт. </div>"
   ]
  },
  {
   "cell_type": "markdown",
   "id": "5b970f89",
   "metadata": {},
   "source": [
    "<div class=\"alert alert-success\">\n",
    "<b>✅ Комментарий ревьюера v3: </b> \n",
    "\n",
    "Вывод верный 👍\n",
    "</div>"
   ]
  },
  {
   "cell_type": "markdown",
   "id": "1dcc9b12",
   "metadata": {
    "deletable": false,
    "editable": false,
    "id": "1dcc9b12"
   },
   "source": [
    "#### 3.4 Как разные цели кредита влияют на его возврат в срок?"
   ]
  },
  {
   "cell_type": "code",
   "execution_count": 35,
   "id": "d873a6bd",
   "metadata": {
    "scrolled": true
   },
   "outputs": [
    {
     "data": {
      "text/plain": [
       "21331"
      ]
     },
     "execution_count": 35,
     "metadata": {},
     "output_type": "execute_result"
    }
   ],
   "source": [
    "purpose_data = data['purpose'].value_counts().sum()\n",
    "purpose_data"
   ]
  },
  {
   "cell_type": "code",
   "execution_count": 36,
   "id": "c602bc8b",
   "metadata": {
    "deletable": false,
    "id": "c602bc8b",
    "scrolled": true
   },
   "outputs": [
    {
     "data": {
      "text/plain": [
       "операции с недвижимостью    10751\n",
       "операции с автомобилем       4279\n",
       "получение образования        3988\n",
       "проведение свадьбы           2313\n",
       "Name: purpose, dtype: int64"
      ]
     },
     "execution_count": 36,
     "metadata": {},
     "output_type": "execute_result"
    }
   ],
   "source": [
    "def categorize_purpose(row):\n",
    "    try:\n",
    "        if 'автом' in row:\n",
    "            return 'операции с автомобилем'\n",
    "        elif 'жил' in row or 'недвиж' in row:\n",
    "            return 'операции с недвижимостью'\n",
    "        elif 'свад' in row:\n",
    "            return 'проведение свадьбы'\n",
    "        elif 'образов' in row:\n",
    "            return 'получение образования'\n",
    "    except:\n",
    "        return 'нет категории'\n",
    "    \n",
    "data['purpose'] = data['purpose'].apply(categorize_purpose)\n",
    "\n",
    "purpose_data = data['purpose'].value_counts()\n",
    "purpose_data"
   ]
  },
  {
   "cell_type": "code",
   "execution_count": 37,
   "id": "7cdb6b66",
   "metadata": {
    "scrolled": true
   },
   "outputs": [
    {
     "data": {
      "text/plain": [
       "purpose\n",
       "операции с автомобилем      400\n",
       "операции с недвижимостью    780\n",
       "получение образования       369\n",
       "проведение свадьбы          183\n",
       "Name: debt, dtype: int64"
      ]
     },
     "execution_count": 37,
     "metadata": {},
     "output_type": "execute_result"
    }
   ],
   "source": [
    "purpose_data1 = data.groupby('purpose')['debt'].value_counts()\n",
    "purpose_data1 = data[data['debt'] == 1].groupby('purpose')['debt'].count()\n",
    "purpose_data1"
   ]
  },
  {
   "cell_type": "code",
   "execution_count": 38,
   "id": "cb53301d",
   "metadata": {
    "scrolled": true
   },
   "outputs": [
    {
     "data": {
      "text/html": [
       "<div>\n",
       "<style scoped>\n",
       "    .dataframe tbody tr th:only-of-type {\n",
       "        vertical-align: middle;\n",
       "    }\n",
       "\n",
       "    .dataframe tbody tr th {\n",
       "        vertical-align: top;\n",
       "    }\n",
       "\n",
       "    .dataframe thead th {\n",
       "        text-align: right;\n",
       "    }\n",
       "</style>\n",
       "<table border=\"1\" class=\"dataframe\">\n",
       "  <thead>\n",
       "    <tr style=\"text-align: right;\">\n",
       "      <th></th>\n",
       "      <th>debt_number</th>\n",
       "      <th>total_number</th>\n",
       "    </tr>\n",
       "  </thead>\n",
       "  <tbody>\n",
       "    <tr>\n",
       "      <th>операции с автомобилем</th>\n",
       "      <td>400</td>\n",
       "      <td>4279</td>\n",
       "    </tr>\n",
       "    <tr>\n",
       "      <th>операции с недвижимостью</th>\n",
       "      <td>780</td>\n",
       "      <td>10751</td>\n",
       "    </tr>\n",
       "    <tr>\n",
       "      <th>получение образования</th>\n",
       "      <td>369</td>\n",
       "      <td>3988</td>\n",
       "    </tr>\n",
       "    <tr>\n",
       "      <th>проведение свадьбы</th>\n",
       "      <td>183</td>\n",
       "      <td>2313</td>\n",
       "    </tr>\n",
       "  </tbody>\n",
       "</table>\n",
       "</div>"
      ],
      "text/plain": [
       "                          debt_number  total_number\n",
       "операции с автомобилем            400          4279\n",
       "операции с недвижимостью          780         10751\n",
       "получение образования             369          3988\n",
       "проведение свадьбы                183          2313"
      ]
     },
     "execution_count": 38,
     "metadata": {},
     "output_type": "execute_result"
    }
   ],
   "source": [
    "purpose_data = pd.concat([purpose_data1, purpose_data], axis=1)\n",
    "purpose_data.columns = ['debt_number', 'total_number']\n",
    "purpose_data"
   ]
  },
  {
   "cell_type": "code",
   "execution_count": 39,
   "id": "5d278d42",
   "metadata": {
    "scrolled": true
   },
   "outputs": [
    {
     "data": {
      "text/html": [
       "<div>\n",
       "<style scoped>\n",
       "    .dataframe tbody tr th:only-of-type {\n",
       "        vertical-align: middle;\n",
       "    }\n",
       "\n",
       "    .dataframe tbody tr th {\n",
       "        vertical-align: top;\n",
       "    }\n",
       "\n",
       "    .dataframe thead th {\n",
       "        text-align: right;\n",
       "    }\n",
       "</style>\n",
       "<table border=\"1\" class=\"dataframe\">\n",
       "  <thead>\n",
       "    <tr style=\"text-align: right;\">\n",
       "      <th></th>\n",
       "      <th>debt_number</th>\n",
       "      <th>total_number</th>\n",
       "      <th>debt_percentage</th>\n",
       "    </tr>\n",
       "  </thead>\n",
       "  <tbody>\n",
       "    <tr>\n",
       "      <th>операции с автомобилем</th>\n",
       "      <td>400</td>\n",
       "      <td>4279</td>\n",
       "      <td>9.35</td>\n",
       "    </tr>\n",
       "    <tr>\n",
       "      <th>операции с недвижимостью</th>\n",
       "      <td>780</td>\n",
       "      <td>10751</td>\n",
       "      <td>7.26</td>\n",
       "    </tr>\n",
       "    <tr>\n",
       "      <th>получение образования</th>\n",
       "      <td>369</td>\n",
       "      <td>3988</td>\n",
       "      <td>9.25</td>\n",
       "    </tr>\n",
       "    <tr>\n",
       "      <th>проведение свадьбы</th>\n",
       "      <td>183</td>\n",
       "      <td>2313</td>\n",
       "      <td>7.91</td>\n",
       "    </tr>\n",
       "  </tbody>\n",
       "</table>\n",
       "</div>"
      ],
      "text/plain": [
       "                          debt_number  total_number  debt_percentage\n",
       "операции с автомобилем            400          4279             9.35\n",
       "операции с недвижимостью          780         10751             7.26\n",
       "получение образования             369          3988             9.25\n",
       "проведение свадьбы                183          2313             7.91"
      ]
     },
     "execution_count": 39,
     "metadata": {},
     "output_type": "execute_result"
    }
   ],
   "source": [
    "purpose_data['debt_percentage'] = (purpose_data['debt_number'] / purpose_data['total_number'] * 100).round(2)\n",
    "purpose_data"
   ]
  },
  {
   "cell_type": "markdown",
   "id": "5ba6b848",
   "metadata": {},
   "source": [
    "<div class=\"alert alert-success\">\n",
    "<b>✅ Комментарий ревьюера v1: </b> \n",
    "\n",
    "Таблица верная!\n",
    "    \n",
    "</div>"
   ]
  },
  {
   "cell_type": "code",
   "execution_count": 40,
   "id": "8e9d0384",
   "metadata": {
    "scrolled": true
   },
   "outputs": [
    {
     "data": {
      "text/plain": [
       "<AxesSubplot:>"
      ]
     },
     "execution_count": 40,
     "metadata": {},
     "output_type": "execute_result"
    },
    {
     "data": {
      "image/png": "[encoded data removed]",
      "text/plain": [
       "<Figure size 432x288 with 1 Axes>"
      ]
     },
     "metadata": {
      "needs_background": "light"
     },
     "output_type": "display_data"
    }
   ],
   "source": [
    "purpose_data.plot(kind='bar', y=['debt_percentage'], rot=90)"
   ]
  },
  {
   "cell_type": "markdown",
   "id": "04171108",
   "metadata": {
    "deletable": false,
    "id": "cf05ed63"
   },
   "source": [
    "**Вывод:** Цель кредита влияет на возврат кредита. Клиенты, берущие кредиты на образование или операции с автомобилем, имеют более высокий процент должников по сравнению с теми, кто берет кредиты на недвижимость или свадьбу."
   ]
  },
  {
   "cell_type": "markdown",
   "id": "19c5bf1d",
   "metadata": {},
   "source": [
    "<div class=\"alert alert-danger\">\n",
    "<b>❌ Комментарий ревьюера: v1 </b> \n",
    "\n",
    "Добавь, пожалуйста, вывод по пункту.\n",
    "   \n",
    "</div>\n"
   ]
  },
  {
   "cell_type": "markdown",
   "id": "e0e3d087",
   "metadata": {},
   "source": [
    "<div class=\"alert alert-info\"> <b>Комментарий студента v1:</b> Не совсем понял что ты имеешь ввиду что значит добавь \"Вывод по пункту\".</div>"
   ]
  },
  {
   "cell_type": "markdown",
   "id": "37a1c1e3",
   "metadata": {},
   "source": [
    "<div class=\"alert alert-danger\">\n",
    "<b>❌ Комментарий ревьюера v2: </b> \n",
    "\n",
    "См.предыдущий пункт. </div>"
   ]
  },
  {
   "cell_type": "markdown",
   "id": "428e06ae",
   "metadata": {},
   "source": [
    "<div class=\"alert alert-success\">\n",
    "<b>✅ Комментарий ревьюера v3: </b> \n",
    "\n",
    "👍\n",
    "</div>"
   ]
  },
  {
   "cell_type": "markdown",
   "id": "f82cab29",
   "metadata": {},
   "source": [
    "<div class=\"alert alert-danger\">\n",
    "<b>❌ Комментарий ревьюера: v1 </b> \n",
    "\n",
    "Дальше проект почему-то не доделан.\n",
    "   \n",
    "</div>\n"
   ]
  },
  {
   "cell_type": "markdown",
   "id": "744d9e4a",
   "metadata": {},
   "source": [
    "<div class=\"alert alert-info\"> <b>Комментарий студента v1\n",
    "    :</b> Странно видимо в какой то момент не сохранилась тетрадка.</div>"
   ]
  },
  {
   "cell_type": "markdown",
   "id": "46c1f10b",
   "metadata": {
    "deletable": false,
    "editable": false,
    "id": "46c1f10b"
   },
   "source": [
    "#### 3.5 Приведите возможные причины появления пропусков в исходных данных."
   ]
  },
  {
   "cell_type": "markdown",
   "id": "3697d2a9",
   "metadata": {
    "deletable": false,
    "id": "3697d2a9"
   },
   "source": [
    "Существует несколько причин для отсутствия данных, такие как ошибки при вводе данных, клиенты, которые не предоставили определенную информацию, или ошибки системы при сборе данных."
   ]
  },
  {
   "cell_type": "markdown",
   "id": "ce2d1281",
   "metadata": {},
   "source": [
    "<div class=\"alert alert-success\">\n",
    "<b>✅ Комментарий ревьюера v2: </b>\n",
    " \n",
    "Все верно. Пропуски здесь могут возникать как из-за технической проблемы, так и из-за человеческого фактора. Например, если какие-то поля были не обязательными для заполнения.</div>"
   ]
  },
  {
   "cell_type": "markdown",
   "id": "3137d257",
   "metadata": {
    "deletable": false,
    "editable": false,
    "id": "3137d257"
   },
   "source": [
    "#### 3.6 Объясните, почему заполнить пропуски медианным значением — лучшее решение для количественных переменных."
   ]
  },
  {
   "cell_type": "markdown",
   "id": "cf40012a",
   "metadata": {
    "deletable": false,
    "id": "cf40012a"
   },
   "source": [
    "Заполнение пропущенных значений медианным значением является лучшим решением, так как медиана менее чувствительна к выбросам и аномалиям в данных по сравнению с средним значением. Это позволяет избежать искажения результатов из-за выбросов и обеспечить более устойчивую оценку центральной тенденции."
   ]
  },
  {
   "cell_type": "markdown",
   "id": "5e144d00",
   "metadata": {},
   "source": [
    "<div class=\"alert alert-success\">\n",
    "<b>✅ Комментарий ревьюера v2: </b>\n",
    " \n",
    "Все верно. </div>"
   ]
  },
  {
   "cell_type": "markdown",
   "id": "57bc304e",
   "metadata": {
    "deletable": false,
    "editable": false,
    "id": "57bc304e"
   },
   "source": [
    "### Шаг 4: общий вывод."
   ]
  },
  {
   "cell_type": "markdown",
   "id": "1ab75d1c",
   "metadata": {
    "deletable": false,
    "id": "1ab75d1c"
   },
   "source": [
    "**Вывод:**\n",
    "Исходя из результатов анализа, можно заключить, что семейное положение, наличие детей, уровень дохода и цель кредита могут влиять на возврат кредита в срок. Эти факторы оказываются важными при оценке кредитоспособности заемщиков и могут быть учтены при разработке более эффективных стратегий кредитования.\n",
    "\n",
    "При анализе набора данных о клиентах банка, включая информацию о различных аспектах их жизни и финансов, были выявлены следующие основные факторы:\n",
    "\n",
    "**Количество детей:** В данных представлены клиенты как с детьми, так и без них. Наблюдается некоторая слабая корреляция между наличием детей и возвратом кредита в срок. Процент должников оказался немного выше у клиентов с детьми.\n",
    "\n",
    "**Семейное положение:** Семейное положение клиентов имеет влияние на возврат кредита. Клиенты, не находящиеся в браке или гражданском браке, имеют более высокий процент должников по сравнению с теми, кто состоит в браке или гражданском браке.\n",
    "\n",
    "**Уровень дохода:** Существует некоторая связь между уровнем дохода и возвратом кредита. Клиенты с более высоким уровнем дохода имеют немного меньший процент должников, однако разница не слишком значительна.\n",
    "\n",
    "**Цель кредита:** Цель кредита также оказывает влияние на возврат кредита. Клиенты, берущие кредиты на образование или операции с автомобилем, имеют более высокий процент должников по сравнению с теми, кто берет кредиты на недвижимость или свадьбу.\n",
    "\n",
    "**Также в ходе предобработки данных были выявленны следующие ошибки:**\n",
    "\n",
    "**Пропуски в данных:**\n",
    "В данных были выявлены пропуски. Их появление может быть обусловлено ошибками при вводе данных, отсутствием предоставления клиентами определенной информации или ошибками в системе сбора данных.\n",
    "\n",
    "**Заполнение пропусков:** \n",
    "Для обработки пропусков в данных было применено заполнение медианными значениями в количественных переменных. Медиана использовалась, так как она менее чувствительна к выбросам, обеспечивая более стабильную оценку центральной тенденции."
   ]
  },
  {
   "cell_type": "markdown",
   "id": "1dc1fc88",
   "metadata": {},
   "source": [
    "<div class=\"alert alert-warning\">\n",
    "<b>⚠️ Комментарий ревьюера v2: </b> \n",
    "\n",
    "Предлагаю сделать общий вывод немного подробнее: добавь информацию о том, с какими данными мы работали, что было сделано на этапе предобработки. Можно дать рекомендации по улучшению качества данных.\n",
    "\n",
    "Часто заказчик читает только общий вывод, поэтому в общий вывод нам надо включить все выявленные зависимости и инсайты в каждом пункте исследования. </div>"
   ]
  },
  {
   "cell_type": "markdown",
   "id": "1af82c76",
   "metadata": {},
   "source": [
    "<div class=\"alert alert-success\">\n",
    "<b>✅ Комментарий ревьюера v3: </b> \n",
    "\n",
    "Отличная отработка общего вывода. 👏\n",
    "</div>"
   ]
  },
  {
   "cell_type": "markdown",
   "id": "6d3525ea",
   "metadata": {},
   "source": [
    "<div style=\"border:solid green 2px; padding: 20px\">\n",
    "    \n",
    "Егор, у тебя получилась хорошая работа, но надо кое-что подправить. \n",
    "\n",
    "Основные критические замечания:\n",
    "- добавить выводы по пунктам;\n",
    "- доделать проект.\n",
    "    \n",
    "Уверена, ты быстро с ними справишься.\n",
    "\n",
    "С нетерпением жду твою работу обратно!) </div>"
   ]
  },
  {
   "cell_type": "markdown",
   "id": "e342454b",
   "metadata": {},
   "source": [
    "<div style=\"border:solid green 2px; padding: 20px\">\n",
    "    \n",
    "Основное критическое замечание:\n",
    "- добавить выводы по пунктам и включить их в общий вывод.\n",
    " </div>"
   ]
  },
  {
   "cell_type": "markdown",
   "id": "117bbacb",
   "metadata": {},
   "source": [
    "<div style=\"border:solid green 2px; padding: 20px\">\n",
    " \n",
    "Егор, исследование отлично доработано, проект принят! \n",
    "\n",
    "Мне было приятно проверять твою работу. Удачи в дальнейшем обучении.</div>"
   ]
  }
 ],
 "metadata": {
  "ExecuteTimeLog": [
   {
    "duration": 45,
    "start_time": "2023-10-20T13:05:45.237Z"
   },
   {
    "duration": 462,
    "start_time": "2023-10-20T13:05:51.881Z"
   },
   {
    "duration": 23,
    "start_time": "2023-10-20T13:05:52.345Z"
   },
   {
    "duration": 15,
    "start_time": "2023-10-20T13:05:52.370Z"
   },
   {
    "duration": 10,
    "start_time": "2023-10-20T13:05:52.387Z"
   },
   {
    "duration": 63,
    "start_time": "2023-10-20T13:05:52.399Z"
   },
   {
    "duration": 3,
    "start_time": "2023-10-20T13:05:52.464Z"
   },
   {
    "duration": 21,
    "start_time": "2023-10-20T13:05:52.469Z"
   },
   {
    "duration": 7,
    "start_time": "2023-10-20T13:05:52.491Z"
   },
   {
    "duration": 11,
    "start_time": "2023-10-20T13:05:52.499Z"
   },
   {
    "duration": 13,
    "start_time": "2023-10-20T13:05:52.511Z"
   },
   {
    "duration": 48,
    "start_time": "2023-10-20T13:05:52.525Z"
   },
   {
    "duration": 10,
    "start_time": "2023-10-20T13:05:52.575Z"
   },
   {
    "duration": 12,
    "start_time": "2023-10-20T13:05:52.586Z"
   },
   {
    "duration": 11,
    "start_time": "2023-10-20T13:05:52.600Z"
   },
   {
    "duration": 31,
    "start_time": "2023-10-20T13:05:52.613Z"
   },
   {
    "duration": 16,
    "start_time": "2023-10-20T13:05:52.645Z"
   },
   {
    "duration": 4,
    "start_time": "2023-10-20T13:05:52.663Z"
   },
   {
    "duration": 20,
    "start_time": "2023-10-20T13:05:52.668Z"
   },
   {
    "duration": 20,
    "start_time": "2023-10-20T13:05:52.689Z"
   },
   {
    "duration": 10,
    "start_time": "2023-10-20T13:05:52.710Z"
   },
   {
    "duration": 25,
    "start_time": "2023-10-20T13:05:52.724Z"
   },
   {
    "duration": 17,
    "start_time": "2023-10-20T13:05:52.750Z"
   },
   {
    "duration": 9,
    "start_time": "2023-10-20T13:05:52.769Z"
   },
   {
    "duration": 11,
    "start_time": "2023-10-20T13:05:52.779Z"
   },
   {
    "duration": 7,
    "start_time": "2023-10-20T13:05:52.792Z"
   },
   {
    "duration": 12,
    "start_time": "2023-10-20T13:06:02.742Z"
   },
   {
    "duration": 9,
    "start_time": "2023-10-20T13:07:33.536Z"
   },
   {
    "duration": 16,
    "start_time": "2023-10-20T13:11:56.730Z"
   },
   {
    "duration": 16,
    "start_time": "2023-10-20T13:12:07.123Z"
   },
   {
    "duration": 24,
    "start_time": "2023-10-20T13:14:11.528Z"
   },
   {
    "duration": 9,
    "start_time": "2023-10-20T13:15:50.495Z"
   },
   {
    "duration": 3,
    "start_time": "2023-10-20T13:20:26.681Z"
   },
   {
    "duration": 3,
    "start_time": "2023-10-20T13:20:38.379Z"
   },
   {
    "duration": 3,
    "start_time": "2023-10-20T13:20:49.381Z"
   },
   {
    "duration": 537,
    "start_time": "2023-10-20T13:21:05.734Z"
   },
   {
    "duration": 23,
    "start_time": "2023-10-20T13:21:06.273Z"
   },
   {
    "duration": 16,
    "start_time": "2023-10-20T13:21:06.297Z"
   },
   {
    "duration": 16,
    "start_time": "2023-10-20T13:21:06.326Z"
   },
   {
    "duration": 34,
    "start_time": "2023-10-20T13:21:06.344Z"
   },
   {
    "duration": 3,
    "start_time": "2023-10-20T13:21:06.380Z"
   },
   {
    "duration": 14,
    "start_time": "2023-10-20T13:21:06.384Z"
   },
   {
    "duration": 7,
    "start_time": "2023-10-20T13:21:06.400Z"
   },
   {
    "duration": 9,
    "start_time": "2023-10-20T13:21:06.434Z"
   },
   {
    "duration": 6,
    "start_time": "2023-10-20T13:21:06.445Z"
   },
   {
    "duration": 53,
    "start_time": "2023-10-20T13:21:06.453Z"
   },
   {
    "duration": 10,
    "start_time": "2023-10-20T13:21:06.508Z"
   },
   {
    "duration": 13,
    "start_time": "2023-10-20T13:21:06.520Z"
   },
   {
    "duration": 17,
    "start_time": "2023-10-20T13:21:06.534Z"
   },
   {
    "duration": 24,
    "start_time": "2023-10-20T13:21:06.552Z"
   },
   {
    "duration": 17,
    "start_time": "2023-10-20T13:21:06.578Z"
   },
   {
    "duration": 8,
    "start_time": "2023-10-20T13:21:06.597Z"
   },
   {
    "duration": 22,
    "start_time": "2023-10-20T13:21:06.606Z"
   },
   {
    "duration": 12,
    "start_time": "2023-10-20T13:21:06.634Z"
   },
   {
    "duration": 7,
    "start_time": "2023-10-20T13:21:06.647Z"
   },
   {
    "duration": 11,
    "start_time": "2023-10-20T13:21:06.655Z"
   },
   {
    "duration": 17,
    "start_time": "2023-10-20T13:21:06.667Z"
   },
   {
    "duration": 13,
    "start_time": "2023-10-20T13:21:06.686Z"
   },
   {
    "duration": 20,
    "start_time": "2023-10-20T13:21:06.702Z"
   },
   {
    "duration": 11,
    "start_time": "2023-10-20T13:21:06.724Z"
   },
   {
    "duration": 3,
    "start_time": "2023-10-20T13:21:15.672Z"
   },
   {
    "duration": 5,
    "start_time": "2023-10-20T13:22:03.216Z"
   },
   {
    "duration": 6,
    "start_time": "2023-10-20T13:22:11.000Z"
   },
   {
    "duration": 6,
    "start_time": "2023-10-20T13:22:37.449Z"
   },
   {
    "duration": 700,
    "start_time": "2023-10-20T13:24:22.694Z"
   },
   {
    "duration": 147,
    "start_time": "2023-10-20T13:24:31.435Z"
   },
   {
    "duration": 139,
    "start_time": "2023-10-20T13:24:35.197Z"
   },
   {
    "duration": 116,
    "start_time": "2023-10-20T13:31:59.291Z"
   },
   {
    "duration": 4,
    "start_time": "2023-10-20T13:32:26.242Z"
   },
   {
    "duration": 182,
    "start_time": "2023-10-20T13:34:59.097Z"
   },
   {
    "duration": 124,
    "start_time": "2023-10-20T13:35:30.150Z"
   },
   {
    "duration": 123,
    "start_time": "2023-10-20T13:35:47.163Z"
   },
   {
    "duration": 154,
    "start_time": "2023-10-20T13:41:42.611Z"
   },
   {
    "duration": 16,
    "start_time": "2023-10-20T13:44:56.563Z"
   },
   {
    "duration": 22,
    "start_time": "2023-10-20T13:45:05.847Z"
   },
   {
    "duration": 31,
    "start_time": "2023-10-20T13:46:10.548Z"
   },
   {
    "duration": 41,
    "start_time": "2023-10-20T13:46:34.290Z"
   },
   {
    "duration": 167,
    "start_time": "2023-10-20T13:46:47.499Z"
   },
   {
    "duration": 178,
    "start_time": "2023-10-20T13:47:58.507Z"
   },
   {
    "duration": 207,
    "start_time": "2023-10-20T13:51:14.407Z"
   },
   {
    "duration": 19,
    "start_time": "2023-10-20T13:52:28.999Z"
   },
   {
    "duration": 3,
    "start_time": "2023-10-20T13:52:41.847Z"
   },
   {
    "duration": 21,
    "start_time": "2023-10-20T13:52:45.576Z"
   },
   {
    "duration": 89,
    "start_time": "2023-10-20T13:53:38.191Z"
   },
   {
    "duration": 125,
    "start_time": "2023-10-20T13:53:41.787Z"
   },
   {
    "duration": 139,
    "start_time": "2023-10-20T13:53:59.863Z"
   },
   {
    "duration": 23,
    "start_time": "2023-10-20T13:55:29.972Z"
   },
   {
    "duration": 29,
    "start_time": "2023-10-20T13:55:47.338Z"
   },
   {
    "duration": 23,
    "start_time": "2023-10-20T13:55:53.262Z"
   },
   {
    "duration": 23,
    "start_time": "2023-10-20T13:57:22.409Z"
   },
   {
    "duration": 18,
    "start_time": "2023-10-20T13:59:54.071Z"
   },
   {
    "duration": 27,
    "start_time": "2023-10-20T14:00:09.811Z"
   },
   {
    "duration": 37,
    "start_time": "2023-10-20T14:01:18.363Z"
   },
   {
    "duration": 27,
    "start_time": "2023-10-20T14:02:07.914Z"
   },
   {
    "duration": 24,
    "start_time": "2023-10-20T14:04:02.198Z"
   },
   {
    "duration": 116,
    "start_time": "2023-10-20T14:05:39.768Z"
   },
   {
    "duration": 104,
    "start_time": "2023-10-20T14:07:36.375Z"
   },
   {
    "duration": 133,
    "start_time": "2023-10-20T14:08:59.293Z"
   },
   {
    "duration": 205,
    "start_time": "2023-10-20T14:09:07.847Z"
   },
   {
    "duration": 135,
    "start_time": "2023-10-20T14:09:15.473Z"
   },
   {
    "duration": 131,
    "start_time": "2023-10-20T14:09:37.362Z"
   },
   {
    "duration": 219,
    "start_time": "2023-10-20T14:11:35.939Z"
   },
   {
    "duration": 26,
    "start_time": "2023-10-20T14:12:49.491Z"
   },
   {
    "duration": 682,
    "start_time": "2023-10-20T14:13:04.942Z"
   },
   {
    "duration": 48,
    "start_time": "2023-10-20T14:16:10.073Z"
   },
   {
    "duration": 147,
    "start_time": "2023-10-20T14:16:30.771Z"
   },
   {
    "duration": 556,
    "start_time": "2023-10-21T11:03:12.771Z"
   },
   {
    "duration": 29,
    "start_time": "2023-10-21T11:03:13.746Z"
   },
   {
    "duration": 17,
    "start_time": "2023-10-21T11:03:13.777Z"
   },
   {
    "duration": 39,
    "start_time": "2023-10-21T11:03:13.795Z"
   },
   {
    "duration": 819,
    "start_time": "2023-10-21T11:03:13.835Z"
   },
   {
    "duration": 7,
    "start_time": "2023-10-21T11:03:14.661Z"
   },
   {
    "duration": 20,
    "start_time": "2023-10-21T11:03:14.679Z"
   },
   {
    "duration": 28,
    "start_time": "2023-10-21T11:21:01.426Z"
   },
   {
    "duration": 14,
    "start_time": "2023-10-21T11:28:27.744Z"
   },
   {
    "duration": 144,
    "start_time": "2023-10-21T11:29:21.272Z"
   },
   {
    "duration": 81,
    "start_time": "2023-10-21T11:31:45.840Z"
   },
   {
    "duration": 7,
    "start_time": "2023-10-21T11:31:53.282Z"
   },
   {
    "duration": 6,
    "start_time": "2023-10-21T11:31:59.670Z"
   },
   {
    "duration": 5,
    "start_time": "2023-10-21T11:37:36.853Z"
   },
   {
    "duration": 9,
    "start_time": "2023-10-21T11:37:41.033Z"
   },
   {
    "duration": 9,
    "start_time": "2023-10-21T11:39:45.979Z"
   },
   {
    "duration": 11,
    "start_time": "2023-10-21T11:39:48.622Z"
   },
   {
    "duration": 16,
    "start_time": "2023-10-21T11:40:14.062Z"
   },
   {
    "duration": 20,
    "start_time": "2023-10-21T11:40:26.937Z"
   },
   {
    "duration": 15,
    "start_time": "2023-10-21T11:42:16.804Z"
   },
   {
    "duration": 15,
    "start_time": "2023-10-21T11:42:34.878Z"
   },
   {
    "duration": 15,
    "start_time": "2023-10-21T11:42:43.505Z"
   },
   {
    "duration": 21,
    "start_time": "2023-10-21T11:42:56.499Z"
   },
   {
    "duration": 14,
    "start_time": "2023-10-21T11:43:08.695Z"
   },
   {
    "duration": 520,
    "start_time": "2023-10-21T11:43:16.631Z"
   },
   {
    "duration": 24,
    "start_time": "2023-10-21T11:43:17.157Z"
   },
   {
    "duration": 36,
    "start_time": "2023-10-21T11:43:17.183Z"
   },
   {
    "duration": 61,
    "start_time": "2023-10-21T11:43:17.222Z"
   },
   {
    "duration": 80,
    "start_time": "2023-10-21T11:43:17.285Z"
   },
   {
    "duration": 3,
    "start_time": "2023-10-21T11:43:17.367Z"
   },
   {
    "duration": 64,
    "start_time": "2023-10-21T11:43:17.372Z"
   },
   {
    "duration": 30,
    "start_time": "2023-10-21T11:43:17.438Z"
   },
   {
    "duration": 23,
    "start_time": "2023-10-21T11:43:17.470Z"
   },
   {
    "duration": 47,
    "start_time": "2023-10-21T11:43:17.495Z"
   },
   {
    "duration": 67,
    "start_time": "2023-10-21T11:43:17.543Z"
   },
   {
    "duration": 53,
    "start_time": "2023-10-21T11:43:17.611Z"
   },
   {
    "duration": 24,
    "start_time": "2023-10-21T11:43:17.666Z"
   },
   {
    "duration": 35,
    "start_time": "2023-10-21T11:43:17.692Z"
   },
   {
    "duration": 47,
    "start_time": "2023-10-21T11:43:17.728Z"
   },
   {
    "duration": 25,
    "start_time": "2023-10-21T11:43:17.776Z"
   },
   {
    "duration": 22,
    "start_time": "2023-10-21T11:43:17.803Z"
   },
   {
    "duration": 46,
    "start_time": "2023-10-21T11:43:17.827Z"
   },
   {
    "duration": 43,
    "start_time": "2023-10-21T11:43:17.874Z"
   },
   {
    "duration": 24,
    "start_time": "2023-10-21T11:43:17.919Z"
   },
   {
    "duration": 19,
    "start_time": "2023-10-21T11:43:17.944Z"
   },
   {
    "duration": 57,
    "start_time": "2023-10-21T11:43:17.964Z"
   },
   {
    "duration": 70,
    "start_time": "2023-10-21T11:43:18.022Z"
   },
   {
    "duration": 28,
    "start_time": "2023-10-21T11:43:18.093Z"
   },
   {
    "duration": 15,
    "start_time": "2023-10-21T11:43:23.215Z"
   },
   {
    "duration": 14,
    "start_time": "2023-10-21T11:43:31.868Z"
   },
   {
    "duration": 7,
    "start_time": "2023-10-21T11:43:39.986Z"
   },
   {
    "duration": 511,
    "start_time": "2023-10-21T11:43:53.918Z"
   },
   {
    "duration": 32,
    "start_time": "2023-10-21T11:43:54.431Z"
   },
   {
    "duration": 22,
    "start_time": "2023-10-21T11:43:54.465Z"
   },
   {
    "duration": 11,
    "start_time": "2023-10-21T11:43:54.490Z"
   },
   {
    "duration": 62,
    "start_time": "2023-10-21T11:43:54.502Z"
   },
   {
    "duration": 4,
    "start_time": "2023-10-21T11:43:54.565Z"
   },
   {
    "duration": 12,
    "start_time": "2023-10-21T11:43:54.570Z"
   },
   {
    "duration": 4,
    "start_time": "2023-10-21T11:43:54.584Z"
   },
   {
    "duration": 16,
    "start_time": "2023-10-21T11:43:54.590Z"
   },
   {
    "duration": 4,
    "start_time": "2023-10-21T11:43:54.609Z"
   },
   {
    "duration": 57,
    "start_time": "2023-10-21T11:43:54.615Z"
   },
   {
    "duration": 10,
    "start_time": "2023-10-21T11:43:54.674Z"
   },
   {
    "duration": 3,
    "start_time": "2023-10-21T11:43:54.686Z"
   },
   {
    "duration": 12,
    "start_time": "2023-10-21T11:43:54.691Z"
   },
   {
    "duration": 45,
    "start_time": "2023-10-21T11:43:54.704Z"
   },
   {
    "duration": 20,
    "start_time": "2023-10-21T11:43:54.750Z"
   },
   {
    "duration": 3,
    "start_time": "2023-10-21T11:43:54.772Z"
   },
   {
    "duration": 14,
    "start_time": "2023-10-21T11:43:54.776Z"
   },
   {
    "duration": 5,
    "start_time": "2023-10-21T11:43:54.792Z"
   },
   {
    "duration": 9,
    "start_time": "2023-10-21T11:43:54.799Z"
   },
   {
    "duration": 24,
    "start_time": "2023-10-21T11:43:54.810Z"
   },
   {
    "duration": 33,
    "start_time": "2023-10-21T11:43:54.835Z"
   },
   {
    "duration": 4,
    "start_time": "2023-10-21T11:43:54.870Z"
   },
   {
    "duration": 8,
    "start_time": "2023-10-21T11:43:54.876Z"
   },
   {
    "duration": 10,
    "start_time": "2023-10-21T11:44:42.518Z"
   },
   {
    "duration": 19,
    "start_time": "2023-10-21T11:46:04.180Z"
   },
   {
    "duration": 9,
    "start_time": "2023-10-21T11:46:36.574Z"
   },
   {
    "duration": 12,
    "start_time": "2023-10-21T11:46:40.062Z"
   },
   {
    "duration": 472,
    "start_time": "2023-10-21T11:46:54.819Z"
   },
   {
    "duration": 24,
    "start_time": "2023-10-21T11:46:55.293Z"
   },
   {
    "duration": 26,
    "start_time": "2023-10-21T11:46:55.319Z"
   },
   {
    "duration": 14,
    "start_time": "2023-10-21T11:46:55.348Z"
   },
   {
    "duration": 55,
    "start_time": "2023-10-21T11:46:55.365Z"
   },
   {
    "duration": 4,
    "start_time": "2023-10-21T11:46:55.422Z"
   },
   {
    "duration": 16,
    "start_time": "2023-10-21T11:46:55.447Z"
   },
   {
    "duration": 7,
    "start_time": "2023-10-21T11:46:55.466Z"
   },
   {
    "duration": 11,
    "start_time": "2023-10-21T11:46:55.476Z"
   },
   {
    "duration": 7,
    "start_time": "2023-10-21T11:46:55.490Z"
   },
   {
    "duration": 64,
    "start_time": "2023-10-21T11:46:55.499Z"
   },
   {
    "duration": 10,
    "start_time": "2023-10-21T11:46:55.565Z"
   },
   {
    "duration": 7,
    "start_time": "2023-10-21T11:46:55.577Z"
   },
   {
    "duration": 19,
    "start_time": "2023-10-21T11:46:55.585Z"
   },
   {
    "duration": 23,
    "start_time": "2023-10-21T11:46:55.606Z"
   },
   {
    "duration": 36,
    "start_time": "2023-10-21T11:46:55.630Z"
   },
   {
    "duration": 4,
    "start_time": "2023-10-21T11:46:55.668Z"
   },
   {
    "duration": 21,
    "start_time": "2023-10-21T11:46:55.674Z"
   },
   {
    "duration": 9,
    "start_time": "2023-10-21T11:46:55.697Z"
   },
   {
    "duration": 4,
    "start_time": "2023-10-21T11:46:55.707Z"
   },
   {
    "duration": 14,
    "start_time": "2023-10-21T11:46:55.713Z"
   },
   {
    "duration": 24,
    "start_time": "2023-10-21T11:46:55.729Z"
   },
   {
    "duration": 17,
    "start_time": "2023-10-21T11:46:55.755Z"
   },
   {
    "duration": 103,
    "start_time": "2023-10-21T11:46:55.773Z"
   },
   {
    "duration": 0,
    "start_time": "2023-10-21T11:46:55.878Z"
   },
   {
    "duration": 0,
    "start_time": "2023-10-21T11:46:55.879Z"
   },
   {
    "duration": 66,
    "start_time": "2023-10-21T11:49:08.751Z"
   },
   {
    "duration": 8,
    "start_time": "2023-10-21T11:49:19.058Z"
   },
   {
    "duration": 9,
    "start_time": "2023-10-21T11:49:23.097Z"
   },
   {
    "duration": 11,
    "start_time": "2023-10-21T11:49:54.036Z"
   },
   {
    "duration": 10,
    "start_time": "2023-10-21T11:53:58.552Z"
   },
   {
    "duration": 1368,
    "start_time": "2023-10-21T11:54:04.840Z"
   },
   {
    "duration": 1368,
    "start_time": "2023-10-21T11:54:16.992Z"
   },
   {
    "duration": 1313,
    "start_time": "2023-10-21T11:54:34.784Z"
   },
   {
    "duration": 9,
    "start_time": "2023-10-21T11:54:49.388Z"
   },
   {
    "duration": 8,
    "start_time": "2023-10-21T11:55:39.727Z"
   },
   {
    "duration": 15,
    "start_time": "2023-10-21T11:58:15.439Z"
   },
   {
    "duration": 14,
    "start_time": "2023-10-21T11:58:29.764Z"
   },
   {
    "duration": 8,
    "start_time": "2023-10-21T11:58:35.406Z"
   },
   {
    "duration": 12,
    "start_time": "2023-10-21T11:59:08.078Z"
   },
   {
    "duration": 11,
    "start_time": "2023-10-21T11:59:10.787Z"
   },
   {
    "duration": 13,
    "start_time": "2023-10-21T11:59:13.670Z"
   },
   {
    "duration": 504,
    "start_time": "2023-10-21T11:59:25.264Z"
   },
   {
    "duration": 24,
    "start_time": "2023-10-21T11:59:25.770Z"
   },
   {
    "duration": 24,
    "start_time": "2023-10-21T11:59:25.796Z"
   },
   {
    "duration": 37,
    "start_time": "2023-10-21T11:59:25.823Z"
   },
   {
    "duration": 36,
    "start_time": "2023-10-21T11:59:25.861Z"
   },
   {
    "duration": 3,
    "start_time": "2023-10-21T11:59:25.899Z"
   },
   {
    "duration": 11,
    "start_time": "2023-10-21T11:59:25.904Z"
   },
   {
    "duration": 35,
    "start_time": "2023-10-21T11:59:25.917Z"
   },
   {
    "duration": 12,
    "start_time": "2023-10-21T11:59:25.953Z"
   },
   {
    "duration": 3,
    "start_time": "2023-10-21T11:59:25.968Z"
   },
   {
    "duration": 38,
    "start_time": "2023-10-21T11:59:25.973Z"
   },
   {
    "duration": 10,
    "start_time": "2023-10-21T11:59:26.013Z"
   },
   {
    "duration": 25,
    "start_time": "2023-10-21T11:59:26.024Z"
   },
   {
    "duration": 19,
    "start_time": "2023-10-21T11:59:26.056Z"
   },
   {
    "duration": 25,
    "start_time": "2023-10-21T11:59:26.077Z"
   },
   {
    "duration": 16,
    "start_time": "2023-10-21T11:59:26.103Z"
   },
   {
    "duration": 5,
    "start_time": "2023-10-21T11:59:26.121Z"
   },
   {
    "duration": 19,
    "start_time": "2023-10-21T11:59:26.127Z"
   },
   {
    "duration": 10,
    "start_time": "2023-10-21T11:59:26.148Z"
   },
   {
    "duration": 6,
    "start_time": "2023-10-21T11:59:26.161Z"
   },
   {
    "duration": 15,
    "start_time": "2023-10-21T11:59:26.169Z"
   },
   {
    "duration": 7,
    "start_time": "2023-10-21T11:59:26.186Z"
   },
   {
    "duration": 9,
    "start_time": "2023-10-21T11:59:26.194Z"
   },
   {
    "duration": 9,
    "start_time": "2023-10-21T11:59:26.204Z"
   },
   {
    "duration": 4,
    "start_time": "2023-10-21T11:59:26.214Z"
   },
   {
    "duration": 29,
    "start_time": "2023-10-21T11:59:26.219Z"
   },
   {
    "duration": 5,
    "start_time": "2023-10-21T12:12:08.625Z"
   },
   {
    "duration": 106,
    "start_time": "2023-10-21T12:12:28.821Z"
   },
   {
    "duration": 34,
    "start_time": "2023-10-21T12:16:40.238Z"
   },
   {
    "duration": 27,
    "start_time": "2023-10-21T12:17:31.820Z"
   },
   {
    "duration": 25,
    "start_time": "2023-10-21T12:17:34.836Z"
   },
   {
    "duration": 23,
    "start_time": "2023-10-21T12:17:50.901Z"
   },
   {
    "duration": 24,
    "start_time": "2023-10-21T12:17:53.408Z"
   },
   {
    "duration": 28,
    "start_time": "2023-10-21T12:18:14.320Z"
   },
   {
    "duration": 26,
    "start_time": "2023-10-21T12:18:52.372Z"
   },
   {
    "duration": 28,
    "start_time": "2023-10-21T12:19:54.631Z"
   },
   {
    "duration": 26,
    "start_time": "2023-10-21T12:20:00.843Z"
   },
   {
    "duration": 497,
    "start_time": "2023-10-21T12:20:10.224Z"
   },
   {
    "duration": 23,
    "start_time": "2023-10-21T12:20:10.723Z"
   },
   {
    "duration": 22,
    "start_time": "2023-10-21T12:20:10.748Z"
   },
   {
    "duration": 9,
    "start_time": "2023-10-21T12:20:10.772Z"
   },
   {
    "duration": 35,
    "start_time": "2023-10-21T12:20:10.783Z"
   },
   {
    "duration": 3,
    "start_time": "2023-10-21T12:20:10.819Z"
   },
   {
    "duration": 36,
    "start_time": "2023-10-21T12:20:10.824Z"
   },
   {
    "duration": 4,
    "start_time": "2023-10-21T12:20:10.862Z"
   },
   {
    "duration": 15,
    "start_time": "2023-10-21T12:20:10.868Z"
   },
   {
    "duration": 14,
    "start_time": "2023-10-21T12:20:10.884Z"
   },
   {
    "duration": 34,
    "start_time": "2023-10-21T12:20:10.899Z"
   },
   {
    "duration": 20,
    "start_time": "2023-10-21T12:20:10.934Z"
   },
   {
    "duration": 4,
    "start_time": "2023-10-21T12:20:10.958Z"
   },
   {
    "duration": 21,
    "start_time": "2023-10-21T12:20:10.966Z"
   },
   {
    "duration": 34,
    "start_time": "2023-10-21T12:20:10.989Z"
   },
   {
    "duration": 21,
    "start_time": "2023-10-21T12:20:11.025Z"
   },
   {
    "duration": 5,
    "start_time": "2023-10-21T12:20:11.048Z"
   },
   {
    "duration": 18,
    "start_time": "2023-10-21T12:20:11.055Z"
   },
   {
    "duration": 5,
    "start_time": "2023-10-21T12:20:11.074Z"
   },
   {
    "duration": 3,
    "start_time": "2023-10-21T12:20:11.081Z"
   },
   {
    "duration": 17,
    "start_time": "2023-10-21T12:20:11.086Z"
   },
   {
    "duration": 34,
    "start_time": "2023-10-21T12:20:11.104Z"
   },
   {
    "duration": 46,
    "start_time": "2023-10-21T12:20:11.140Z"
   },
   {
    "duration": 10,
    "start_time": "2023-10-21T12:20:11.187Z"
   },
   {
    "duration": 13,
    "start_time": "2023-10-21T12:20:11.198Z"
   },
   {
    "duration": 21,
    "start_time": "2023-10-21T12:20:11.212Z"
   },
   {
    "duration": 16,
    "start_time": "2023-10-21T12:20:11.234Z"
   },
   {
    "duration": 20,
    "start_time": "2023-10-21T12:20:43.335Z"
   },
   {
    "duration": 12,
    "start_time": "2023-10-21T12:20:49.381Z"
   },
   {
    "duration": 7,
    "start_time": "2023-10-21T12:20:52.097Z"
   },
   {
    "duration": 7,
    "start_time": "2023-10-21T12:27:58.497Z"
   },
   {
    "duration": 7,
    "start_time": "2023-10-21T12:28:23.835Z"
   },
   {
    "duration": 18,
    "start_time": "2023-10-21T12:28:33.944Z"
   },
   {
    "duration": 487,
    "start_time": "2023-10-21T12:28:51.966Z"
   },
   {
    "duration": 33,
    "start_time": "2023-10-21T12:28:52.457Z"
   },
   {
    "duration": 26,
    "start_time": "2023-10-21T12:28:52.492Z"
   },
   {
    "duration": 34,
    "start_time": "2023-10-21T12:28:52.522Z"
   },
   {
    "duration": 58,
    "start_time": "2023-10-21T12:28:52.559Z"
   },
   {
    "duration": 5,
    "start_time": "2023-10-21T12:28:52.619Z"
   },
   {
    "duration": 25,
    "start_time": "2023-10-21T12:28:52.626Z"
   },
   {
    "duration": 5,
    "start_time": "2023-10-21T12:28:52.653Z"
   },
   {
    "duration": 10,
    "start_time": "2023-10-21T12:28:52.660Z"
   },
   {
    "duration": 5,
    "start_time": "2023-10-21T12:28:52.673Z"
   },
   {
    "duration": 70,
    "start_time": "2023-10-21T12:28:52.680Z"
   },
   {
    "duration": 16,
    "start_time": "2023-10-21T12:28:52.752Z"
   },
   {
    "duration": 9,
    "start_time": "2023-10-21T12:28:52.770Z"
   },
   {
    "duration": 22,
    "start_time": "2023-10-21T12:28:52.781Z"
   },
   {
    "duration": 52,
    "start_time": "2023-10-21T12:28:52.805Z"
   },
   {
    "duration": 25,
    "start_time": "2023-10-21T12:28:52.859Z"
   },
   {
    "duration": 4,
    "start_time": "2023-10-21T12:28:52.886Z"
   },
   {
    "duration": 15,
    "start_time": "2023-10-21T12:28:52.892Z"
   },
   {
    "duration": 17,
    "start_time": "2023-10-21T12:28:52.909Z"
   },
   {
    "duration": 17,
    "start_time": "2023-10-21T12:28:52.928Z"
   },
   {
    "duration": 11,
    "start_time": "2023-10-21T12:28:52.947Z"
   },
   {
    "duration": 7,
    "start_time": "2023-10-21T12:28:52.960Z"
   },
   {
    "duration": 20,
    "start_time": "2023-10-21T12:28:52.969Z"
   },
   {
    "duration": 20,
    "start_time": "2023-10-21T12:28:52.991Z"
   },
   {
    "duration": 11,
    "start_time": "2023-10-21T12:28:53.045Z"
   },
   {
    "duration": 3,
    "start_time": "2023-10-21T12:28:53.058Z"
   },
   {
    "duration": 5,
    "start_time": "2023-10-21T12:28:53.063Z"
   },
   {
    "duration": 6,
    "start_time": "2023-10-21T12:29:40.161Z"
   },
   {
    "duration": 16,
    "start_time": "2023-10-21T12:29:43.337Z"
   },
   {
    "duration": 451,
    "start_time": "2023-10-21T12:31:35.925Z"
   },
   {
    "duration": 331,
    "start_time": "2023-10-21T12:31:47.621Z"
   },
   {
    "duration": 347,
    "start_time": "2023-10-21T12:31:53.973Z"
   },
   {
    "duration": 365,
    "start_time": "2023-10-21T12:32:16.562Z"
   },
   {
    "duration": 30,
    "start_time": "2023-10-21T12:33:36.677Z"
   },
   {
    "duration": 30,
    "start_time": "2023-10-21T12:35:31.678Z"
   },
   {
    "duration": 33,
    "start_time": "2023-10-21T12:36:10.395Z"
   },
   {
    "duration": 1469,
    "start_time": "2023-10-21T12:36:25.622Z"
   },
   {
    "duration": 37,
    "start_time": "2023-10-21T12:36:32.744Z"
   },
   {
    "duration": 42,
    "start_time": "2023-10-21T12:38:10.135Z"
   },
   {
    "duration": 1629,
    "start_time": "2023-10-21T12:38:31.328Z"
   },
   {
    "duration": 147,
    "start_time": "2023-10-21T12:39:16.981Z"
   },
   {
    "duration": 397,
    "start_time": "2023-10-21T12:41:22.390Z"
   },
   {
    "duration": 33,
    "start_time": "2023-10-21T12:42:08.284Z"
   },
   {
    "duration": 11,
    "start_time": "2023-10-21T12:42:47.264Z"
   },
   {
    "duration": 15,
    "start_time": "2023-10-21T12:43:38.289Z"
   },
   {
    "duration": 60,
    "start_time": "2023-10-21T12:45:46.170Z"
   },
   {
    "duration": 38,
    "start_time": "2023-10-21T12:46:19.492Z"
   },
   {
    "duration": 41,
    "start_time": "2023-10-21T12:46:54.616Z"
   },
   {
    "duration": 43,
    "start_time": "2023-10-21T12:47:40.535Z"
   },
   {
    "duration": 33,
    "start_time": "2023-10-21T12:48:04.604Z"
   },
   {
    "duration": 33,
    "start_time": "2023-10-21T12:49:09.587Z"
   },
   {
    "duration": 34,
    "start_time": "2023-10-21T12:49:31.335Z"
   },
   {
    "duration": 33,
    "start_time": "2023-10-21T12:49:37.129Z"
   },
   {
    "duration": 36,
    "start_time": "2023-10-21T12:49:41.542Z"
   },
   {
    "duration": 31,
    "start_time": "2023-10-21T12:49:46.933Z"
   },
   {
    "duration": 33,
    "start_time": "2023-10-21T12:50:00.580Z"
   },
   {
    "duration": 49,
    "start_time": "2023-10-21T12:51:29.441Z"
   },
   {
    "duration": 132,
    "start_time": "2023-10-21T12:53:11.400Z"
   },
   {
    "duration": 138,
    "start_time": "2023-10-21T12:53:31.733Z"
   },
   {
    "duration": 180,
    "start_time": "2023-10-21T12:53:41.952Z"
   },
   {
    "duration": 34,
    "start_time": "2023-10-21T12:54:00.437Z"
   },
   {
    "duration": 33,
    "start_time": "2023-10-21T12:54:15.492Z"
   },
   {
    "duration": 128,
    "start_time": "2023-10-21T12:54:40.780Z"
   },
   {
    "duration": 33,
    "start_time": "2023-10-21T12:55:21.874Z"
   },
   {
    "duration": 13,
    "start_time": "2023-10-21T12:55:52.883Z"
   },
   {
    "duration": 36,
    "start_time": "2023-10-21T12:56:22.607Z"
   },
   {
    "duration": 37,
    "start_time": "2023-10-21T12:56:26.980Z"
   },
   {
    "duration": 108,
    "start_time": "2023-10-21T12:56:39.602Z"
   },
   {
    "duration": 40,
    "start_time": "2023-10-21T12:58:04.645Z"
   },
   {
    "duration": 49,
    "start_time": "2023-10-21T12:58:13.999Z"
   },
   {
    "duration": 38,
    "start_time": "2023-10-21T12:58:56.982Z"
   },
   {
    "duration": 97,
    "start_time": "2023-10-21T12:59:10.322Z"
   },
   {
    "duration": 32,
    "start_time": "2023-10-21T12:59:16.652Z"
   },
   {
    "duration": 107,
    "start_time": "2023-10-21T12:59:19.505Z"
   },
   {
    "duration": 493,
    "start_time": "2023-10-21T12:59:30.431Z"
   },
   {
    "duration": 23,
    "start_time": "2023-10-21T12:59:30.926Z"
   },
   {
    "duration": 53,
    "start_time": "2023-10-21T12:59:30.951Z"
   },
   {
    "duration": 66,
    "start_time": "2023-10-21T12:59:31.006Z"
   },
   {
    "duration": 88,
    "start_time": "2023-10-21T12:59:31.074Z"
   },
   {
    "duration": 10,
    "start_time": "2023-10-21T12:59:31.164Z"
   },
   {
    "duration": 40,
    "start_time": "2023-10-21T12:59:31.176Z"
   },
   {
    "duration": 39,
    "start_time": "2023-10-21T12:59:31.218Z"
   },
   {
    "duration": 38,
    "start_time": "2023-10-21T12:59:31.259Z"
   },
   {
    "duration": 38,
    "start_time": "2023-10-21T12:59:31.300Z"
   },
   {
    "duration": 63,
    "start_time": "2023-10-21T12:59:31.340Z"
   },
   {
    "duration": 31,
    "start_time": "2023-10-21T12:59:31.404Z"
   },
   {
    "duration": 30,
    "start_time": "2023-10-21T12:59:31.437Z"
   },
   {
    "duration": 52,
    "start_time": "2023-10-21T12:59:31.469Z"
   },
   {
    "duration": 61,
    "start_time": "2023-10-21T12:59:31.523Z"
   },
   {
    "duration": 41,
    "start_time": "2023-10-21T12:59:31.585Z"
   },
   {
    "duration": 48,
    "start_time": "2023-10-21T12:59:31.628Z"
   },
   {
    "duration": 45,
    "start_time": "2023-10-21T12:59:31.678Z"
   },
   {
    "duration": 22,
    "start_time": "2023-10-21T12:59:31.725Z"
   },
   {
    "duration": 28,
    "start_time": "2023-10-21T12:59:31.748Z"
   },
   {
    "duration": 46,
    "start_time": "2023-10-21T12:59:31.779Z"
   },
   {
    "duration": 63,
    "start_time": "2023-10-21T12:59:31.827Z"
   },
   {
    "duration": 360,
    "start_time": "2023-10-21T12:59:31.892Z"
   },
   {
    "duration": 10,
    "start_time": "2023-10-21T12:59:32.253Z"
   },
   {
    "duration": 49,
    "start_time": "2023-10-21T12:59:32.265Z"
   },
   {
    "duration": 24,
    "start_time": "2023-10-21T12:59:32.315Z"
   },
   {
    "duration": 7,
    "start_time": "2023-10-21T12:59:32.341Z"
   },
   {
    "duration": 34,
    "start_time": "2023-10-21T12:59:32.350Z"
   },
   {
    "duration": 7,
    "start_time": "2023-10-21T12:59:32.386Z"
   },
   {
    "duration": 101,
    "start_time": "2023-10-21T12:59:56.751Z"
   },
   {
    "duration": 167,
    "start_time": "2023-10-21T13:00:04.283Z"
   },
   {
    "duration": 103,
    "start_time": "2023-10-21T13:00:12.974Z"
   },
   {
    "duration": 152,
    "start_time": "2023-10-21T13:00:35.585Z"
   },
   {
    "duration": 113,
    "start_time": "2023-10-21T13:00:41.197Z"
   },
   {
    "duration": 34,
    "start_time": "2023-10-21T13:01:55.502Z"
   },
   {
    "duration": 112,
    "start_time": "2023-10-21T13:02:17.995Z"
   },
   {
    "duration": 12,
    "start_time": "2023-10-21T13:02:35.345Z"
   },
   {
    "duration": 436,
    "start_time": "2023-10-21T13:03:18.692Z"
   },
   {
    "duration": 21,
    "start_time": "2023-10-21T13:03:19.130Z"
   },
   {
    "duration": 16,
    "start_time": "2023-10-21T13:03:19.153Z"
   },
   {
    "duration": 10,
    "start_time": "2023-10-21T13:03:19.171Z"
   },
   {
    "duration": 47,
    "start_time": "2023-10-21T13:03:19.183Z"
   },
   {
    "duration": 3,
    "start_time": "2023-10-21T13:03:19.231Z"
   },
   {
    "duration": 13,
    "start_time": "2023-10-21T13:03:19.236Z"
   },
   {
    "duration": 4,
    "start_time": "2023-10-21T13:03:19.251Z"
   },
   {
    "duration": 11,
    "start_time": "2023-10-21T13:03:19.257Z"
   },
   {
    "duration": 30,
    "start_time": "2023-10-21T13:03:19.269Z"
   },
   {
    "duration": 60,
    "start_time": "2023-10-21T13:03:19.300Z"
   },
   {
    "duration": 10,
    "start_time": "2023-10-21T13:03:19.362Z"
   },
   {
    "duration": 15,
    "start_time": "2023-10-21T13:03:19.373Z"
   },
   {
    "duration": 22,
    "start_time": "2023-10-21T13:03:19.391Z"
   },
   {
    "duration": 22,
    "start_time": "2023-10-21T13:03:19.415Z"
   },
   {
    "duration": 20,
    "start_time": "2023-10-21T13:03:19.439Z"
   },
   {
    "duration": 3,
    "start_time": "2023-10-21T13:03:19.461Z"
   },
   {
    "duration": 12,
    "start_time": "2023-10-21T13:03:19.466Z"
   },
   {
    "duration": 17,
    "start_time": "2023-10-21T13:03:19.480Z"
   },
   {
    "duration": 4,
    "start_time": "2023-10-21T13:03:19.498Z"
   },
   {
    "duration": 17,
    "start_time": "2023-10-21T13:03:19.504Z"
   },
   {
    "duration": 51,
    "start_time": "2023-10-21T13:03:19.523Z"
   },
   {
    "duration": 363,
    "start_time": "2023-10-21T13:03:19.575Z"
   },
   {
    "duration": 4,
    "start_time": "2023-10-21T13:03:19.940Z"
   },
   {
    "duration": 4,
    "start_time": "2023-10-21T13:03:19.946Z"
   },
   {
    "duration": 6,
    "start_time": "2023-10-21T13:03:19.951Z"
   },
   {
    "duration": 473,
    "start_time": "2023-10-21T13:04:29.646Z"
   },
   {
    "duration": 22,
    "start_time": "2023-10-21T13:04:30.121Z"
   },
   {
    "duration": 82,
    "start_time": "2023-10-21T13:04:30.145Z"
   },
   {
    "duration": 60,
    "start_time": "2023-10-21T13:04:30.229Z"
   },
   {
    "duration": 81,
    "start_time": "2023-10-21T13:04:30.291Z"
   },
   {
    "duration": 6,
    "start_time": "2023-10-21T13:04:30.373Z"
   },
   {
    "duration": 48,
    "start_time": "2023-10-21T13:04:30.380Z"
   },
   {
    "duration": 43,
    "start_time": "2023-10-21T13:04:30.429Z"
   },
   {
    "duration": 56,
    "start_time": "2023-10-21T13:04:30.474Z"
   },
   {
    "duration": 44,
    "start_time": "2023-10-21T13:04:30.532Z"
   },
   {
    "duration": 93,
    "start_time": "2023-10-21T13:04:30.577Z"
   },
   {
    "duration": 30,
    "start_time": "2023-10-21T13:04:30.671Z"
   },
   {
    "duration": 54,
    "start_time": "2023-10-21T13:04:30.702Z"
   },
   {
    "duration": 50,
    "start_time": "2023-10-21T13:04:30.758Z"
   },
   {
    "duration": 46,
    "start_time": "2023-10-21T13:04:30.810Z"
   },
   {
    "duration": 48,
    "start_time": "2023-10-21T13:04:30.858Z"
   },
   {
    "duration": 33,
    "start_time": "2023-10-21T13:04:30.908Z"
   },
   {
    "duration": 54,
    "start_time": "2023-10-21T13:04:30.943Z"
   },
   {
    "duration": 50,
    "start_time": "2023-10-21T13:04:30.999Z"
   },
   {
    "duration": 37,
    "start_time": "2023-10-21T13:04:31.051Z"
   },
   {
    "duration": 62,
    "start_time": "2023-10-21T13:04:31.090Z"
   },
   {
    "duration": 93,
    "start_time": "2023-10-21T13:04:31.154Z"
   },
   {
    "duration": 388,
    "start_time": "2023-10-21T13:04:31.248Z"
   },
   {
    "duration": 6,
    "start_time": "2023-10-21T13:04:31.638Z"
   },
   {
    "duration": 80,
    "start_time": "2023-10-21T13:04:31.646Z"
   },
   {
    "duration": 84,
    "start_time": "2023-10-21T13:05:36.493Z"
   },
   {
    "duration": 41,
    "start_time": "2023-10-21T13:05:46.684Z"
   },
   {
    "duration": 18,
    "start_time": "2023-10-21T13:14:16.220Z"
   },
   {
    "duration": 15,
    "start_time": "2023-10-21T13:15:52.327Z"
   },
   {
    "duration": 98,
    "start_time": "2023-10-21T13:16:29.694Z"
   },
   {
    "duration": 98,
    "start_time": "2023-10-21T13:16:44.803Z"
   },
   {
    "duration": 102,
    "start_time": "2023-10-21T13:16:49.750Z"
   },
   {
    "duration": 183,
    "start_time": "2023-10-21T13:17:03.032Z"
   },
   {
    "duration": 104,
    "start_time": "2023-10-21T13:17:17.824Z"
   },
   {
    "duration": 94,
    "start_time": "2023-10-21T13:17:27.114Z"
   },
   {
    "duration": 88,
    "start_time": "2023-10-21T13:17:41.878Z"
   },
   {
    "duration": 109,
    "start_time": "2023-10-21T13:17:49.635Z"
   },
   {
    "duration": 1322,
    "start_time": "2023-10-21T13:20:44.932Z"
   },
   {
    "duration": 18,
    "start_time": "2023-10-21T13:21:31.401Z"
   },
   {
    "duration": 20,
    "start_time": "2023-10-21T13:25:11.689Z"
   },
   {
    "duration": 114,
    "start_time": "2023-10-21T13:25:16.192Z"
   },
   {
    "duration": 110,
    "start_time": "2023-10-21T13:25:22.615Z"
   },
   {
    "duration": 111,
    "start_time": "2023-10-21T13:25:26.712Z"
   },
   {
    "duration": 17,
    "start_time": "2023-10-21T13:26:06.781Z"
   },
   {
    "duration": 59,
    "start_time": "2023-10-22T13:16:06.854Z"
   },
   {
    "duration": 1158,
    "start_time": "2023-10-22T13:16:25.848Z"
   },
   {
    "duration": 32,
    "start_time": "2023-10-22T13:16:27.008Z"
   },
   {
    "duration": 118,
    "start_time": "2023-10-22T13:16:27.043Z"
   },
   {
    "duration": 16,
    "start_time": "2023-10-22T13:16:27.163Z"
   },
   {
    "duration": 171,
    "start_time": "2023-10-22T13:16:27.182Z"
   },
   {
    "duration": 4,
    "start_time": "2023-10-22T13:16:27.355Z"
   },
   {
    "duration": 46,
    "start_time": "2023-10-22T13:16:27.360Z"
   },
   {
    "duration": 80,
    "start_time": "2023-10-22T13:16:27.407Z"
   },
   {
    "duration": 212,
    "start_time": "2023-10-22T13:16:27.489Z"
   },
   {
    "duration": 164,
    "start_time": "2023-10-22T13:16:27.702Z"
   },
   {
    "duration": 94,
    "start_time": "2023-10-22T13:16:27.868Z"
   },
   {
    "duration": 13,
    "start_time": "2023-10-22T13:16:27.965Z"
   },
   {
    "duration": 30,
    "start_time": "2023-10-22T13:16:27.980Z"
   },
   {
    "duration": 32,
    "start_time": "2023-10-22T13:16:28.013Z"
   },
   {
    "duration": 53,
    "start_time": "2023-10-22T13:16:28.047Z"
   },
   {
    "duration": 59,
    "start_time": "2023-10-22T13:16:28.102Z"
   },
   {
    "duration": 5,
    "start_time": "2023-10-22T13:16:28.163Z"
   },
   {
    "duration": 23,
    "start_time": "2023-10-22T13:16:28.170Z"
   },
   {
    "duration": 19,
    "start_time": "2023-10-22T13:16:28.195Z"
   },
   {
    "duration": 17,
    "start_time": "2023-10-22T13:16:28.216Z"
   },
   {
    "duration": 13,
    "start_time": "2023-10-22T13:16:28.243Z"
   },
   {
    "duration": 35,
    "start_time": "2023-10-22T13:16:28.258Z"
   },
   {
    "duration": 674,
    "start_time": "2023-10-22T13:16:28.294Z"
   },
   {
    "duration": 0,
    "start_time": "2023-10-22T13:16:28.970Z"
   },
   {
    "duration": 0,
    "start_time": "2023-10-22T13:16:28.973Z"
   },
   {
    "duration": 138,
    "start_time": "2023-10-22T13:17:28.692Z"
   },
   {
    "duration": 135,
    "start_time": "2023-10-22T13:17:33.607Z"
   },
   {
    "duration": 8,
    "start_time": "2023-10-22T13:18:38.344Z"
   },
   {
    "duration": 496,
    "start_time": "2023-10-22T13:19:36.467Z"
   },
   {
    "duration": 25,
    "start_time": "2023-10-22T13:19:36.965Z"
   },
   {
    "duration": 50,
    "start_time": "2023-10-22T13:19:36.992Z"
   },
   {
    "duration": 138,
    "start_time": "2023-10-22T13:19:37.046Z"
   },
   {
    "duration": 110,
    "start_time": "2023-10-22T13:19:37.186Z"
   },
   {
    "duration": 192,
    "start_time": "2023-10-22T13:19:37.298Z"
   },
   {
    "duration": 57,
    "start_time": "2023-10-22T13:19:37.492Z"
   },
   {
    "duration": 39,
    "start_time": "2023-10-22T13:19:37.551Z"
   },
   {
    "duration": 10,
    "start_time": "2023-10-22T13:19:37.592Z"
   },
   {
    "duration": 6,
    "start_time": "2023-10-22T13:19:37.605Z"
   },
   {
    "duration": 61,
    "start_time": "2023-10-22T13:19:37.613Z"
   },
   {
    "duration": 60,
    "start_time": "2023-10-22T13:19:37.676Z"
   },
   {
    "duration": 55,
    "start_time": "2023-10-22T13:19:37.738Z"
   },
   {
    "duration": 18,
    "start_time": "2023-10-22T13:19:37.795Z"
   },
   {
    "duration": 53,
    "start_time": "2023-10-22T13:19:37.815Z"
   },
   {
    "duration": 71,
    "start_time": "2023-10-22T13:19:37.870Z"
   },
   {
    "duration": 144,
    "start_time": "2023-10-22T13:19:37.944Z"
   },
   {
    "duration": 67,
    "start_time": "2023-10-22T13:19:38.090Z"
   },
   {
    "duration": 22,
    "start_time": "2023-10-22T13:19:38.160Z"
   },
   {
    "duration": 66,
    "start_time": "2023-10-22T13:19:38.183Z"
   },
   {
    "duration": 238,
    "start_time": "2023-10-22T13:19:38.250Z"
   },
   {
    "duration": 153,
    "start_time": "2023-10-22T13:19:38.496Z"
   },
   {
    "duration": 73,
    "start_time": "2023-10-22T13:19:38.651Z"
   },
   {
    "duration": 28,
    "start_time": "2023-10-22T13:19:38.729Z"
   },
   {
    "duration": 10,
    "start_time": "2023-10-22T13:19:46.138Z"
   },
   {
    "duration": 9,
    "start_time": "2023-10-22T13:20:52.941Z"
   },
   {
    "duration": 8,
    "start_time": "2023-10-22T13:20:55.594Z"
   },
   {
    "duration": 9,
    "start_time": "2023-10-22T13:22:29.496Z"
   },
   {
    "duration": 5,
    "start_time": "2023-10-22T13:22:39.495Z"
   },
   {
    "duration": 7,
    "start_time": "2023-10-22T13:22:57.261Z"
   },
   {
    "duration": 7,
    "start_time": "2023-10-22T13:22:59.002Z"
   },
   {
    "duration": 10,
    "start_time": "2023-10-22T13:23:10.923Z"
   },
   {
    "duration": 8,
    "start_time": "2023-10-22T13:23:27.602Z"
   },
   {
    "duration": 78,
    "start_time": "2023-10-22T13:25:24.137Z"
   },
   {
    "duration": 9,
    "start_time": "2023-10-22T13:25:48.094Z"
   },
   {
    "duration": 13,
    "start_time": "2023-10-22T13:28:11.938Z"
   },
   {
    "duration": 6,
    "start_time": "2023-10-22T13:30:22.874Z"
   },
   {
    "duration": 9,
    "start_time": "2023-10-22T13:30:53.977Z"
   },
   {
    "duration": 6,
    "start_time": "2023-10-22T13:31:03.605Z"
   },
   {
    "duration": 10,
    "start_time": "2023-10-22T13:32:18.555Z"
   },
   {
    "duration": 10,
    "start_time": "2023-10-22T13:32:31.442Z"
   },
   {
    "duration": 12,
    "start_time": "2023-10-22T13:32:40.839Z"
   },
   {
    "duration": 13,
    "start_time": "2023-10-22T13:35:36.000Z"
   },
   {
    "duration": 16,
    "start_time": "2023-10-22T13:36:18.738Z"
   },
   {
    "duration": 16,
    "start_time": "2023-10-22T13:36:27.147Z"
   },
   {
    "duration": 13,
    "start_time": "2023-10-22T13:36:46.984Z"
   },
   {
    "duration": 510,
    "start_time": "2023-10-22T13:37:01.439Z"
   },
   {
    "duration": 23,
    "start_time": "2023-10-22T13:37:01.951Z"
   },
   {
    "duration": 176,
    "start_time": "2023-10-22T13:37:01.976Z"
   },
   {
    "duration": 234,
    "start_time": "2023-10-22T13:37:02.153Z"
   },
   {
    "duration": 85,
    "start_time": "2023-10-22T13:37:02.389Z"
   },
   {
    "duration": 4,
    "start_time": "2023-10-22T13:37:02.476Z"
   },
   {
    "duration": 66,
    "start_time": "2023-10-22T13:37:02.481Z"
   },
   {
    "duration": 60,
    "start_time": "2023-10-22T13:37:02.548Z"
   },
   {
    "duration": 52,
    "start_time": "2023-10-22T13:37:02.610Z"
   },
   {
    "duration": 17,
    "start_time": "2023-10-22T13:37:02.664Z"
   },
   {
    "duration": 65,
    "start_time": "2023-10-22T13:37:02.683Z"
   },
   {
    "duration": 10,
    "start_time": "2023-10-22T13:37:02.750Z"
   },
   {
    "duration": 30,
    "start_time": "2023-10-22T13:37:02.762Z"
   },
   {
    "duration": 35,
    "start_time": "2023-10-22T13:37:02.795Z"
   },
   {
    "duration": 55,
    "start_time": "2023-10-22T13:37:02.831Z"
   },
   {
    "duration": 100,
    "start_time": "2023-10-22T13:37:02.889Z"
   },
   {
    "duration": 23,
    "start_time": "2023-10-22T13:37:02.992Z"
   },
   {
    "duration": 80,
    "start_time": "2023-10-22T13:37:03.018Z"
   },
   {
    "duration": 96,
    "start_time": "2023-10-22T13:37:03.100Z"
   },
   {
    "duration": 203,
    "start_time": "2023-10-22T13:37:03.198Z"
   },
   {
    "duration": 243,
    "start_time": "2023-10-22T13:37:03.403Z"
   },
   {
    "duration": 332,
    "start_time": "2023-10-22T13:37:03.648Z"
   },
   {
    "duration": 0,
    "start_time": "2023-10-22T13:37:03.982Z"
   },
   {
    "duration": 0,
    "start_time": "2023-10-22T13:37:03.983Z"
   },
   {
    "duration": 0,
    "start_time": "2023-10-22T13:37:03.984Z"
   },
   {
    "duration": 0,
    "start_time": "2023-10-22T13:37:03.985Z"
   },
   {
    "duration": 0,
    "start_time": "2023-10-22T13:37:03.986Z"
   },
   {
    "duration": 15,
    "start_time": "2023-10-22T13:37:19.983Z"
   },
   {
    "duration": 10,
    "start_time": "2023-10-22T13:37:21.837Z"
   },
   {
    "duration": 9,
    "start_time": "2023-10-22T13:37:23.882Z"
   },
   {
    "duration": 6,
    "start_time": "2023-10-22T13:37:32.198Z"
   },
   {
    "duration": 12,
    "start_time": "2023-10-22T13:37:34.039Z"
   },
   {
    "duration": 13,
    "start_time": "2023-10-22T13:37:37.772Z"
   },
   {
    "duration": 7,
    "start_time": "2023-10-22T13:38:12.844Z"
   },
   {
    "duration": 12,
    "start_time": "2023-10-22T13:38:22.195Z"
   },
   {
    "duration": 493,
    "start_time": "2023-10-22T13:38:25.467Z"
   },
   {
    "duration": 12,
    "start_time": "2023-10-22T13:39:23.257Z"
   },
   {
    "duration": 11,
    "start_time": "2023-10-22T13:39:45.644Z"
   },
   {
    "duration": 10,
    "start_time": "2023-10-22T13:41:09.349Z"
   },
   {
    "duration": 1835,
    "start_time": "2023-10-22T13:42:29.206Z"
   },
   {
    "duration": 17,
    "start_time": "2023-10-22T13:42:37.209Z"
   },
   {
    "duration": 0,
    "start_time": "2023-10-22T13:42:42.112Z"
   },
   {
    "duration": 2337,
    "start_time": "2023-10-22T13:42:43.635Z"
   },
   {
    "duration": 22,
    "start_time": "2023-10-22T13:44:26.512Z"
   },
   {
    "duration": 10,
    "start_time": "2023-10-22T13:45:41.954Z"
   },
   {
    "duration": 6,
    "start_time": "2023-10-22T13:47:25.460Z"
   },
   {
    "duration": 9,
    "start_time": "2023-10-22T13:47:27.105Z"
   },
   {
    "duration": 526,
    "start_time": "2023-10-22T13:47:33.041Z"
   },
   {
    "duration": 25,
    "start_time": "2023-10-22T13:47:33.569Z"
   },
   {
    "duration": 42,
    "start_time": "2023-10-22T13:47:33.596Z"
   },
   {
    "duration": 12,
    "start_time": "2023-10-22T13:47:33.641Z"
   },
   {
    "duration": 38,
    "start_time": "2023-10-22T13:47:33.655Z"
   },
   {
    "duration": 3,
    "start_time": "2023-10-22T13:47:33.695Z"
   },
   {
    "duration": 30,
    "start_time": "2023-10-22T13:47:33.700Z"
   },
   {
    "duration": 5,
    "start_time": "2023-10-22T13:47:33.732Z"
   },
   {
    "duration": 18,
    "start_time": "2023-10-22T13:47:33.739Z"
   },
   {
    "duration": 24,
    "start_time": "2023-10-22T13:47:33.761Z"
   },
   {
    "duration": 48,
    "start_time": "2023-10-22T13:47:33.787Z"
   },
   {
    "duration": 11,
    "start_time": "2023-10-22T13:47:33.837Z"
   },
   {
    "duration": 13,
    "start_time": "2023-10-22T13:47:33.849Z"
   },
   {
    "duration": 30,
    "start_time": "2023-10-22T13:47:33.864Z"
   },
   {
    "duration": 46,
    "start_time": "2023-10-22T13:47:33.895Z"
   },
   {
    "duration": 19,
    "start_time": "2023-10-22T13:47:33.943Z"
   },
   {
    "duration": 4,
    "start_time": "2023-10-22T13:47:33.964Z"
   },
   {
    "duration": 34,
    "start_time": "2023-10-22T13:47:33.970Z"
   },
   {
    "duration": 9,
    "start_time": "2023-10-22T13:47:34.005Z"
   },
   {
    "duration": 3,
    "start_time": "2023-10-22T13:47:34.016Z"
   },
   {
    "duration": 19,
    "start_time": "2023-10-22T13:47:34.024Z"
   },
   {
    "duration": 17,
    "start_time": "2023-10-22T13:47:34.044Z"
   },
   {
    "duration": 5,
    "start_time": "2023-10-22T13:47:34.063Z"
   },
   {
    "duration": 27,
    "start_time": "2023-10-22T13:47:34.070Z"
   },
   {
    "duration": 13,
    "start_time": "2023-10-22T13:47:34.099Z"
   },
   {
    "duration": 47,
    "start_time": "2023-10-22T13:47:34.114Z"
   },
   {
    "duration": 31,
    "start_time": "2023-10-22T13:47:34.162Z"
   },
   {
    "duration": 29,
    "start_time": "2023-10-22T13:47:34.196Z"
   },
   {
    "duration": 8,
    "start_time": "2023-10-22T13:47:39.968Z"
   },
   {
    "duration": 10,
    "start_time": "2023-10-22T13:47:53.055Z"
   },
   {
    "duration": 13,
    "start_time": "2023-10-22T13:49:51.897Z"
   },
   {
    "duration": 12,
    "start_time": "2023-10-22T13:49:54.083Z"
   },
   {
    "duration": 504,
    "start_time": "2023-10-22T13:50:29.371Z"
   },
   {
    "duration": 23,
    "start_time": "2023-10-22T13:50:29.878Z"
   },
   {
    "duration": 42,
    "start_time": "2023-10-22T13:50:29.903Z"
   },
   {
    "duration": 12,
    "start_time": "2023-10-22T13:50:29.947Z"
   },
   {
    "duration": 50,
    "start_time": "2023-10-22T13:50:29.960Z"
   },
   {
    "duration": 28,
    "start_time": "2023-10-22T13:50:30.011Z"
   },
   {
    "duration": 41,
    "start_time": "2023-10-22T13:50:30.041Z"
   },
   {
    "duration": 61,
    "start_time": "2023-10-22T13:50:30.083Z"
   },
   {
    "duration": 29,
    "start_time": "2023-10-22T13:50:30.146Z"
   },
   {
    "duration": 35,
    "start_time": "2023-10-22T13:50:30.178Z"
   },
   {
    "duration": 73,
    "start_time": "2023-10-22T13:50:30.215Z"
   },
   {
    "duration": 26,
    "start_time": "2023-10-22T13:50:30.289Z"
   },
   {
    "duration": 170,
    "start_time": "2023-10-22T13:50:30.317Z"
   },
   {
    "duration": 197,
    "start_time": "2023-10-22T13:50:30.489Z"
   },
   {
    "duration": 84,
    "start_time": "2023-10-22T13:50:30.687Z"
   },
   {
    "duration": 81,
    "start_time": "2023-10-22T13:50:30.773Z"
   },
   {
    "duration": 14,
    "start_time": "2023-10-22T13:50:30.856Z"
   },
   {
    "duration": 41,
    "start_time": "2023-10-22T13:50:30.872Z"
   },
   {
    "duration": 56,
    "start_time": "2023-10-22T13:50:30.915Z"
   },
   {
    "duration": 46,
    "start_time": "2023-10-22T13:50:30.973Z"
   },
   {
    "duration": 44,
    "start_time": "2023-10-22T13:50:31.020Z"
   },
   {
    "duration": 72,
    "start_time": "2023-10-22T13:50:31.065Z"
   },
   {
    "duration": 49,
    "start_time": "2023-10-22T13:50:31.139Z"
   },
   {
    "duration": 63,
    "start_time": "2023-10-22T13:50:31.190Z"
   },
   {
    "duration": 118,
    "start_time": "2023-10-22T13:50:31.254Z"
   },
   {
    "duration": 99,
    "start_time": "2023-10-22T13:50:31.374Z"
   },
   {
    "duration": 147,
    "start_time": "2023-10-22T13:50:31.475Z"
   },
   {
    "duration": 6,
    "start_time": "2023-10-22T13:50:57.489Z"
   },
   {
    "duration": 14,
    "start_time": "2023-10-22T13:50:59.602Z"
   },
   {
    "duration": 12,
    "start_time": "2023-10-22T13:51:02.042Z"
   },
   {
    "duration": 12,
    "start_time": "2023-10-22T13:51:18.971Z"
   },
   {
    "duration": 79,
    "start_time": "2023-10-22T13:52:21.374Z"
   },
   {
    "duration": 11,
    "start_time": "2023-10-22T13:52:28.615Z"
   },
   {
    "duration": 10,
    "start_time": "2023-10-22T13:52:44.191Z"
   },
   {
    "duration": 89,
    "start_time": "2023-10-22T13:52:49.376Z"
   },
   {
    "duration": 24,
    "start_time": "2023-10-22T13:52:55.997Z"
   },
   {
    "duration": 23,
    "start_time": "2023-10-22T13:52:59.542Z"
   },
   {
    "duration": 13,
    "start_time": "2023-10-22T13:53:03.692Z"
   },
   {
    "duration": 13,
    "start_time": "2023-10-22T13:53:46.483Z"
   },
   {
    "duration": 541,
    "start_time": "2023-10-22T13:54:06.321Z"
   },
   {
    "duration": 37,
    "start_time": "2023-10-22T13:54:06.864Z"
   },
   {
    "duration": 39,
    "start_time": "2023-10-22T13:54:06.904Z"
   },
   {
    "duration": 25,
    "start_time": "2023-10-22T13:54:06.946Z"
   },
   {
    "duration": 42,
    "start_time": "2023-10-22T13:54:06.973Z"
   },
   {
    "duration": 4,
    "start_time": "2023-10-22T13:54:07.017Z"
   },
   {
    "duration": 23,
    "start_time": "2023-10-22T13:54:07.024Z"
   },
   {
    "duration": 9,
    "start_time": "2023-10-22T13:54:07.049Z"
   },
   {
    "duration": 18,
    "start_time": "2023-10-22T13:54:07.060Z"
   },
   {
    "duration": 9,
    "start_time": "2023-10-22T13:54:07.081Z"
   },
   {
    "duration": 59,
    "start_time": "2023-10-22T13:54:07.092Z"
   },
   {
    "duration": 11,
    "start_time": "2023-10-22T13:54:07.153Z"
   },
   {
    "duration": 9,
    "start_time": "2023-10-22T13:54:07.166Z"
   },
   {
    "duration": 32,
    "start_time": "2023-10-22T13:54:07.177Z"
   },
   {
    "duration": 48,
    "start_time": "2023-10-22T13:54:07.211Z"
   },
   {
    "duration": 31,
    "start_time": "2023-10-22T13:54:07.260Z"
   },
   {
    "duration": 5,
    "start_time": "2023-10-22T13:54:07.292Z"
   },
   {
    "duration": 15,
    "start_time": "2023-10-22T13:54:07.298Z"
   },
   {
    "duration": 28,
    "start_time": "2023-10-22T13:54:07.315Z"
   },
   {
    "duration": 5,
    "start_time": "2023-10-22T13:54:07.346Z"
   },
   {
    "duration": 17,
    "start_time": "2023-10-22T13:54:07.353Z"
   },
   {
    "duration": 14,
    "start_time": "2023-10-22T13:54:07.373Z"
   },
   {
    "duration": 5,
    "start_time": "2023-10-22T13:54:07.388Z"
   },
   {
    "duration": 17,
    "start_time": "2023-10-22T13:54:07.394Z"
   },
   {
    "duration": 23,
    "start_time": "2023-10-22T13:54:07.424Z"
   },
   {
    "duration": 13,
    "start_time": "2023-10-22T13:54:07.449Z"
   },
   {
    "duration": 6,
    "start_time": "2023-10-22T13:54:07.463Z"
   },
   {
    "duration": 4,
    "start_time": "2023-10-22T13:54:07.472Z"
   },
   {
    "duration": 5,
    "start_time": "2023-10-22T13:55:42.258Z"
   },
   {
    "duration": 89,
    "start_time": "2023-10-22T13:55:48.174Z"
   },
   {
    "duration": 14,
    "start_time": "2023-10-22T13:56:03.437Z"
   },
   {
    "duration": 12,
    "start_time": "2023-10-22T13:57:49.117Z"
   },
   {
    "duration": 7,
    "start_time": "2023-10-22T13:58:46.278Z"
   },
   {
    "duration": 6,
    "start_time": "2023-10-22T13:58:48.085Z"
   },
   {
    "duration": 10,
    "start_time": "2023-10-22T13:58:54.811Z"
   },
   {
    "duration": 483,
    "start_time": "2023-10-22T13:59:04.353Z"
   },
   {
    "duration": 23,
    "start_time": "2023-10-22T13:59:04.838Z"
   },
   {
    "duration": 16,
    "start_time": "2023-10-22T13:59:04.862Z"
   },
   {
    "duration": 29,
    "start_time": "2023-10-22T13:59:04.880Z"
   },
   {
    "duration": 54,
    "start_time": "2023-10-22T13:59:04.911Z"
   },
   {
    "duration": 3,
    "start_time": "2023-10-22T13:59:04.967Z"
   },
   {
    "duration": 19,
    "start_time": "2023-10-22T13:59:04.972Z"
   },
   {
    "duration": 15,
    "start_time": "2023-10-22T13:59:04.993Z"
   },
   {
    "duration": 22,
    "start_time": "2023-10-22T13:59:05.010Z"
   },
   {
    "duration": 14,
    "start_time": "2023-10-22T13:59:05.041Z"
   },
   {
    "duration": 63,
    "start_time": "2023-10-22T13:59:05.057Z"
   },
   {
    "duration": 20,
    "start_time": "2023-10-22T13:59:05.122Z"
   },
   {
    "duration": 12,
    "start_time": "2023-10-22T13:59:05.143Z"
   },
   {
    "duration": 22,
    "start_time": "2023-10-22T13:59:05.156Z"
   },
   {
    "duration": 43,
    "start_time": "2023-10-22T13:59:05.180Z"
   },
   {
    "duration": 24,
    "start_time": "2023-10-22T13:59:05.227Z"
   },
   {
    "duration": 18,
    "start_time": "2023-10-22T13:59:05.252Z"
   },
   {
    "duration": 14,
    "start_time": "2023-10-22T13:59:05.272Z"
   },
   {
    "duration": 18,
    "start_time": "2023-10-22T13:59:05.288Z"
   },
   {
    "duration": 27,
    "start_time": "2023-10-22T13:59:05.308Z"
   },
   {
    "duration": 29,
    "start_time": "2023-10-22T13:59:05.337Z"
   },
   {
    "duration": 19,
    "start_time": "2023-10-22T13:59:05.368Z"
   },
   {
    "duration": 5,
    "start_time": "2023-10-22T13:59:05.389Z"
   },
   {
    "duration": 20,
    "start_time": "2023-10-22T13:59:05.395Z"
   },
   {
    "duration": 43,
    "start_time": "2023-10-22T13:59:05.416Z"
   },
   {
    "duration": 19,
    "start_time": "2023-10-22T13:59:05.460Z"
   },
   {
    "duration": 8,
    "start_time": "2023-10-22T13:59:05.481Z"
   },
   {
    "duration": 19,
    "start_time": "2023-10-22T13:59:05.492Z"
   },
   {
    "duration": 19,
    "start_time": "2023-10-22T13:59:05.512Z"
   },
   {
    "duration": 4,
    "start_time": "2023-10-22T13:59:05.537Z"
   },
   {
    "duration": 6,
    "start_time": "2023-10-22T13:59:09.154Z"
   },
   {
    "duration": 12,
    "start_time": "2023-10-22T13:59:19.959Z"
   },
   {
    "duration": 9,
    "start_time": "2023-10-22T13:59:23.638Z"
   },
   {
    "duration": 8,
    "start_time": "2023-10-22T13:59:29.810Z"
   },
   {
    "duration": 13,
    "start_time": "2023-10-22T13:59:34.158Z"
   },
   {
    "duration": 11,
    "start_time": "2023-10-22T14:00:20.493Z"
   },
   {
    "duration": 13,
    "start_time": "2023-10-22T14:00:23.563Z"
   },
   {
    "duration": 534,
    "start_time": "2023-10-22T14:00:31.786Z"
   },
   {
    "duration": 30,
    "start_time": "2023-10-22T14:00:32.322Z"
   },
   {
    "duration": 38,
    "start_time": "2023-10-22T14:00:32.353Z"
   },
   {
    "duration": 105,
    "start_time": "2023-10-22T14:00:32.393Z"
   },
   {
    "duration": 198,
    "start_time": "2023-10-22T14:00:32.500Z"
   },
   {
    "duration": 72,
    "start_time": "2023-10-22T14:00:32.699Z"
   },
   {
    "duration": 77,
    "start_time": "2023-10-22T14:00:32.773Z"
   },
   {
    "duration": 218,
    "start_time": "2023-10-22T14:00:32.852Z"
   },
   {
    "duration": 97,
    "start_time": "2023-10-22T14:00:33.072Z"
   },
   {
    "duration": 144,
    "start_time": "2023-10-22T14:00:33.174Z"
   },
   {
    "duration": 101,
    "start_time": "2023-10-22T14:00:33.319Z"
   },
   {
    "duration": 48,
    "start_time": "2023-10-22T14:00:33.422Z"
   },
   {
    "duration": 72,
    "start_time": "2023-10-22T14:00:33.472Z"
   },
   {
    "duration": 15,
    "start_time": "2023-10-22T14:00:33.545Z"
   },
   {
    "duration": 21,
    "start_time": "2023-10-22T14:00:33.562Z"
   },
   {
    "duration": 17,
    "start_time": "2023-10-22T14:00:33.584Z"
   },
   {
    "duration": 4,
    "start_time": "2023-10-22T14:00:33.603Z"
   },
   {
    "duration": 33,
    "start_time": "2023-10-22T14:00:33.608Z"
   },
   {
    "duration": 12,
    "start_time": "2023-10-22T14:00:33.642Z"
   },
   {
    "duration": 5,
    "start_time": "2023-10-22T14:00:33.655Z"
   },
   {
    "duration": 11,
    "start_time": "2023-10-22T14:00:33.661Z"
   },
   {
    "duration": 24,
    "start_time": "2023-10-22T14:00:33.673Z"
   },
   {
    "duration": 18,
    "start_time": "2023-10-22T14:00:33.699Z"
   },
   {
    "duration": 23,
    "start_time": "2023-10-22T14:00:33.719Z"
   },
   {
    "duration": 14,
    "start_time": "2023-10-22T14:00:33.744Z"
   },
   {
    "duration": 24,
    "start_time": "2023-10-22T14:00:33.760Z"
   },
   {
    "duration": 30,
    "start_time": "2023-10-22T14:00:33.785Z"
   },
   {
    "duration": 2,
    "start_time": "2023-10-22T14:00:33.819Z"
   },
   {
    "duration": 19,
    "start_time": "2023-10-22T14:00:33.823Z"
   },
   {
    "duration": 10,
    "start_time": "2023-10-22T14:02:55.352Z"
   },
   {
    "duration": 18,
    "start_time": "2023-10-22T14:03:27.522Z"
   },
   {
    "duration": 22,
    "start_time": "2023-10-22T14:03:35.514Z"
   },
   {
    "duration": 12,
    "start_time": "2023-10-22T14:06:28.786Z"
   },
   {
    "duration": 12,
    "start_time": "2023-10-22T14:06:31.647Z"
   },
   {
    "duration": 18,
    "start_time": "2023-10-22T14:06:51.418Z"
   },
   {
    "duration": 12,
    "start_time": "2023-10-22T14:07:05.145Z"
   },
   {
    "duration": 11,
    "start_time": "2023-10-22T14:08:39.256Z"
   },
   {
    "duration": 479,
    "start_time": "2023-10-22T14:08:55.043Z"
   },
   {
    "duration": 36,
    "start_time": "2023-10-22T14:08:55.533Z"
   },
   {
    "duration": 26,
    "start_time": "2023-10-22T14:08:55.571Z"
   },
   {
    "duration": 42,
    "start_time": "2023-10-22T14:08:55.599Z"
   },
   {
    "duration": 37,
    "start_time": "2023-10-22T14:08:55.643Z"
   },
   {
    "duration": 19,
    "start_time": "2023-10-22T14:08:55.682Z"
   },
   {
    "duration": 39,
    "start_time": "2023-10-22T14:08:55.703Z"
   },
   {
    "duration": 6,
    "start_time": "2023-10-22T14:08:55.744Z"
   },
   {
    "duration": 13,
    "start_time": "2023-10-22T14:08:55.753Z"
   },
   {
    "duration": 6,
    "start_time": "2023-10-22T14:08:55.768Z"
   },
   {
    "duration": 83,
    "start_time": "2023-10-22T14:08:55.776Z"
   },
   {
    "duration": 16,
    "start_time": "2023-10-22T14:08:55.862Z"
   },
   {
    "duration": 4,
    "start_time": "2023-10-22T14:08:55.881Z"
   },
   {
    "duration": 29,
    "start_time": "2023-10-22T14:08:55.888Z"
   },
   {
    "duration": 35,
    "start_time": "2023-10-22T14:08:55.919Z"
   },
   {
    "duration": 20,
    "start_time": "2023-10-22T14:08:55.957Z"
   },
   {
    "duration": 5,
    "start_time": "2023-10-22T14:08:55.980Z"
   },
   {
    "duration": 28,
    "start_time": "2023-10-22T14:08:55.987Z"
   },
   {
    "duration": 23,
    "start_time": "2023-10-22T14:08:56.025Z"
   },
   {
    "duration": 7,
    "start_time": "2023-10-22T14:08:56.050Z"
   },
   {
    "duration": 11,
    "start_time": "2023-10-22T14:08:56.058Z"
   },
   {
    "duration": 17,
    "start_time": "2023-10-22T14:08:56.071Z"
   },
   {
    "duration": 4,
    "start_time": "2023-10-22T14:08:56.090Z"
   },
   {
    "duration": 21,
    "start_time": "2023-10-22T14:08:56.096Z"
   },
   {
    "duration": 18,
    "start_time": "2023-10-22T14:08:56.123Z"
   },
   {
    "duration": 10,
    "start_time": "2023-10-22T14:08:56.142Z"
   },
   {
    "duration": 33,
    "start_time": "2023-10-22T14:08:56.155Z"
   },
   {
    "duration": 17,
    "start_time": "2023-10-22T14:08:56.190Z"
   },
   {
    "duration": 702,
    "start_time": "2023-10-22T14:08:56.209Z"
   },
   {
    "duration": 0,
    "start_time": "2023-10-22T14:08:56.913Z"
   },
   {
    "duration": 0,
    "start_time": "2023-10-22T14:08:56.915Z"
   },
   {
    "duration": 11,
    "start_time": "2023-10-22T14:09:26.068Z"
   },
   {
    "duration": 10,
    "start_time": "2023-10-22T14:09:36.271Z"
   },
   {
    "duration": 10,
    "start_time": "2023-10-22T14:09:40.738Z"
   },
   {
    "duration": 10,
    "start_time": "2023-10-22T14:09:45.056Z"
   },
   {
    "duration": 752,
    "start_time": "2023-10-22T14:10:09.192Z"
   },
   {
    "duration": 11,
    "start_time": "2023-10-22T14:11:55.457Z"
   },
   {
    "duration": 11,
    "start_time": "2023-10-22T14:12:04.357Z"
   },
   {
    "duration": 13,
    "start_time": "2023-10-22T14:12:15.806Z"
   },
   {
    "duration": 17,
    "start_time": "2023-10-22T14:12:35.751Z"
   },
   {
    "duration": 9,
    "start_time": "2023-10-22T14:13:02.507Z"
   },
   {
    "duration": 8,
    "start_time": "2023-10-22T14:13:16.075Z"
   },
   {
    "duration": 15,
    "start_time": "2023-10-22T14:13:23.924Z"
   },
   {
    "duration": 535,
    "start_time": "2023-10-22T14:13:36.150Z"
   },
   {
    "duration": 23,
    "start_time": "2023-10-22T14:13:36.687Z"
   },
   {
    "duration": 32,
    "start_time": "2023-10-22T14:13:36.712Z"
   },
   {
    "duration": 17,
    "start_time": "2023-10-22T14:13:36.747Z"
   },
   {
    "duration": 37,
    "start_time": "2023-10-22T14:13:36.766Z"
   },
   {
    "duration": 3,
    "start_time": "2023-10-22T14:13:36.805Z"
   },
   {
    "duration": 14,
    "start_time": "2023-10-22T14:13:36.834Z"
   },
   {
    "duration": 15,
    "start_time": "2023-10-22T14:13:36.850Z"
   },
   {
    "duration": 9,
    "start_time": "2023-10-22T14:13:36.867Z"
   },
   {
    "duration": 5,
    "start_time": "2023-10-22T14:13:36.879Z"
   },
   {
    "duration": 71,
    "start_time": "2023-10-22T14:13:36.886Z"
   },
   {
    "duration": 13,
    "start_time": "2023-10-22T14:13:36.959Z"
   },
   {
    "duration": 4,
    "start_time": "2023-10-22T14:13:36.974Z"
   },
   {
    "duration": 13,
    "start_time": "2023-10-22T14:13:36.982Z"
   },
   {
    "duration": 64,
    "start_time": "2023-10-22T14:13:36.997Z"
   },
   {
    "duration": 18,
    "start_time": "2023-10-22T14:13:37.063Z"
   },
   {
    "duration": 5,
    "start_time": "2023-10-22T14:13:37.083Z"
   },
   {
    "duration": 14,
    "start_time": "2023-10-22T14:13:37.090Z"
   },
   {
    "duration": 27,
    "start_time": "2023-10-22T14:13:37.106Z"
   },
   {
    "duration": 9,
    "start_time": "2023-10-22T14:13:37.136Z"
   },
   {
    "duration": 14,
    "start_time": "2023-10-22T14:13:37.153Z"
   },
   {
    "duration": 15,
    "start_time": "2023-10-22T14:13:37.169Z"
   },
   {
    "duration": 5,
    "start_time": "2023-10-22T14:13:37.185Z"
   },
   {
    "duration": 38,
    "start_time": "2023-10-22T14:13:37.191Z"
   },
   {
    "duration": 17,
    "start_time": "2023-10-22T14:13:37.231Z"
   },
   {
    "duration": 13,
    "start_time": "2023-10-22T14:13:37.250Z"
   },
   {
    "duration": 11,
    "start_time": "2023-10-22T14:13:37.265Z"
   },
   {
    "duration": 13,
    "start_time": "2023-10-22T14:13:37.278Z"
   },
   {
    "duration": 52,
    "start_time": "2023-10-22T14:13:37.293Z"
   },
   {
    "duration": 3,
    "start_time": "2023-10-22T14:13:37.353Z"
   },
   {
    "duration": 10,
    "start_time": "2023-10-22T14:13:37.358Z"
   },
   {
    "duration": 8,
    "start_time": "2023-10-22T14:15:27.590Z"
   },
   {
    "duration": 8,
    "start_time": "2023-10-22T14:15:33.944Z"
   },
   {
    "duration": 12,
    "start_time": "2023-10-22T14:15:55.749Z"
   },
   {
    "duration": 9,
    "start_time": "2023-10-22T14:16:14.977Z"
   },
   {
    "duration": 5,
    "start_time": "2023-10-22T14:16:22.778Z"
   },
   {
    "duration": 6,
    "start_time": "2023-10-22T14:16:26.367Z"
   },
   {
    "duration": 10,
    "start_time": "2023-10-22T14:16:32.008Z"
   },
   {
    "duration": 9,
    "start_time": "2023-10-22T14:16:49.405Z"
   },
   {
    "duration": 15,
    "start_time": "2023-10-22T14:23:18.784Z"
   },
   {
    "duration": 16,
    "start_time": "2023-10-22T14:23:32.143Z"
   },
   {
    "duration": 20,
    "start_time": "2023-10-22T14:26:05.458Z"
   },
   {
    "duration": 110,
    "start_time": "2023-10-22T14:28:08.206Z"
   },
   {
    "duration": 16,
    "start_time": "2023-10-22T14:28:15.644Z"
   },
   {
    "duration": 26,
    "start_time": "2023-10-22T14:28:40.716Z"
   },
   {
    "duration": 16,
    "start_time": "2023-10-22T14:29:46.341Z"
   },
   {
    "duration": 11,
    "start_time": "2023-10-22T14:33:48.783Z"
   },
   {
    "duration": 14,
    "start_time": "2023-10-22T14:34:07.578Z"
   },
   {
    "duration": 17,
    "start_time": "2023-10-22T14:34:37.469Z"
   },
   {
    "duration": 21,
    "start_time": "2023-10-22T14:36:11.278Z"
   },
   {
    "duration": 28,
    "start_time": "2023-10-22T14:38:20.210Z"
   },
   {
    "duration": 12,
    "start_time": "2023-10-22T14:38:48.796Z"
   },
   {
    "duration": 17,
    "start_time": "2023-10-22T14:39:02.649Z"
   },
   {
    "duration": 16,
    "start_time": "2023-10-22T14:39:12.343Z"
   },
   {
    "duration": 23,
    "start_time": "2023-10-22T14:39:33.722Z"
   },
   {
    "duration": 16,
    "start_time": "2023-10-22T14:39:45.097Z"
   },
   {
    "duration": 15,
    "start_time": "2023-10-22T14:39:51.763Z"
   },
   {
    "duration": 16,
    "start_time": "2023-10-22T14:40:25.250Z"
   },
   {
    "duration": 12,
    "start_time": "2023-10-22T14:47:03.814Z"
   },
   {
    "duration": 10,
    "start_time": "2023-10-22T14:47:17.750Z"
   },
   {
    "duration": 15,
    "start_time": "2023-10-22T14:48:24.978Z"
   },
   {
    "duration": 3,
    "start_time": "2023-10-22T14:51:49.852Z"
   },
   {
    "duration": 3,
    "start_time": "2023-10-22T14:51:54.355Z"
   },
   {
    "duration": 3,
    "start_time": "2023-10-22T14:51:58.100Z"
   },
   {
    "duration": 128,
    "start_time": "2023-10-22T14:52:04.541Z"
   },
   {
    "duration": 16,
    "start_time": "2023-10-22T14:52:13.851Z"
   },
   {
    "duration": 1538,
    "start_time": "2023-10-22T14:52:53.946Z"
   },
   {
    "duration": 15,
    "start_time": "2023-10-22T14:53:03.573Z"
   },
   {
    "duration": 17,
    "start_time": "2023-10-22T14:55:06.041Z"
   },
   {
    "duration": 12,
    "start_time": "2023-10-22T14:55:37.118Z"
   },
   {
    "duration": 16,
    "start_time": "2023-10-22T14:55:42.822Z"
   },
   {
    "duration": 17,
    "start_time": "2023-10-22T14:56:41.519Z"
   },
   {
    "duration": 15,
    "start_time": "2023-10-22T14:56:53.584Z"
   },
   {
    "duration": 14,
    "start_time": "2023-10-22T14:57:03.635Z"
   },
   {
    "duration": 14,
    "start_time": "2023-10-22T14:57:21.065Z"
   },
   {
    "duration": 14,
    "start_time": "2023-10-22T14:57:34.694Z"
   },
   {
    "duration": 16,
    "start_time": "2023-10-22T14:58:40.378Z"
   },
   {
    "duration": 12,
    "start_time": "2023-10-22T14:59:13.354Z"
   },
   {
    "duration": 12,
    "start_time": "2023-10-22T14:59:23.982Z"
   },
   {
    "duration": 14,
    "start_time": "2023-10-22T14:59:33.268Z"
   },
   {
    "duration": 14,
    "start_time": "2023-10-22T15:00:08.784Z"
   },
   {
    "duration": 13,
    "start_time": "2023-10-22T15:00:18.477Z"
   },
   {
    "duration": 14,
    "start_time": "2023-10-22T15:00:27.772Z"
   },
   {
    "duration": 14,
    "start_time": "2023-10-22T15:26:05.516Z"
   },
   {
    "duration": 12,
    "start_time": "2023-10-22T15:26:24.071Z"
   },
   {
    "duration": 14,
    "start_time": "2023-10-22T15:26:52.397Z"
   },
   {
    "duration": 24,
    "start_time": "2023-10-22T15:26:55.794Z"
   },
   {
    "duration": 14,
    "start_time": "2023-10-22T15:27:15.827Z"
   },
   {
    "duration": 2455,
    "start_time": "2023-10-22T15:31:22.086Z"
   },
   {
    "duration": 245,
    "start_time": "2023-10-22T15:32:44.390Z"
   },
   {
    "duration": 163,
    "start_time": "2023-10-22T15:35:59.153Z"
   },
   {
    "duration": 174,
    "start_time": "2023-10-22T15:36:12.999Z"
   },
   {
    "duration": 206,
    "start_time": "2023-10-22T15:36:41.464Z"
   },
   {
    "duration": 128,
    "start_time": "2023-10-22T15:37:20.107Z"
   },
   {
    "duration": 147,
    "start_time": "2023-10-22T15:37:33.277Z"
   },
   {
    "duration": 124,
    "start_time": "2023-10-22T15:38:02.663Z"
   },
   {
    "duration": 147,
    "start_time": "2023-10-22T15:39:16.845Z"
   },
   {
    "duration": 6,
    "start_time": "2023-10-22T15:40:26.905Z"
   },
   {
    "duration": 13,
    "start_time": "2023-10-22T15:40:32.025Z"
   },
   {
    "duration": 10,
    "start_time": "2023-10-22T15:40:39.160Z"
   },
   {
    "duration": 11,
    "start_time": "2023-10-22T15:41:46.907Z"
   },
   {
    "duration": 9,
    "start_time": "2023-10-22T15:43:06.589Z"
   },
   {
    "duration": 8,
    "start_time": "2023-10-22T15:43:30.230Z"
   },
   {
    "duration": 11,
    "start_time": "2023-10-22T15:43:40.352Z"
   },
   {
    "duration": 481,
    "start_time": "2023-10-22T15:45:56.338Z"
   },
   {
    "duration": 22,
    "start_time": "2023-10-22T15:45:56.821Z"
   },
   {
    "duration": 29,
    "start_time": "2023-10-22T15:45:56.845Z"
   },
   {
    "duration": 17,
    "start_time": "2023-10-22T15:45:56.876Z"
   },
   {
    "duration": 70,
    "start_time": "2023-10-22T15:45:56.896Z"
   },
   {
    "duration": 5,
    "start_time": "2023-10-22T15:45:56.967Z"
   },
   {
    "duration": 26,
    "start_time": "2023-10-22T15:45:56.973Z"
   },
   {
    "duration": 13,
    "start_time": "2023-10-22T15:45:57.000Z"
   },
   {
    "duration": 15,
    "start_time": "2023-10-22T15:45:57.015Z"
   },
   {
    "duration": 5,
    "start_time": "2023-10-22T15:45:57.033Z"
   },
   {
    "duration": 53,
    "start_time": "2023-10-22T15:45:57.040Z"
   },
   {
    "duration": 12,
    "start_time": "2023-10-22T15:45:57.094Z"
   },
   {
    "duration": 5,
    "start_time": "2023-10-22T15:45:57.107Z"
   },
   {
    "duration": 21,
    "start_time": "2023-10-22T15:45:57.113Z"
   },
   {
    "duration": 25,
    "start_time": "2023-10-22T15:45:57.136Z"
   },
   {
    "duration": 19,
    "start_time": "2023-10-22T15:45:57.162Z"
   },
   {
    "duration": 3,
    "start_time": "2023-10-22T15:45:57.183Z"
   },
   {
    "duration": 44,
    "start_time": "2023-10-22T15:45:57.187Z"
   },
   {
    "duration": 25,
    "start_time": "2023-10-22T15:45:57.233Z"
   },
   {
    "duration": 42,
    "start_time": "2023-10-22T15:45:57.260Z"
   },
   {
    "duration": 14,
    "start_time": "2023-10-22T15:45:57.303Z"
   },
   {
    "duration": 18,
    "start_time": "2023-10-22T15:45:57.318Z"
   },
   {
    "duration": 5,
    "start_time": "2023-10-22T15:45:57.338Z"
   },
   {
    "duration": 16,
    "start_time": "2023-10-22T15:45:57.344Z"
   },
   {
    "duration": 13,
    "start_time": "2023-10-22T15:45:57.361Z"
   },
   {
    "duration": 30,
    "start_time": "2023-10-22T15:45:57.375Z"
   },
   {
    "duration": 401,
    "start_time": "2023-10-22T15:45:57.407Z"
   },
   {
    "duration": 13,
    "start_time": "2023-10-22T15:45:57.811Z"
   },
   {
    "duration": 16,
    "start_time": "2023-10-22T15:45:57.826Z"
   },
   {
    "duration": 8,
    "start_time": "2023-10-22T15:45:57.844Z"
   },
   {
    "duration": 10,
    "start_time": "2023-10-22T15:45:57.854Z"
   },
   {
    "duration": 163,
    "start_time": "2023-10-22T15:45:57.865Z"
   },
   {
    "duration": 17,
    "start_time": "2023-10-22T15:45:58.030Z"
   },
   {
    "duration": 167,
    "start_time": "2023-10-22T15:45:58.049Z"
   },
   {
    "duration": 17,
    "start_time": "2023-10-22T15:45:58.218Z"
   },
   {
    "duration": 484,
    "start_time": "2023-10-22T15:46:22.177Z"
   },
   {
    "duration": 25,
    "start_time": "2023-10-22T15:46:22.663Z"
   },
   {
    "duration": 54,
    "start_time": "2023-10-22T15:46:22.690Z"
   },
   {
    "duration": 48,
    "start_time": "2023-10-22T15:46:22.747Z"
   },
   {
    "duration": 74,
    "start_time": "2023-10-22T15:46:22.797Z"
   },
   {
    "duration": 10,
    "start_time": "2023-10-22T15:46:22.873Z"
   },
   {
    "duration": 27,
    "start_time": "2023-10-22T15:46:22.885Z"
   },
   {
    "duration": 25,
    "start_time": "2023-10-22T15:46:22.914Z"
   },
   {
    "duration": 37,
    "start_time": "2023-10-22T15:46:22.941Z"
   },
   {
    "duration": 94,
    "start_time": "2023-10-22T15:46:22.983Z"
   },
   {
    "duration": 125,
    "start_time": "2023-10-22T15:46:23.079Z"
   },
   {
    "duration": 148,
    "start_time": "2023-10-22T15:46:23.206Z"
   },
   {
    "duration": 196,
    "start_time": "2023-10-22T15:46:23.356Z"
   },
   {
    "duration": 112,
    "start_time": "2023-10-22T15:46:23.554Z"
   },
   {
    "duration": 100,
    "start_time": "2023-10-22T15:46:23.668Z"
   },
   {
    "duration": 155,
    "start_time": "2023-10-22T15:46:23.770Z"
   },
   {
    "duration": 169,
    "start_time": "2023-10-22T15:46:23.927Z"
   },
   {
    "duration": 174,
    "start_time": "2023-10-22T15:46:24.097Z"
   },
   {
    "duration": 88,
    "start_time": "2023-10-22T15:46:24.274Z"
   },
   {
    "duration": 81,
    "start_time": "2023-10-22T15:46:24.363Z"
   },
   {
    "duration": 59,
    "start_time": "2023-10-22T15:46:24.446Z"
   },
   {
    "duration": 88,
    "start_time": "2023-10-22T15:46:24.507Z"
   },
   {
    "duration": 41,
    "start_time": "2023-10-22T15:46:24.597Z"
   },
   {
    "duration": 45,
    "start_time": "2023-10-22T15:46:24.640Z"
   },
   {
    "duration": 47,
    "start_time": "2023-10-22T15:46:24.687Z"
   },
   {
    "duration": 36,
    "start_time": "2023-10-22T15:46:24.736Z"
   },
   {
    "duration": 425,
    "start_time": "2023-10-22T15:46:24.774Z"
   },
   {
    "duration": 7,
    "start_time": "2023-10-22T15:46:25.202Z"
   },
   {
    "duration": 89,
    "start_time": "2023-10-22T15:46:25.211Z"
   },
   {
    "duration": 45,
    "start_time": "2023-10-22T15:46:25.302Z"
   },
   {
    "duration": 190,
    "start_time": "2023-10-22T15:46:25.348Z"
   },
   {
    "duration": 458,
    "start_time": "2023-10-22T15:46:25.540Z"
   },
   {
    "duration": 31,
    "start_time": "2023-10-22T15:46:26.001Z"
   },
   {
    "duration": 221,
    "start_time": "2023-10-22T15:46:26.033Z"
   },
   {
    "duration": 62,
    "start_time": "2023-10-22T15:46:26.256Z"
   },
   {
    "duration": 3,
    "start_time": "2023-10-22T15:46:44.501Z"
   },
   {
    "duration": 2,
    "start_time": "2023-10-22T15:47:06.417Z"
   },
   {
    "duration": 548,
    "start_time": "2023-10-22T15:47:11.908Z"
   },
   {
    "duration": 22,
    "start_time": "2023-10-22T15:47:12.458Z"
   },
   {
    "duration": 226,
    "start_time": "2023-10-22T15:47:12.482Z"
   },
   {
    "duration": 146,
    "start_time": "2023-10-22T15:47:12.710Z"
   },
   {
    "duration": 83,
    "start_time": "2023-10-22T15:47:12.858Z"
   },
   {
    "duration": 97,
    "start_time": "2023-10-22T15:47:12.943Z"
   },
   {
    "duration": 243,
    "start_time": "2023-10-22T15:47:13.042Z"
   },
   {
    "duration": 126,
    "start_time": "2023-10-22T15:47:13.286Z"
   },
   {
    "duration": 107,
    "start_time": "2023-10-22T15:47:13.414Z"
   },
   {
    "duration": 111,
    "start_time": "2023-10-22T15:47:13.525Z"
   },
   {
    "duration": 81,
    "start_time": "2023-10-22T15:47:13.638Z"
   },
   {
    "duration": 204,
    "start_time": "2023-10-22T15:47:13.720Z"
   },
   {
    "duration": 25,
    "start_time": "2023-10-22T15:47:13.926Z"
   },
   {
    "duration": 55,
    "start_time": "2023-10-22T15:47:13.953Z"
   },
   {
    "duration": 33,
    "start_time": "2023-10-22T15:47:14.010Z"
   },
   {
    "duration": 22,
    "start_time": "2023-10-22T15:47:14.045Z"
   },
   {
    "duration": 5,
    "start_time": "2023-10-22T15:47:14.068Z"
   },
   {
    "duration": 22,
    "start_time": "2023-10-22T15:47:14.075Z"
   },
   {
    "duration": 24,
    "start_time": "2023-10-22T15:47:14.099Z"
   },
   {
    "duration": 73,
    "start_time": "2023-10-22T15:47:14.125Z"
   },
   {
    "duration": 99,
    "start_time": "2023-10-22T15:47:14.199Z"
   },
   {
    "duration": 54,
    "start_time": "2023-10-22T15:47:14.300Z"
   },
   {
    "duration": 99,
    "start_time": "2023-10-22T15:47:14.356Z"
   },
   {
    "duration": 41,
    "start_time": "2023-10-22T15:47:14.457Z"
   },
   {
    "duration": 45,
    "start_time": "2023-10-22T15:47:14.500Z"
   },
   {
    "duration": 104,
    "start_time": "2023-10-22T15:47:14.547Z"
   },
   {
    "duration": 452,
    "start_time": "2023-10-22T15:47:14.653Z"
   },
   {
    "duration": 7,
    "start_time": "2023-10-22T15:47:15.108Z"
   },
   {
    "duration": 199,
    "start_time": "2023-10-22T15:47:15.124Z"
   },
   {
    "duration": 61,
    "start_time": "2023-10-22T15:47:15.325Z"
   },
   {
    "duration": 48,
    "start_time": "2023-10-22T15:47:15.388Z"
   },
   {
    "duration": 170,
    "start_time": "2023-10-22T15:47:15.438Z"
   },
   {
    "duration": 19,
    "start_time": "2023-10-22T15:47:15.611Z"
   },
   {
    "duration": 145,
    "start_time": "2023-10-22T15:47:15.632Z"
   },
   {
    "duration": 3,
    "start_time": "2023-10-22T15:47:15.779Z"
   },
   {
    "duration": 4,
    "start_time": "2023-10-22T15:47:58.005Z"
   },
   {
    "duration": 6,
    "start_time": "2023-10-22T15:48:03.901Z"
   },
   {
    "duration": 83,
    "start_time": "2023-10-22T15:48:13.500Z"
   },
   {
    "duration": 9,
    "start_time": "2023-10-22T15:48:23.619Z"
   },
   {
    "duration": 5,
    "start_time": "2023-10-22T15:48:55.414Z"
   },
   {
    "duration": 6,
    "start_time": "2023-10-22T15:48:57.285Z"
   },
   {
    "duration": 7,
    "start_time": "2023-10-22T15:49:04.107Z"
   },
   {
    "duration": 18,
    "start_time": "2023-10-22T15:49:10.820Z"
   },
   {
    "duration": 17,
    "start_time": "2023-10-22T15:52:44.720Z"
   },
   {
    "duration": 14,
    "start_time": "2023-10-22T15:52:54.204Z"
   },
   {
    "duration": 8,
    "start_time": "2023-10-22T15:53:49.430Z"
   },
   {
    "duration": 7,
    "start_time": "2023-10-22T15:53:51.950Z"
   },
   {
    "duration": 6,
    "start_time": "2023-10-22T15:54:09.763Z"
   },
   {
    "duration": 459,
    "start_time": "2023-10-22T15:54:20.247Z"
   },
   {
    "duration": 23,
    "start_time": "2023-10-22T15:54:20.708Z"
   },
   {
    "duration": 66,
    "start_time": "2023-10-22T15:54:20.732Z"
   },
   {
    "duration": 13,
    "start_time": "2023-10-22T15:54:20.800Z"
   },
   {
    "duration": 41,
    "start_time": "2023-10-22T15:54:20.815Z"
   },
   {
    "duration": 4,
    "start_time": "2023-10-22T15:54:20.858Z"
   },
   {
    "duration": 16,
    "start_time": "2023-10-22T15:54:20.863Z"
   },
   {
    "duration": 4,
    "start_time": "2023-10-22T15:54:20.882Z"
   },
   {
    "duration": 14,
    "start_time": "2023-10-22T15:54:20.888Z"
   },
   {
    "duration": 20,
    "start_time": "2023-10-22T15:54:20.905Z"
   },
   {
    "duration": 37,
    "start_time": "2023-10-22T15:54:20.928Z"
   },
   {
    "duration": 12,
    "start_time": "2023-10-22T15:54:20.967Z"
   },
   {
    "duration": 4,
    "start_time": "2023-10-22T15:54:20.981Z"
   },
   {
    "duration": 46,
    "start_time": "2023-10-22T15:54:20.986Z"
   },
   {
    "duration": 20,
    "start_time": "2023-10-22T15:54:21.034Z"
   },
   {
    "duration": 17,
    "start_time": "2023-10-22T15:54:21.055Z"
   },
   {
    "duration": 3,
    "start_time": "2023-10-22T15:54:21.074Z"
   },
   {
    "duration": 15,
    "start_time": "2023-10-22T15:54:21.079Z"
   },
   {
    "duration": 35,
    "start_time": "2023-10-22T15:54:21.096Z"
   },
   {
    "duration": 12,
    "start_time": "2023-10-22T15:54:21.133Z"
   },
   {
    "duration": 12,
    "start_time": "2023-10-22T15:54:21.147Z"
   },
   {
    "duration": 18,
    "start_time": "2023-10-22T15:54:21.161Z"
   },
   {
    "duration": 4,
    "start_time": "2023-10-22T15:54:21.181Z"
   },
   {
    "duration": 16,
    "start_time": "2023-10-22T15:54:21.187Z"
   },
   {
    "duration": 27,
    "start_time": "2023-10-22T15:54:21.204Z"
   },
   {
    "duration": 22,
    "start_time": "2023-10-22T15:54:21.233Z"
   },
   {
    "duration": 397,
    "start_time": "2023-10-22T15:54:21.257Z"
   },
   {
    "duration": 11,
    "start_time": "2023-10-22T15:54:21.658Z"
   },
   {
    "duration": 19,
    "start_time": "2023-10-22T15:54:21.671Z"
   },
   {
    "duration": 15,
    "start_time": "2023-10-22T15:54:21.693Z"
   },
   {
    "duration": 9,
    "start_time": "2023-10-22T15:54:21.724Z"
   },
   {
    "duration": 152,
    "start_time": "2023-10-22T15:54:21.735Z"
   },
   {
    "duration": 17,
    "start_time": "2023-10-22T15:54:21.888Z"
   },
   {
    "duration": 153,
    "start_time": "2023-10-22T15:54:21.906Z"
   },
   {
    "duration": 11,
    "start_time": "2023-10-22T15:54:22.068Z"
   },
   {
    "duration": 17,
    "start_time": "2023-10-22T15:54:26.620Z"
   },
   {
    "duration": 7,
    "start_time": "2023-10-22T15:54:53.973Z"
   },
   {
    "duration": 14,
    "start_time": "2023-10-22T15:55:04.141Z"
   },
   {
    "duration": 14,
    "start_time": "2023-10-22T15:55:23.106Z"
   },
   {
    "duration": 6,
    "start_time": "2023-10-22T15:57:09.311Z"
   },
   {
    "duration": 7,
    "start_time": "2023-10-22T15:57:15.281Z"
   },
   {
    "duration": 10,
    "start_time": "2023-10-22T15:58:08.891Z"
   },
   {
    "duration": 12,
    "start_time": "2023-10-22T15:58:45.950Z"
   },
   {
    "duration": 462,
    "start_time": "2023-10-22T16:00:54.232Z"
   },
   {
    "duration": 317,
    "start_time": "2023-10-22T16:01:54.510Z"
   },
   {
    "duration": 15,
    "start_time": "2023-10-22T16:03:36.211Z"
   },
   {
    "duration": 10,
    "start_time": "2023-10-22T16:03:39.303Z"
   },
   {
    "duration": 514,
    "start_time": "2023-10-22T16:05:25.093Z"
   },
   {
    "duration": 613,
    "start_time": "2023-10-22T16:05:27.345Z"
   },
   {
    "duration": 311,
    "start_time": "2023-10-22T16:06:11.026Z"
   },
   {
    "duration": 469,
    "start_time": "2023-10-22T16:06:19.247Z"
   },
   {
    "duration": 25,
    "start_time": "2023-10-22T16:06:19.718Z"
   },
   {
    "duration": 17,
    "start_time": "2023-10-22T16:06:19.744Z"
   },
   {
    "duration": 12,
    "start_time": "2023-10-22T16:06:19.763Z"
   },
   {
    "duration": 59,
    "start_time": "2023-10-22T16:06:19.778Z"
   },
   {
    "duration": 3,
    "start_time": "2023-10-22T16:06:19.839Z"
   },
   {
    "duration": 14,
    "start_time": "2023-10-22T16:06:19.844Z"
   },
   {
    "duration": 13,
    "start_time": "2023-10-22T16:06:19.859Z"
   },
   {
    "duration": 15,
    "start_time": "2023-10-22T16:06:19.873Z"
   },
   {
    "duration": 26,
    "start_time": "2023-10-22T16:06:19.889Z"
   },
   {
    "duration": 51,
    "start_time": "2023-10-22T16:06:19.917Z"
   },
   {
    "duration": 12,
    "start_time": "2023-10-22T16:06:19.970Z"
   },
   {
    "duration": 3,
    "start_time": "2023-10-22T16:06:19.984Z"
   },
   {
    "duration": 12,
    "start_time": "2023-10-22T16:06:19.991Z"
   },
   {
    "duration": 32,
    "start_time": "2023-10-22T16:06:20.004Z"
   },
   {
    "duration": 24,
    "start_time": "2023-10-22T16:06:20.038Z"
   },
   {
    "duration": 3,
    "start_time": "2023-10-22T16:06:20.064Z"
   },
   {
    "duration": 19,
    "start_time": "2023-10-22T16:06:20.069Z"
   },
   {
    "duration": 12,
    "start_time": "2023-10-22T16:06:20.090Z"
   },
   {
    "duration": 21,
    "start_time": "2023-10-22T16:06:20.104Z"
   },
   {
    "duration": 18,
    "start_time": "2023-10-22T16:06:20.127Z"
   },
   {
    "duration": 22,
    "start_time": "2023-10-22T16:06:20.147Z"
   },
   {
    "duration": 6,
    "start_time": "2023-10-22T16:06:20.170Z"
   },
   {
    "duration": 13,
    "start_time": "2023-10-22T16:06:20.178Z"
   },
   {
    "duration": 27,
    "start_time": "2023-10-22T16:06:20.193Z"
   },
   {
    "duration": 12,
    "start_time": "2023-10-22T16:06:20.224Z"
   },
   {
    "duration": 434,
    "start_time": "2023-10-22T16:06:20.238Z"
   },
   {
    "duration": 7,
    "start_time": "2023-10-22T16:06:20.674Z"
   },
   {
    "duration": 19,
    "start_time": "2023-10-22T16:06:20.683Z"
   },
   {
    "duration": 21,
    "start_time": "2023-10-22T16:06:20.704Z"
   },
   {
    "duration": 9,
    "start_time": "2023-10-22T16:06:20.726Z"
   },
   {
    "duration": 153,
    "start_time": "2023-10-22T16:06:20.736Z"
   },
   {
    "duration": 19,
    "start_time": "2023-10-22T16:06:20.891Z"
   },
   {
    "duration": 141,
    "start_time": "2023-10-22T16:06:20.925Z"
   },
   {
    "duration": 6,
    "start_time": "2023-10-22T16:06:21.068Z"
   },
   {
    "duration": 17,
    "start_time": "2023-10-22T16:06:21.076Z"
   },
   {
    "duration": 12,
    "start_time": "2023-10-22T16:06:21.094Z"
   },
   {
    "duration": 7,
    "start_time": "2023-10-22T16:06:21.124Z"
   },
   {
    "duration": 2002,
    "start_time": "2023-10-22T16:06:21.133Z"
   },
   {
    "duration": 4,
    "start_time": "2023-10-22T16:06:39.609Z"
   },
   {
    "duration": 8,
    "start_time": "2023-10-22T16:06:46.856Z"
   },
   {
    "duration": 125,
    "start_time": "2023-10-22T16:07:03.746Z"
   },
   {
    "duration": 12,
    "start_time": "2023-10-22T16:07:18.304Z"
   },
   {
    "duration": 170,
    "start_time": "2023-10-22T16:07:50.848Z"
   },
   {
    "duration": 800,
    "start_time": "2023-10-22T19:52:19.988Z"
   },
   {
    "duration": 39,
    "start_time": "2023-10-22T19:52:20.790Z"
   },
   {
    "duration": 49,
    "start_time": "2023-10-22T19:52:20.832Z"
   },
   {
    "duration": 54,
    "start_time": "2023-10-22T19:52:20.883Z"
   },
   {
    "duration": 54,
    "start_time": "2023-10-22T19:52:20.944Z"
   },
   {
    "duration": 3,
    "start_time": "2023-10-22T19:52:21.000Z"
   },
   {
    "duration": 33,
    "start_time": "2023-10-22T19:52:21.005Z"
   },
   {
    "duration": 10,
    "start_time": "2023-10-22T19:52:21.043Z"
   },
   {
    "duration": 25,
    "start_time": "2023-10-22T19:52:21.056Z"
   },
   {
    "duration": 9,
    "start_time": "2023-10-22T19:52:21.083Z"
   },
   {
    "duration": 72,
    "start_time": "2023-10-22T19:52:21.093Z"
   },
   {
    "duration": 11,
    "start_time": "2023-10-22T19:52:21.167Z"
   },
   {
    "duration": 21,
    "start_time": "2023-10-22T19:52:21.180Z"
   },
   {
    "duration": 37,
    "start_time": "2023-10-22T19:52:21.206Z"
   },
   {
    "duration": 36,
    "start_time": "2023-10-22T19:52:21.246Z"
   },
   {
    "duration": 19,
    "start_time": "2023-10-22T19:52:21.285Z"
   },
   {
    "duration": 12,
    "start_time": "2023-10-22T19:52:21.306Z"
   },
   {
    "duration": 38,
    "start_time": "2023-10-22T19:52:21.320Z"
   },
   {
    "duration": 28,
    "start_time": "2023-10-22T19:52:21.360Z"
   },
   {
    "duration": 40,
    "start_time": "2023-10-22T19:52:21.390Z"
   },
   {
    "duration": 61,
    "start_time": "2023-10-22T19:52:21.432Z"
   },
   {
    "duration": 45,
    "start_time": "2023-10-22T19:52:21.494Z"
   },
   {
    "duration": 13,
    "start_time": "2023-10-22T19:52:21.541Z"
   },
   {
    "duration": 28,
    "start_time": "2023-10-22T19:52:21.556Z"
   },
   {
    "duration": 35,
    "start_time": "2023-10-22T19:52:21.586Z"
   },
   {
    "duration": 29,
    "start_time": "2023-10-22T19:52:21.622Z"
   },
   {
    "duration": 720,
    "start_time": "2023-10-22T19:52:21.653Z"
   },
   {
    "duration": 8,
    "start_time": "2023-10-22T19:52:22.375Z"
   },
   {
    "duration": 45,
    "start_time": "2023-10-22T19:52:22.384Z"
   },
   {
    "duration": 14,
    "start_time": "2023-10-22T19:52:22.438Z"
   },
   {
    "duration": 31,
    "start_time": "2023-10-22T19:52:22.454Z"
   },
   {
    "duration": 189,
    "start_time": "2023-10-22T19:52:22.487Z"
   },
   {
    "duration": 58,
    "start_time": "2023-10-22T19:52:22.679Z"
   },
   {
    "duration": 222,
    "start_time": "2023-10-22T19:52:22.739Z"
   },
   {
    "duration": 10,
    "start_time": "2023-10-22T19:52:22.963Z"
   },
   {
    "duration": 55,
    "start_time": "2023-10-22T19:52:22.975Z"
   },
   {
    "duration": 25,
    "start_time": "2023-10-22T19:52:23.035Z"
   },
   {
    "duration": 16,
    "start_time": "2023-10-22T19:52:23.065Z"
   },
   {
    "duration": 48,
    "start_time": "2023-10-22T19:52:23.083Z"
   },
   {
    "duration": 180,
    "start_time": "2023-10-22T19:52:23.132Z"
   },
   {
    "duration": 733,
    "start_time": "2023-10-23T08:30:44.658Z"
   },
   {
    "duration": 25,
    "start_time": "2023-10-23T08:30:45.394Z"
   },
   {
    "duration": 37,
    "start_time": "2023-10-23T08:30:45.421Z"
   },
   {
    "duration": 29,
    "start_time": "2023-10-23T08:30:45.460Z"
   },
   {
    "duration": 45,
    "start_time": "2023-10-23T08:30:45.490Z"
   },
   {
    "duration": 4,
    "start_time": "2023-10-23T08:30:45.537Z"
   },
   {
    "duration": 22,
    "start_time": "2023-10-23T08:30:45.542Z"
   },
   {
    "duration": 5,
    "start_time": "2023-10-23T08:30:45.565Z"
   },
   {
    "duration": 21,
    "start_time": "2023-10-23T08:30:45.571Z"
   },
   {
    "duration": 5,
    "start_time": "2023-10-23T08:30:45.594Z"
   },
   {
    "duration": 59,
    "start_time": "2023-10-23T08:30:45.600Z"
   },
   {
    "duration": 11,
    "start_time": "2023-10-23T08:30:45.660Z"
   },
   {
    "duration": 11,
    "start_time": "2023-10-23T08:30:45.672Z"
   },
   {
    "duration": 31,
    "start_time": "2023-10-23T08:30:45.684Z"
   },
   {
    "duration": 36,
    "start_time": "2023-10-23T08:30:45.716Z"
   },
   {
    "duration": 31,
    "start_time": "2023-10-23T08:30:45.753Z"
   },
   {
    "duration": 6,
    "start_time": "2023-10-23T08:30:45.786Z"
   },
   {
    "duration": 16,
    "start_time": "2023-10-23T08:30:45.793Z"
   },
   {
    "duration": 5,
    "start_time": "2023-10-23T08:30:45.811Z"
   },
   {
    "duration": 29,
    "start_time": "2023-10-23T08:30:45.818Z"
   },
   {
    "duration": 36,
    "start_time": "2023-10-23T08:30:45.849Z"
   },
   {
    "duration": 34,
    "start_time": "2023-10-23T08:30:45.886Z"
   },
   {
    "duration": 14,
    "start_time": "2023-10-23T08:30:45.922Z"
   },
   {
    "duration": 22,
    "start_time": "2023-10-23T08:30:45.938Z"
   },
   {
    "duration": 43,
    "start_time": "2023-10-23T08:30:45.962Z"
   },
   {
    "duration": 38,
    "start_time": "2023-10-23T08:30:46.007Z"
   },
   {
    "duration": 600,
    "start_time": "2023-10-23T08:30:46.047Z"
   },
   {
    "duration": 8,
    "start_time": "2023-10-23T08:30:46.650Z"
   },
   {
    "duration": 18,
    "start_time": "2023-10-23T08:30:46.660Z"
   },
   {
    "duration": 8,
    "start_time": "2023-10-23T08:30:46.680Z"
   },
   {
    "duration": 15,
    "start_time": "2023-10-23T08:30:46.707Z"
   },
   {
    "duration": 146,
    "start_time": "2023-10-23T08:30:46.723Z"
   },
   {
    "duration": 16,
    "start_time": "2023-10-23T08:30:46.871Z"
   },
   {
    "duration": 149,
    "start_time": "2023-10-23T08:30:46.888Z"
   },
   {
    "duration": 7,
    "start_time": "2023-10-23T08:30:47.038Z"
   },
   {
    "duration": 35,
    "start_time": "2023-10-23T08:30:47.046Z"
   },
   {
    "duration": 29,
    "start_time": "2023-10-23T08:30:47.083Z"
   },
   {
    "duration": 21,
    "start_time": "2023-10-23T08:30:47.114Z"
   },
   {
    "duration": 29,
    "start_time": "2023-10-23T08:30:47.137Z"
   },
   {
    "duration": 164,
    "start_time": "2023-10-23T08:30:47.168Z"
   },
   {
    "duration": 137,
    "start_time": "2023-10-23T08:36:46.016Z"
   },
   {
    "duration": 140,
    "start_time": "2023-10-23T08:37:02.810Z"
   },
   {
    "duration": 26,
    "start_time": "2023-10-23T08:37:08.903Z"
   },
   {
    "duration": 509,
    "start_time": "2023-10-23T08:54:47.951Z"
   },
   {
    "duration": 22,
    "start_time": "2023-10-23T08:54:48.462Z"
   },
   {
    "duration": 32,
    "start_time": "2023-10-23T08:54:48.486Z"
   },
   {
    "duration": 11,
    "start_time": "2023-10-23T08:54:48.520Z"
   },
   {
    "duration": 47,
    "start_time": "2023-10-23T08:54:48.533Z"
   },
   {
    "duration": 56,
    "start_time": "2023-10-23T08:54:48.582Z"
   },
   {
    "duration": 30,
    "start_time": "2023-10-23T08:54:48.640Z"
   },
   {
    "duration": 4,
    "start_time": "2023-10-23T08:54:48.671Z"
   },
   {
    "duration": 12,
    "start_time": "2023-10-23T08:54:48.677Z"
   },
   {
    "duration": 6,
    "start_time": "2023-10-23T08:54:48.691Z"
   },
   {
    "duration": 35,
    "start_time": "2023-10-23T08:54:48.698Z"
   },
   {
    "duration": 10,
    "start_time": "2023-10-23T08:54:48.734Z"
   },
   {
    "duration": 17,
    "start_time": "2023-10-23T08:54:48.746Z"
   },
   {
    "duration": 22,
    "start_time": "2023-10-23T08:54:48.764Z"
   },
   {
    "duration": 19,
    "start_time": "2023-10-23T08:54:48.787Z"
   },
   {
    "duration": 17,
    "start_time": "2023-10-23T08:54:48.807Z"
   },
   {
    "duration": 4,
    "start_time": "2023-10-23T08:54:48.825Z"
   },
   {
    "duration": 25,
    "start_time": "2023-10-23T08:54:48.830Z"
   },
   {
    "duration": 14,
    "start_time": "2023-10-23T08:54:48.857Z"
   },
   {
    "duration": 7,
    "start_time": "2023-10-23T08:54:48.873Z"
   },
   {
    "duration": 21,
    "start_time": "2023-10-23T08:54:48.882Z"
   },
   {
    "duration": 16,
    "start_time": "2023-10-23T08:54:48.905Z"
   },
   {
    "duration": 7,
    "start_time": "2023-10-23T08:54:48.923Z"
   },
   {
    "duration": 35,
    "start_time": "2023-10-23T08:54:48.932Z"
   },
   {
    "duration": 24,
    "start_time": "2023-10-23T08:54:48.969Z"
   },
   {
    "duration": 21,
    "start_time": "2023-10-23T08:54:48.995Z"
   },
   {
    "duration": 402,
    "start_time": "2023-10-23T08:54:49.018Z"
   },
   {
    "duration": 8,
    "start_time": "2023-10-23T08:54:49.423Z"
   },
   {
    "duration": 25,
    "start_time": "2023-10-23T08:54:49.433Z"
   },
   {
    "duration": 23,
    "start_time": "2023-10-23T08:54:49.459Z"
   },
   {
    "duration": 31,
    "start_time": "2023-10-23T08:54:49.484Z"
   },
   {
    "duration": 141,
    "start_time": "2023-10-23T08:54:49.517Z"
   },
   {
    "duration": 18,
    "start_time": "2023-10-23T08:54:49.660Z"
   },
   {
    "duration": 160,
    "start_time": "2023-10-23T08:54:49.679Z"
   },
   {
    "duration": 7,
    "start_time": "2023-10-23T08:54:49.841Z"
   },
   {
    "duration": 20,
    "start_time": "2023-10-23T08:54:49.850Z"
   },
   {
    "duration": 31,
    "start_time": "2023-10-23T08:54:49.871Z"
   },
   {
    "duration": 13,
    "start_time": "2023-10-23T08:54:49.904Z"
   },
   {
    "duration": 15,
    "start_time": "2023-10-23T08:54:49.919Z"
   },
   {
    "duration": 161,
    "start_time": "2023-10-23T08:54:49.936Z"
   },
   {
    "duration": 47,
    "start_time": "2023-10-23T13:00:11.044Z"
   },
   {
    "duration": 7,
    "start_time": "2023-10-23T13:00:35.957Z"
   },
   {
    "duration": 6,
    "start_time": "2023-10-23T13:00:38.950Z"
   },
   {
    "duration": 7,
    "start_time": "2023-10-23T13:00:51.562Z"
   },
   {
    "duration": 736,
    "start_time": "2023-10-23T13:01:02.770Z"
   },
   {
    "duration": 24,
    "start_time": "2023-10-23T13:01:03.509Z"
   },
   {
    "duration": 29,
    "start_time": "2023-10-23T13:01:03.535Z"
   },
   {
    "duration": 43,
    "start_time": "2023-10-23T13:01:03.566Z"
   },
   {
    "duration": 65,
    "start_time": "2023-10-23T13:01:03.611Z"
   },
   {
    "duration": 4,
    "start_time": "2023-10-23T13:01:03.678Z"
   },
   {
    "duration": 30,
    "start_time": "2023-10-23T13:01:03.684Z"
   },
   {
    "duration": 42,
    "start_time": "2023-10-23T13:01:03.716Z"
   },
   {
    "duration": 60,
    "start_time": "2023-10-23T13:01:03.760Z"
   },
   {
    "duration": 107,
    "start_time": "2023-10-23T13:01:03.823Z"
   },
   {
    "duration": 87,
    "start_time": "2023-10-23T13:01:03.932Z"
   },
   {
    "duration": 49,
    "start_time": "2023-10-23T13:01:04.021Z"
   },
   {
    "duration": 38,
    "start_time": "2023-10-23T13:01:04.072Z"
   },
   {
    "duration": 81,
    "start_time": "2023-10-23T13:01:04.113Z"
   },
   {
    "duration": 65,
    "start_time": "2023-10-23T13:01:04.197Z"
   },
   {
    "duration": 44,
    "start_time": "2023-10-23T13:01:04.264Z"
   },
   {
    "duration": 12,
    "start_time": "2023-10-23T13:01:04.310Z"
   },
   {
    "duration": 44,
    "start_time": "2023-10-23T13:01:04.324Z"
   },
   {
    "duration": 8,
    "start_time": "2023-10-23T13:01:04.370Z"
   },
   {
    "duration": 26,
    "start_time": "2023-10-23T13:01:04.380Z"
   },
   {
    "duration": 33,
    "start_time": "2023-10-23T13:01:04.408Z"
   },
   {
    "duration": 39,
    "start_time": "2023-10-23T13:01:04.443Z"
   },
   {
    "duration": 29,
    "start_time": "2023-10-23T13:01:04.485Z"
   },
   {
    "duration": 37,
    "start_time": "2023-10-23T13:01:04.516Z"
   },
   {
    "duration": 47,
    "start_time": "2023-10-23T13:01:04.555Z"
   },
   {
    "duration": 44,
    "start_time": "2023-10-23T13:01:04.603Z"
   },
   {
    "duration": 623,
    "start_time": "2023-10-23T13:01:04.648Z"
   },
   {
    "duration": 7,
    "start_time": "2023-10-23T13:01:05.276Z"
   },
   {
    "duration": 67,
    "start_time": "2023-10-23T13:01:05.285Z"
   },
   {
    "duration": 59,
    "start_time": "2023-10-23T13:01:05.353Z"
   },
   {
    "duration": 53,
    "start_time": "2023-10-23T13:01:05.414Z"
   },
   {
    "duration": 227,
    "start_time": "2023-10-23T13:01:05.469Z"
   },
   {
    "duration": 20,
    "start_time": "2023-10-23T13:01:05.698Z"
   },
   {
    "duration": 185,
    "start_time": "2023-10-23T13:01:05.719Z"
   },
   {
    "duration": 7,
    "start_time": "2023-10-23T13:01:05.907Z"
   },
   {
    "duration": 43,
    "start_time": "2023-10-23T13:01:05.915Z"
   },
   {
    "duration": 69,
    "start_time": "2023-10-23T13:01:05.960Z"
   },
   {
    "duration": 63,
    "start_time": "2023-10-23T13:01:06.032Z"
   },
   {
    "duration": 67,
    "start_time": "2023-10-23T13:01:06.097Z"
   },
   {
    "duration": 244,
    "start_time": "2023-10-23T13:01:06.166Z"
   },
   {
    "duration": 26,
    "start_time": "2023-10-23T13:01:27.189Z"
   },
   {
    "duration": 204,
    "start_time": "2023-10-23T13:01:45.732Z"
   },
   {
    "duration": 503,
    "start_time": "2023-10-23T13:02:06.188Z"
   },
   {
    "duration": 23,
    "start_time": "2023-10-23T13:02:06.693Z"
   },
   {
    "duration": 16,
    "start_time": "2023-10-23T13:02:06.717Z"
   },
   {
    "duration": 12,
    "start_time": "2023-10-23T13:02:06.736Z"
   },
   {
    "duration": 57,
    "start_time": "2023-10-23T13:02:06.750Z"
   },
   {
    "duration": 4,
    "start_time": "2023-10-23T13:02:06.809Z"
   },
   {
    "duration": 20,
    "start_time": "2023-10-23T13:02:06.815Z"
   },
   {
    "duration": 5,
    "start_time": "2023-10-23T13:02:06.837Z"
   },
   {
    "duration": 51,
    "start_time": "2023-10-23T13:02:06.845Z"
   },
   {
    "duration": 4,
    "start_time": "2023-10-23T13:02:06.900Z"
   },
   {
    "duration": 44,
    "start_time": "2023-10-23T13:02:06.906Z"
   },
   {
    "duration": 20,
    "start_time": "2023-10-23T13:02:06.952Z"
   },
   {
    "duration": 6,
    "start_time": "2023-10-23T13:02:06.974Z"
   },
   {
    "duration": 14,
    "start_time": "2023-10-23T13:02:06.982Z"
   },
   {
    "duration": 27,
    "start_time": "2023-10-23T13:02:06.998Z"
   },
   {
    "duration": 22,
    "start_time": "2023-10-23T13:02:07.027Z"
   },
   {
    "duration": 7,
    "start_time": "2023-10-23T13:02:07.051Z"
   },
   {
    "duration": 46,
    "start_time": "2023-10-23T13:02:07.060Z"
   },
   {
    "duration": 42,
    "start_time": "2023-10-23T13:02:07.108Z"
   },
   {
    "duration": 23,
    "start_time": "2023-10-23T13:02:07.152Z"
   },
   {
    "duration": 35,
    "start_time": "2023-10-23T13:02:07.176Z"
   },
   {
    "duration": 53,
    "start_time": "2023-10-23T13:02:07.213Z"
   },
   {
    "duration": 5,
    "start_time": "2023-10-23T13:02:07.268Z"
   },
   {
    "duration": 30,
    "start_time": "2023-10-23T13:02:07.274Z"
   },
   {
    "duration": 25,
    "start_time": "2023-10-23T13:02:07.307Z"
   },
   {
    "duration": 34,
    "start_time": "2023-10-23T13:02:07.334Z"
   },
   {
    "duration": 404,
    "start_time": "2023-10-23T13:02:07.370Z"
   },
   {
    "duration": 8,
    "start_time": "2023-10-23T13:02:07.778Z"
   },
   {
    "duration": 34,
    "start_time": "2023-10-23T13:02:07.787Z"
   },
   {
    "duration": 8,
    "start_time": "2023-10-23T13:02:07.822Z"
   },
   {
    "duration": 13,
    "start_time": "2023-10-23T13:02:07.831Z"
   },
   {
    "duration": 156,
    "start_time": "2023-10-23T13:02:07.845Z"
   },
   {
    "duration": 16,
    "start_time": "2023-10-23T13:02:08.002Z"
   },
   {
    "duration": 155,
    "start_time": "2023-10-23T13:02:08.020Z"
   },
   {
    "duration": 7,
    "start_time": "2023-10-23T13:02:08.176Z"
   },
   {
    "duration": 41,
    "start_time": "2023-10-23T13:02:08.186Z"
   },
   {
    "duration": 38,
    "start_time": "2023-10-23T13:02:08.228Z"
   },
   {
    "duration": 32,
    "start_time": "2023-10-23T13:02:08.268Z"
   },
   {
    "duration": 41,
    "start_time": "2023-10-23T13:02:08.302Z"
   },
   {
    "duration": 148,
    "start_time": "2023-10-23T13:02:08.344Z"
   },
   {
    "duration": 130,
    "start_time": "2023-10-23T13:02:23.117Z"
   },
   {
    "duration": 685,
    "start_time": "2023-10-23T15:00:07.209Z"
   },
   {
    "duration": 21,
    "start_time": "2023-10-23T15:00:07.896Z"
   },
   {
    "duration": 13,
    "start_time": "2023-10-23T15:00:07.918Z"
   },
   {
    "duration": 38,
    "start_time": "2023-10-23T15:00:07.932Z"
   },
   {
    "duration": 32,
    "start_time": "2023-10-23T15:00:07.978Z"
   },
   {
    "duration": 4,
    "start_time": "2023-10-23T15:00:08.011Z"
   },
   {
    "duration": 18,
    "start_time": "2023-10-23T15:00:08.016Z"
   },
   {
    "duration": 7,
    "start_time": "2023-10-23T15:00:08.035Z"
   },
   {
    "duration": 23,
    "start_time": "2023-10-23T15:00:08.045Z"
   },
   {
    "duration": 5,
    "start_time": "2023-10-23T15:00:08.069Z"
   },
   {
    "duration": 34,
    "start_time": "2023-10-23T15:00:08.077Z"
   },
   {
    "duration": 8,
    "start_time": "2023-10-23T15:00:08.112Z"
   },
   {
    "duration": 4,
    "start_time": "2023-10-23T15:00:08.122Z"
   },
   {
    "duration": 38,
    "start_time": "2023-10-23T15:00:08.129Z"
   },
   {
    "duration": 21,
    "start_time": "2023-10-23T15:00:08.169Z"
   },
   {
    "duration": 18,
    "start_time": "2023-10-23T15:00:08.191Z"
   },
   {
    "duration": 3,
    "start_time": "2023-10-23T15:00:08.210Z"
   },
   {
    "duration": 10,
    "start_time": "2023-10-23T15:00:08.215Z"
   },
   {
    "duration": 9,
    "start_time": "2023-10-23T15:00:08.226Z"
   },
   {
    "duration": 19,
    "start_time": "2023-10-23T15:00:08.249Z"
   },
   {
    "duration": 13,
    "start_time": "2023-10-23T15:00:08.277Z"
   },
   {
    "duration": 14,
    "start_time": "2023-10-23T15:00:08.292Z"
   },
   {
    "duration": 4,
    "start_time": "2023-10-23T15:00:08.308Z"
   },
   {
    "duration": 10,
    "start_time": "2023-10-23T15:00:08.314Z"
   },
   {
    "duration": 45,
    "start_time": "2023-10-23T15:00:08.326Z"
   },
   {
    "duration": 24,
    "start_time": "2023-10-23T15:00:08.374Z"
   },
   {
    "duration": 1089,
    "start_time": "2023-10-23T15:00:08.399Z"
   },
   {
    "duration": 66,
    "start_time": "2023-10-23T15:00:09.490Z"
   },
   {
    "duration": 21,
    "start_time": "2023-10-23T15:00:09.558Z"
   },
   {
    "duration": 7,
    "start_time": "2023-10-23T15:00:09.581Z"
   },
   {
    "duration": 54,
    "start_time": "2023-10-23T15:00:09.590Z"
   },
   {
    "duration": 446,
    "start_time": "2023-10-23T15:00:09.646Z"
   },
   {
    "duration": 55,
    "start_time": "2023-10-23T15:00:10.101Z"
   },
   {
    "duration": 309,
    "start_time": "2023-10-23T15:00:10.163Z"
   },
   {
    "duration": 10,
    "start_time": "2023-10-23T15:00:10.473Z"
   },
   {
    "duration": 81,
    "start_time": "2023-10-23T15:00:10.485Z"
   },
   {
    "duration": 25,
    "start_time": "2023-10-23T15:00:10.568Z"
   },
   {
    "duration": 70,
    "start_time": "2023-10-23T15:00:10.594Z"
   },
   {
    "duration": 15,
    "start_time": "2023-10-23T15:00:10.665Z"
   },
   {
    "duration": 224,
    "start_time": "2023-10-23T15:00:10.682Z"
   },
   {
    "duration": 577,
    "start_time": "2023-10-23T17:19:31.791Z"
   },
   {
    "duration": 27,
    "start_time": "2023-10-23T17:19:32.371Z"
   },
   {
    "duration": 34,
    "start_time": "2023-10-23T17:19:32.399Z"
   },
   {
    "duration": 19,
    "start_time": "2023-10-23T17:19:32.436Z"
   },
   {
    "duration": 52,
    "start_time": "2023-10-23T17:19:32.457Z"
   },
   {
    "duration": 8,
    "start_time": "2023-10-23T17:19:32.511Z"
   },
   {
    "duration": 19,
    "start_time": "2023-10-23T17:19:32.521Z"
   },
   {
    "duration": 21,
    "start_time": "2023-10-23T17:19:32.543Z"
   },
   {
    "duration": 26,
    "start_time": "2023-10-23T17:19:32.567Z"
   },
   {
    "duration": 15,
    "start_time": "2023-10-23T17:19:32.598Z"
   },
   {
    "duration": 69,
    "start_time": "2023-10-23T17:19:32.616Z"
   },
   {
    "duration": 45,
    "start_time": "2023-10-23T17:19:32.687Z"
   },
   {
    "duration": 33,
    "start_time": "2023-10-23T17:19:32.733Z"
   },
   {
    "duration": 20,
    "start_time": "2023-10-23T17:19:32.768Z"
   },
   {
    "duration": 88,
    "start_time": "2023-10-23T17:19:32.790Z"
   },
   {
    "duration": 45,
    "start_time": "2023-10-23T17:19:32.880Z"
   },
   {
    "duration": 6,
    "start_time": "2023-10-23T17:19:32.927Z"
   },
   {
    "duration": 41,
    "start_time": "2023-10-23T17:19:32.934Z"
   },
   {
    "duration": 76,
    "start_time": "2023-10-23T17:19:32.978Z"
   },
   {
    "duration": 147,
    "start_time": "2023-10-23T17:19:33.057Z"
   },
   {
    "duration": 46,
    "start_time": "2023-10-23T17:19:33.206Z"
   },
   {
    "duration": 39,
    "start_time": "2023-10-23T17:19:33.255Z"
   },
   {
    "duration": 11,
    "start_time": "2023-10-23T17:19:33.296Z"
   },
   {
    "duration": 39,
    "start_time": "2023-10-23T17:19:33.309Z"
   },
   {
    "duration": 23,
    "start_time": "2023-10-23T17:19:33.350Z"
   },
   {
    "duration": 49,
    "start_time": "2023-10-23T17:19:33.375Z"
   },
   {
    "duration": 750,
    "start_time": "2023-10-23T17:19:33.426Z"
   },
   {
    "duration": 8,
    "start_time": "2023-10-23T17:19:34.180Z"
   },
   {
    "duration": 55,
    "start_time": "2023-10-23T17:19:34.190Z"
   },
   {
    "duration": 46,
    "start_time": "2023-10-23T17:19:34.247Z"
   },
   {
    "duration": 74,
    "start_time": "2023-10-23T17:19:34.294Z"
   },
   {
    "duration": 174,
    "start_time": "2023-10-23T17:19:34.370Z"
   },
   {
    "duration": 55,
    "start_time": "2023-10-23T17:19:34.545Z"
   },
   {
    "duration": 186,
    "start_time": "2023-10-23T17:19:34.602Z"
   },
   {
    "duration": 8,
    "start_time": "2023-10-23T17:19:34.790Z"
   },
   {
    "duration": 25,
    "start_time": "2023-10-23T17:19:34.800Z"
   },
   {
    "duration": 42,
    "start_time": "2023-10-23T17:19:34.828Z"
   },
   {
    "duration": 19,
    "start_time": "2023-10-23T17:19:34.872Z"
   },
   {
    "duration": 29,
    "start_time": "2023-10-23T17:19:34.893Z"
   },
   {
    "duration": 186,
    "start_time": "2023-10-23T17:19:34.924Z"
   },
   {
    "duration": 536,
    "start_time": "2023-10-23T17:21:19.649Z"
   },
   {
    "duration": 27,
    "start_time": "2023-10-23T17:21:20.187Z"
   },
   {
    "duration": 63,
    "start_time": "2023-10-23T17:21:20.216Z"
   },
   {
    "duration": 32,
    "start_time": "2023-10-23T17:21:20.281Z"
   },
   {
    "duration": 75,
    "start_time": "2023-10-23T17:21:20.316Z"
   },
   {
    "duration": 4,
    "start_time": "2023-10-23T17:21:20.393Z"
   },
   {
    "duration": 23,
    "start_time": "2023-10-23T17:21:20.398Z"
   },
   {
    "duration": 5,
    "start_time": "2023-10-23T17:21:20.423Z"
   },
   {
    "duration": 26,
    "start_time": "2023-10-23T17:21:20.430Z"
   },
   {
    "duration": 34,
    "start_time": "2023-10-23T17:21:20.460Z"
   },
   {
    "duration": 58,
    "start_time": "2023-10-23T17:21:20.496Z"
   },
   {
    "duration": 12,
    "start_time": "2023-10-23T17:21:20.556Z"
   },
   {
    "duration": 5,
    "start_time": "2023-10-23T17:21:20.569Z"
   },
   {
    "duration": 20,
    "start_time": "2023-10-23T17:21:20.575Z"
   },
   {
    "duration": 36,
    "start_time": "2023-10-23T17:21:20.597Z"
   },
   {
    "duration": 29,
    "start_time": "2023-10-23T17:21:20.635Z"
   },
   {
    "duration": 4,
    "start_time": "2023-10-23T17:21:20.667Z"
   },
   {
    "duration": 25,
    "start_time": "2023-10-23T17:21:20.673Z"
   },
   {
    "duration": 9,
    "start_time": "2023-10-23T17:21:20.701Z"
   },
   {
    "duration": 11,
    "start_time": "2023-10-23T17:21:20.712Z"
   },
   {
    "duration": 10,
    "start_time": "2023-10-23T17:21:20.725Z"
   },
   {
    "duration": 15,
    "start_time": "2023-10-23T17:21:20.756Z"
   },
   {
    "duration": 13,
    "start_time": "2023-10-23T17:21:20.773Z"
   },
   {
    "duration": 33,
    "start_time": "2023-10-23T17:21:20.788Z"
   },
   {
    "duration": 31,
    "start_time": "2023-10-23T17:21:20.823Z"
   },
   {
    "duration": 64,
    "start_time": "2023-10-23T17:21:20.855Z"
   },
   {
    "duration": 501,
    "start_time": "2023-10-23T17:21:20.921Z"
   },
   {
    "duration": 8,
    "start_time": "2023-10-23T17:21:21.425Z"
   },
   {
    "duration": 28,
    "start_time": "2023-10-23T17:21:21.435Z"
   },
   {
    "duration": 15,
    "start_time": "2023-10-23T17:21:21.465Z"
   },
   {
    "duration": 21,
    "start_time": "2023-10-23T17:21:21.482Z"
   },
   {
    "duration": 161,
    "start_time": "2023-10-23T17:21:21.505Z"
   },
   {
    "duration": 17,
    "start_time": "2023-10-23T17:21:21.668Z"
   },
   {
    "duration": 155,
    "start_time": "2023-10-23T17:21:21.686Z"
   },
   {
    "duration": 13,
    "start_time": "2023-10-23T17:21:21.843Z"
   },
   {
    "duration": 30,
    "start_time": "2023-10-23T17:21:21.859Z"
   },
   {
    "duration": 31,
    "start_time": "2023-10-23T17:21:21.891Z"
   },
   {
    "duration": 15,
    "start_time": "2023-10-23T17:21:21.923Z"
   },
   {
    "duration": 26,
    "start_time": "2023-10-23T17:21:21.940Z"
   },
   {
    "duration": 149,
    "start_time": "2023-10-23T17:21:21.968Z"
   },
   {
    "duration": 897,
    "start_time": "2023-10-23T19:37:20.495Z"
   },
   {
    "duration": 25,
    "start_time": "2023-10-23T19:37:21.394Z"
   },
   {
    "duration": 122,
    "start_time": "2023-10-23T19:37:21.421Z"
   },
   {
    "duration": 73,
    "start_time": "2023-10-23T19:37:21.545Z"
   },
   {
    "duration": 45,
    "start_time": "2023-10-23T19:37:21.620Z"
   },
   {
    "duration": 4,
    "start_time": "2023-10-23T19:37:21.666Z"
   },
   {
    "duration": 36,
    "start_time": "2023-10-23T19:37:21.671Z"
   },
   {
    "duration": 9,
    "start_time": "2023-10-23T19:37:21.709Z"
   },
   {
    "duration": 36,
    "start_time": "2023-10-23T19:37:21.719Z"
   },
   {
    "duration": 47,
    "start_time": "2023-10-23T19:37:21.758Z"
   },
   {
    "duration": 84,
    "start_time": "2023-10-23T19:37:21.807Z"
   },
   {
    "duration": 15,
    "start_time": "2023-10-23T19:37:21.894Z"
   },
   {
    "duration": 20,
    "start_time": "2023-10-23T19:37:21.911Z"
   },
   {
    "duration": 26,
    "start_time": "2023-10-23T19:37:21.934Z"
   },
   {
    "duration": 29,
    "start_time": "2023-10-23T19:37:21.962Z"
   },
   {
    "duration": 37,
    "start_time": "2023-10-23T19:37:21.993Z"
   },
   {
    "duration": 4,
    "start_time": "2023-10-23T19:37:22.031Z"
   },
   {
    "duration": 17,
    "start_time": "2023-10-23T19:37:22.038Z"
   },
   {
    "duration": 9,
    "start_time": "2023-10-23T19:37:22.057Z"
   },
   {
    "duration": 5,
    "start_time": "2023-10-23T19:37:22.068Z"
   },
   {
    "duration": 17,
    "start_time": "2023-10-23T19:37:22.075Z"
   },
   {
    "duration": 44,
    "start_time": "2023-10-23T19:37:22.093Z"
   },
   {
    "duration": 5,
    "start_time": "2023-10-23T19:37:22.139Z"
   },
   {
    "duration": 12,
    "start_time": "2023-10-23T19:37:22.145Z"
   },
   {
    "duration": 32,
    "start_time": "2023-10-23T19:37:22.159Z"
   },
   {
    "duration": 35,
    "start_time": "2023-10-23T19:37:22.193Z"
   },
   {
    "duration": 638,
    "start_time": "2023-10-23T19:37:22.230Z"
   },
   {
    "duration": 9,
    "start_time": "2023-10-23T19:37:22.872Z"
   },
   {
    "duration": 28,
    "start_time": "2023-10-23T19:37:22.883Z"
   },
   {
    "duration": 27,
    "start_time": "2023-10-23T19:37:22.912Z"
   },
   {
    "duration": 46,
    "start_time": "2023-10-23T19:37:22.941Z"
   },
   {
    "duration": 188,
    "start_time": "2023-10-23T19:37:22.989Z"
   },
   {
    "duration": 17,
    "start_time": "2023-10-23T19:37:23.180Z"
   },
   {
    "duration": 164,
    "start_time": "2023-10-23T19:37:23.199Z"
   },
   {
    "duration": 7,
    "start_time": "2023-10-23T19:37:23.365Z"
   },
   {
    "duration": 28,
    "start_time": "2023-10-23T19:37:23.374Z"
   },
   {
    "duration": 31,
    "start_time": "2023-10-23T19:37:23.404Z"
   },
   {
    "duration": 34,
    "start_time": "2023-10-23T19:37:23.437Z"
   },
   {
    "duration": 20,
    "start_time": "2023-10-23T19:37:23.473Z"
   },
   {
    "duration": 158,
    "start_time": "2023-10-23T19:37:23.494Z"
   }
  ],
  "colab": {
   "provenance": []
  },
  "kernelspec": {
   "display_name": "Python 3 (ipykernel)",
   "language": "python",
   "name": "python3"
  },
  "language_info": {
   "codemirror_mode": {
    "name": "ipython",
    "version": 3
   },
   "file_extension": ".py",
   "mimetype": "text/x-python",
   "name": "python",
   "nbconvert_exporter": "python",
   "pygments_lexer": "ipython3",
   "version": "3.9.5"
  },
  "toc": {
   "base_numbering": 1,
   "nav_menu": {},
   "number_sections": true,
   "sideBar": true,
   "skip_h1_title": true,
   "title_cell": "Table of Contents",
   "title_sidebar": "Contents",
   "toc_cell": false,
   "toc_position": {},
   "toc_section_display": true,
   "toc_window_display": true
  }
 },
 "nbformat": 4,
 "nbformat_minor": 5
}
